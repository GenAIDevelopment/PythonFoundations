{
 "cells": [
  {
   "cell_type": "code",
   "execution_count": 2,
   "id": "22905e07",
   "metadata": {},
   "outputs": [],
   "source": [
    "from datetime import date"
   ]
  },
  {
   "cell_type": "code",
   "execution_count": 8,
   "id": "e6a00149",
   "metadata": {},
   "outputs": [
    {
     "name": "stdout",
     "output_type": "stream",
     "text": [
      "2025-10-09\n",
      "day => 9, month => 10, year => 2025\n"
     ]
    }
   ],
   "source": [
    "x = date(2025,10,9)\n",
    "print(x.today())\n",
    "print(f\"day => {x.day}, month => {x.month}, year => {x.year}\")"
   ]
  },
  {
   "cell_type": "code",
   "execution_count": 9,
   "id": "c9b7da45",
   "metadata": {},
   "outputs": [
    {
     "data": {
      "text/plain": [
       "datetime.date(2025, 10, 9)"
      ]
     },
     "execution_count": 9,
     "metadata": {},
     "output_type": "execute_result"
    }
   ],
   "source": [
    "x"
   ]
  },
  {
   "cell_type": "markdown",
   "id": "fc164c78",
   "metadata": {},
   "source": [
    "### Converting date into string"
   ]
  },
  {
   "cell_type": "code",
   "execution_count": 10,
   "id": "f891212a",
   "metadata": {},
   "outputs": [
    {
     "data": {
      "text/plain": [
       "'2025-10-09'"
      ]
     },
     "execution_count": 10,
     "metadata": {},
     "output_type": "execute_result"
    }
   ],
   "source": [
    "str(x)"
   ]
  },
  {
   "cell_type": "code",
   "execution_count": 13,
   "id": "5e3cdcad",
   "metadata": {},
   "outputs": [
    {
     "data": {
      "text/plain": [
       "'09/10/2025'"
      ]
     },
     "execution_count": 13,
     "metadata": {},
     "output_type": "execute_result"
    }
   ],
   "source": [
    "x.strftime(\"%d/%m/%Y\")"
   ]
  },
  {
   "cell_type": "code",
   "execution_count": 14,
   "id": "a22ba52d",
   "metadata": {},
   "outputs": [
    {
     "data": {
      "text/plain": [
       "'09-10-2025'"
      ]
     },
     "execution_count": 14,
     "metadata": {},
     "output_type": "execute_result"
    }
   ],
   "source": [
    "x.strftime(\"%d-%m-%Y\")"
   ]
  },
  {
   "cell_type": "code",
   "execution_count": 15,
   "id": "cca55519",
   "metadata": {},
   "outputs": [
    {
     "data": {
      "text/plain": [
       "'09-October-2025'"
      ]
     },
     "execution_count": 15,
     "metadata": {},
     "output_type": "execute_result"
    }
   ],
   "source": [
    "x.strftime(\"%d-%B-%Y\")"
   ]
  },
  {
   "cell_type": "code",
   "execution_count": 17,
   "id": "f224e9fc",
   "metadata": {},
   "outputs": [
    {
     "data": {
      "text/plain": [
       "'Thursday'"
      ]
     },
     "execution_count": 17,
     "metadata": {},
     "output_type": "execute_result"
    }
   ],
   "source": [
    "x.strftime(\"%A\")"
   ]
  },
  {
   "cell_type": "code",
   "execution_count": 18,
   "id": "04991a88",
   "metadata": {},
   "outputs": [
    {
     "data": {
      "text/plain": [
       "'08:28:00'"
      ]
     },
     "execution_count": 18,
     "metadata": {},
     "output_type": "execute_result"
    }
   ],
   "source": [
    "from datetime import time\n",
    "\n",
    "y = time(hour=8,minute=28)\n",
    "str(y)"
   ]
  },
  {
   "cell_type": "code",
   "execution_count": 19,
   "id": "de6e5ca6",
   "metadata": {},
   "outputs": [],
   "source": [
    "from datetime import datetime"
   ]
  },
  {
   "cell_type": "code",
   "execution_count": null,
   "id": "f963b520",
   "metadata": {},
   "outputs": [
    {
     "data": {
      "text/plain": [
       "datetime.datetime(2025, 10, 9, 8, 29, 14, 781562)"
      ]
     },
     "execution_count": 20,
     "metadata": {},
     "output_type": "execute_result"
    }
   ],
   "source": [
    "# systems time\n",
    "datetime.now()"
   ]
  },
  {
   "cell_type": "code",
   "execution_count": 21,
   "id": "489dcfd6",
   "metadata": {},
   "outputs": [
    {
     "data": {
      "text/plain": [
       "datetime.datetime(2025, 10, 9, 3, 0, 2, 629571)"
      ]
     },
     "execution_count": 21,
     "metadata": {},
     "output_type": "execute_result"
    }
   ],
   "source": [
    "datetime.utcnow()"
   ]
  },
  {
   "cell_type": "code",
   "execution_count": 22,
   "id": "ae54115e",
   "metadata": {},
   "outputs": [],
   "source": [
    "when = datetime.now()"
   ]
  },
  {
   "cell_type": "code",
   "execution_count": 23,
   "id": "753cfd9e",
   "metadata": {},
   "outputs": [
    {
     "data": {
      "text/plain": [
       "'2025 Thursday 08'"
      ]
     },
     "execution_count": 23,
     "metadata": {},
     "output_type": "execute_result"
    }
   ],
   "source": [
    "when.strftime(\"%Y %A %H\")"
   ]
  },
  {
   "cell_type": "markdown",
   "id": "bfe748d5",
   "metadata": {},
   "source": [
    "## Converting string into date time"
   ]
  },
  {
   "cell_type": "code",
   "execution_count": 25,
   "id": "28f4b50a",
   "metadata": {},
   "outputs": [],
   "source": [
    "when_in_string = \"10-10-23\""
   ]
  },
  {
   "cell_type": "code",
   "execution_count": 27,
   "id": "943313f7",
   "metadata": {},
   "outputs": [
    {
     "data": {
      "text/plain": [
       "datetime.datetime(2023, 10, 10, 0, 0)"
      ]
     },
     "execution_count": 27,
     "metadata": {},
     "output_type": "execute_result"
    }
   ],
   "source": [
    "datetime.strptime(when_in_string, \"%d-%m-%y\")"
   ]
  },
  {
   "cell_type": "code",
   "execution_count": 28,
   "id": "d7235ef2",
   "metadata": {},
   "outputs": [],
   "source": [
    "when_in_string = \"10-10-23 16:00:00\""
   ]
  },
  {
   "cell_type": "code",
   "execution_count": 29,
   "id": "55148c55",
   "metadata": {},
   "outputs": [
    {
     "data": {
      "text/plain": [
       "datetime.datetime(2023, 10, 10, 16, 0)"
      ]
     },
     "execution_count": 29,
     "metadata": {},
     "output_type": "execute_result"
    }
   ],
   "source": [
    "datetime.strptime(when_in_string, \"%d-%m-%y %H:%M:%S\")"
   ]
  },
  {
   "cell_type": "code",
   "execution_count": 30,
   "id": "d02ed44c",
   "metadata": {},
   "outputs": [],
   "source": [
    "when_in_datetime= datetime.strptime(when_in_string, \"%d-%m-%y %H:%M:%S\")"
   ]
  },
  {
   "cell_type": "code",
   "execution_count": 32,
   "id": "d2b3deee",
   "metadata": {},
   "outputs": [
    {
     "data": {
      "text/plain": [
       "1696933800.0"
      ]
     },
     "execution_count": 32,
     "metadata": {},
     "output_type": "execute_result"
    }
   ],
   "source": [
    "when_in_datetime.timestamp()"
   ]
  },
  {
   "cell_type": "code",
   "execution_count": 33,
   "id": "44252e1b",
   "metadata": {},
   "outputs": [],
   "source": [
    "today = date.today()"
   ]
  },
  {
   "cell_type": "code",
   "execution_count": 35,
   "id": "5f3a7d6f",
   "metadata": {},
   "outputs": [
    {
     "data": {
      "text/plain": [
       "datetime.date(2025, 10, 10)"
      ]
     },
     "execution_count": 35,
     "metadata": {},
     "output_type": "execute_result"
    }
   ],
   "source": [
    "from datetime import timedelta\n",
    "today + timedelta(days=1)\n"
   ]
  },
  {
   "cell_type": "code",
   "execution_count": 37,
   "id": "8a04e863",
   "metadata": {},
   "outputs": [
    {
     "data": {
      "text/plain": [
       "datetime.date(2025, 10, 5)"
      ]
     },
     "execution_count": 37,
     "metadata": {},
     "output_type": "execute_result"
    }
   ],
   "source": [
    "today - timedelta(hours=100)"
   ]
  },
  {
   "cell_type": "code",
   "execution_count": 36,
   "id": "5a640b2c",
   "metadata": {},
   "outputs": [
    {
     "data": {
      "text/plain": [
       "datetime.date(2025, 11, 19)"
      ]
     },
     "execution_count": 36,
     "metadata": {},
     "output_type": "execute_result"
    }
   ],
   "source": [
    "today + timedelta(hours=1000)"
   ]
  }
 ],
 "metadata": {
  "kernelspec": {
   "display_name": "Python 3",
   "language": "python",
   "name": "python3"
  },
  "language_info": {
   "codemirror_mode": {
    "name": "ipython",
    "version": 3
   },
   "file_extension": ".py",
   "mimetype": "text/x-python",
   "name": "python",
   "nbconvert_exporter": "python",
   "pygments_lexer": "ipython3",
   "version": "3.11.9"
  }
 },
 "nbformat": 4,
 "nbformat_minor": 5
}
