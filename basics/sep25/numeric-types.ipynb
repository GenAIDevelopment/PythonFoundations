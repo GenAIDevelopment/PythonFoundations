{
 "cells": [
  {
   "cell_type": "markdown",
   "id": "02db8fbf",
   "metadata": {},
   "source": [
    "## Exploring Numeric Data types"
   ]
  },
  {
   "cell_type": "code",
   "execution_count": 4,
   "id": "88e33563",
   "metadata": {},
   "outputs": [
    {
     "name": "stdout",
     "output_type": "stream",
     "text": [
      "5\n",
      "<class 'int'>\n"
     ]
    }
   ],
   "source": [
    "index = 5\n",
    "print(index)\n",
    "print(type(index))"
   ]
  },
  {
   "cell_type": "code",
   "execution_count": 5,
   "id": "4a42fd03",
   "metadata": {},
   "outputs": [
    {
     "name": "stdout",
     "output_type": "stream",
     "text": [
      "3.14\n",
      "<class 'float'>\n"
     ]
    }
   ],
   "source": [
    "pi = 3.14\n",
    "print(pi)\n",
    "print(type(pi))"
   ]
  },
  {
   "cell_type": "code",
   "execution_count": 6,
   "id": "290a00c5",
   "metadata": {},
   "outputs": [
    {
     "name": "stdout",
     "output_type": "stream",
     "text": [
      "(4+3j)\n",
      "<class 'complex'>\n"
     ]
    }
   ],
   "source": [
    "c1 = 4 + 3j\n",
    "print(c1)\n",
    "print(type(c1))"
   ]
  },
  {
   "cell_type": "markdown",
   "id": "301526c5",
   "metadata": {},
   "source": [
    "## Arthimetic & Assignment operators\n",
    "\n",
    "* [Refer Here](https://www.programiz.com/python-programming/operators)"
   ]
  },
  {
   "cell_type": "code",
   "execution_count": 9,
   "id": "57e530f8",
   "metadata": {},
   "outputs": [
    {
     "name": "stdout",
     "output_type": "stream",
     "text": [
      "10000\n",
      "10000\n"
     ]
    }
   ],
   "source": [
    "amount = 10000\n",
    "print(amount)\n",
    "amount * 5\n",
    "print(amount)"
   ]
  },
  {
   "cell_type": "code",
   "execution_count": 10,
   "id": "7761578b",
   "metadata": {},
   "outputs": [
    {
     "name": "stdout",
     "output_type": "stream",
     "text": [
      "10000\n",
      "50000\n"
     ]
    }
   ],
   "source": [
    "amount = 10000\n",
    "print(amount)\n",
    "amount = amount * 5\n",
    "print(amount)"
   ]
  },
  {
   "cell_type": "code",
   "execution_count": 11,
   "id": "6749ac45",
   "metadata": {},
   "outputs": [
    {
     "data": {
      "text/plain": [
       "6"
      ]
     },
     "execution_count": 11,
     "metadata": {},
     "output_type": "execute_result"
    }
   ],
   "source": [
    "index = 5\n",
    "index = index + 1\n",
    "index"
   ]
  },
  {
   "cell_type": "code",
   "execution_count": 12,
   "id": "a851fad4",
   "metadata": {},
   "outputs": [
    {
     "data": {
      "text/plain": [
       "6"
      ]
     },
     "execution_count": 12,
     "metadata": {},
     "output_type": "execute_result"
    }
   ],
   "source": [
    "index = 5\n",
    "index += 1\n",
    "index"
   ]
  },
  {
   "cell_type": "code",
   "execution_count": 14,
   "id": "6600cf90",
   "metadata": {},
   "outputs": [
    {
     "data": {
      "text/plain": [
       "3200.0"
      ]
     },
     "execution_count": 14,
     "metadata": {},
     "output_type": "execute_result"
    }
   ],
   "source": [
    "# simple intrest\n",
    "\n",
    "principal = 10000\n",
    "time = 2\n",
    "rate = 16\n",
    "\n",
    "simple_intrest = principal * time * rate / 100\n",
    "simple_intrest"
   ]
  },
  {
   "cell_type": "code",
   "execution_count": 19,
   "id": "63b87de8",
   "metadata": {},
   "outputs": [
    {
     "data": {
      "text/plain": [
       "11576.250000000002"
      ]
     },
     "execution_count": 19,
     "metadata": {},
     "output_type": "execute_result"
    }
   ],
   "source": [
    "n = 1\n",
    "rate = 5/100\n",
    "time = 3\n",
    "principal = 10000\n",
    "\n",
    "x = 1 + rate\n",
    "y = x ** time\n",
    "amount = principal * y\n",
    "amount"
   ]
  },
  {
   "cell_type": "code",
   "execution_count": 1,
   "id": "8a37c66d",
   "metadata": {},
   "outputs": [],
   "source": [
    "# Variable\n",
    "a = 5\n",
    "# type hinting\n",
    "a:int = 5\n",
    "\n",
    "b = 5.0\n",
    "# type hinting\n",
    "b:float = 5.0\n",
    "\n",
    "c = \"hello\"\n",
    "# type hinting\n",
    "c:str = \"hello\""
   ]
  },
  {
   "cell_type": "code",
   "execution_count": 2,
   "id": "d7afa0f1",
   "metadata": {},
   "outputs": [
    {
     "data": {
      "text/plain": [
       "True"
      ]
     },
     "execution_count": 2,
     "metadata": {},
     "output_type": "execute_result"
    }
   ],
   "source": [
    "5 == 5"
   ]
  },
  {
   "cell_type": "code",
   "execution_count": null,
   "id": "3a88e0f9",
   "metadata": {},
   "outputs": [
    {
     "name": "stdout",
     "output_type": "stream",
     "text": [
      "True\n"
     ]
    }
   ],
   "source": [
    "a: int = 5\n",
    "b: int = 5\n",
    "a == b"
   ]
  }
 ],
 "metadata": {
  "kernelspec": {
   "display_name": "Python 3",
   "language": "python",
   "name": "python3"
  },
  "language_info": {
   "codemirror_mode": {
    "name": "ipython",
    "version": 3
   },
   "file_extension": ".py",
   "mimetype": "text/x-python",
   "name": "python",
   "nbconvert_exporter": "python",
   "pygments_lexer": "ipython3",
   "version": "3.11.9"
  }
 },
 "nbformat": 4,
 "nbformat_minor": 5
}
