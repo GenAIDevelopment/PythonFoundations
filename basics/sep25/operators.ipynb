{
 "cells": [
  {
   "cell_type": "markdown",
   "id": "b737dde9",
   "metadata": {},
   "source": [
    "## Python operators"
   ]
  },
  {
   "cell_type": "code",
   "execution_count": null,
   "id": "6b63a601",
   "metadata": {},
   "outputs": [
    {
     "data": {
      "text/plain": [
       "56"
      ]
     },
     "execution_count": 1,
     "metadata": {},
     "output_type": "execute_result"
    }
   ],
   "source": [
    "7 * 8 + 6 // 5 * 4 % 2"
   ]
  },
  {
   "cell_type": "markdown",
   "id": "b58300d2",
   "metadata": {},
   "source": [
    "## Operator precedence\n",
    "\n",
    "* [Refer Here](https://www.programiz.com/python-programming/precedence-associativity)"
   ]
  },
  {
   "cell_type": "code",
   "execution_count": 2,
   "id": "505cc174",
   "metadata": {},
   "outputs": [
    {
     "data": {
      "text/plain": [
       "0"
      ]
     },
     "execution_count": 2,
     "metadata": {},
     "output_type": "execute_result"
    }
   ],
   "source": [
    "((((7 * 8) + 6) // 5) * 4) % 2"
   ]
  },
  {
   "cell_type": "code",
   "execution_count": 3,
   "id": "39cf36ad",
   "metadata": {},
   "outputs": [],
   "source": [
    "def factorial(number: int) -> int:\n",
    "    \"\"\"Calculates factorial of a number\n",
    "\n",
    "    Args:\n",
    "        number (int): number passed\n",
    "\n",
    "    Returns:\n",
    "        int: factorial\n",
    "    \"\"\"\n",
    "    index = 1\n",
    "    result = 1\n",
    "    while index <= number:\n",
    "        result = result * index\n",
    "        index += 1\n",
    "    return result"
   ]
  },
  {
   "cell_type": "code",
   "execution_count": 14,
   "id": "a50a1e7f",
   "metadata": {},
   "outputs": [],
   "source": [
    "def lcm(start:int =1, end:int =10) -> int:\n",
    "    \"\"\"Lcm of a sequence\n",
    "\n",
    "    Args:\n",
    "        start (int, optional): start value. Defaults to 1.\n",
    "        end (int, optional): end value. Defaults to 10.\n",
    "\n",
    "    Returns:\n",
    "        int: lcm\n",
    "    \"\"\"\n",
    "    factor = end * (end -1)\n",
    "    max = factorial(end)\n",
    "    result = 0\n",
    "    # check if factor is divisible by all numbers in a sequence \n",
    "    # if not increment by factor\n",
    "    while factor <= max:\n",
    "        index = start\n",
    "        is_lcm = True\n",
    "        while index <= end:\n",
    "            if factor % index !=0:\n",
    "                is_lcm = False\n",
    "                break\n",
    "            index += 1\n",
    "        if is_lcm:\n",
    "            result = factor\n",
    "            break\n",
    "        factor += end * (end -1)\n",
    "    return result\n",
    "\n",
    "    "
   ]
  },
  {
   "cell_type": "code",
   "execution_count": 15,
   "id": "27bd1a3f",
   "metadata": {},
   "outputs": [
    {
     "data": {
      "text/plain": [
       "60"
      ]
     },
     "execution_count": 15,
     "metadata": {},
     "output_type": "execute_result"
    }
   ],
   "source": [
    "lcm(start=1, end=5)"
   ]
  },
  {
   "cell_type": "code",
   "execution_count": 16,
   "id": "27fa9048",
   "metadata": {},
   "outputs": [
    {
     "data": {
      "text/plain": [
       "2520"
      ]
     },
     "execution_count": 16,
     "metadata": {},
     "output_type": "execute_result"
    }
   ],
   "source": [
    "lcm()"
   ]
  },
  {
   "cell_type": "code",
   "execution_count": 17,
   "id": "a98fb836",
   "metadata": {},
   "outputs": [
    {
     "data": {
      "text/plain": [
       "232792560"
      ]
     },
     "execution_count": 17,
     "metadata": {},
     "output_type": "execute_result"
    }
   ],
   "source": [
    "lcm(end=20)"
   ]
  }
 ],
 "metadata": {
  "kernelspec": {
   "display_name": "Python 3",
   "language": "python",
   "name": "python3"
  },
  "language_info": {
   "codemirror_mode": {
    "name": "ipython",
    "version": 3
   },
   "file_extension": ".py",
   "mimetype": "text/x-python",
   "name": "python",
   "nbconvert_exporter": "python",
   "pygments_lexer": "ipython3",
   "version": "3.11.9"
  }
 },
 "nbformat": 4,
 "nbformat_minor": 5
}
