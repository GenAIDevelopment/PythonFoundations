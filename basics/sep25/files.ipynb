{
 "cells": [
  {
   "cell_type": "code",
   "execution_count": 20,
   "id": "547840e2",
   "metadata": {},
   "outputs": [],
   "source": [
    "# storing list of strings to a file\n",
    "\n",
    "# opening a file, writing text\n",
    "\n",
    "file = open('notes.txt',mode='w')\n",
    "data = ['a-1\\n', 'b-2\\n', 'c-3\\n']\n",
    "file.writelines(data)\n",
    "file.close()"
   ]
  },
  {
   "cell_type": "code",
   "execution_count": 21,
   "id": "711347a0",
   "metadata": {},
   "outputs": [],
   "source": [
    "# storing list of strings to a file\n",
    "\n",
    "# opening a file, writing text\n",
    "\n",
    "file = open('notes.txt',mode='a')\n",
    "data = ['a-1\\n', 'b-2\\n', 'c-3\\n']\n",
    "file.writelines(data)\n",
    "file.close()"
   ]
  },
  {
   "cell_type": "code",
   "execution_count": 22,
   "id": "79250015",
   "metadata": {},
   "outputs": [
    {
     "name": "stdout",
     "output_type": "stream",
     "text": [
      "a-1\n",
      "\n",
      "b-2\n",
      "\n",
      "c-3\n",
      "\n",
      "a-1\n",
      "\n",
      "b-2\n",
      "\n",
      "c-3\n",
      "\n"
     ]
    }
   ],
   "source": [
    "file = open('notes.txt', mode='r')\n",
    "lines = file.readlines()\n",
    "for line in lines:\n",
    "    print(line)"
   ]
  },
  {
   "cell_type": "code",
   "execution_count": 23,
   "id": "f22c0991",
   "metadata": {},
   "outputs": [],
   "source": [
    "from dataclasses import dataclass\n",
    "\n",
    "@dataclass\n",
    "class Product:\n",
    "    id: int\n",
    "    name: str\n",
    "\n",
    "    def __str__(self):\n",
    "        return f\"{self.id},{self.name}\\n\"\n",
    "    \n",
    "    @staticmethod\n",
    "    def get_heading():\n",
    "        return f\"id,name\\n\""
   ]
  },
  {
   "cell_type": "code",
   "execution_count": 24,
   "id": "7cb25fa6",
   "metadata": {},
   "outputs": [],
   "source": [
    "apple_iphone_17 = Product(id=1, name='iphone 17')\n",
    "apple_iphone_17_pro = Product(id=2, name='iphone 17 pro')"
   ]
  },
  {
   "cell_type": "code",
   "execution_count": 25,
   "id": "8af5528b",
   "metadata": {},
   "outputs": [
    {
     "data": {
      "text/plain": [
       "Product(id=1, name='iphone 17')"
      ]
     },
     "execution_count": 25,
     "metadata": {},
     "output_type": "execute_result"
    }
   ],
   "source": [
    "apple_iphone_17"
   ]
  },
  {
   "cell_type": "code",
   "execution_count": 26,
   "id": "b37bc406",
   "metadata": {},
   "outputs": [
    {
     "data": {
      "text/plain": [
       "'1,iphone 17\\n'"
      ]
     },
     "execution_count": 26,
     "metadata": {},
     "output_type": "execute_result"
    }
   ],
   "source": [
    "str(apple_iphone_17)"
   ]
  },
  {
   "cell_type": "code",
   "execution_count": 28,
   "id": "d308cd8e",
   "metadata": {},
   "outputs": [],
   "source": [
    "products = [apple_iphone_17, apple_iphone_17_pro]\n",
    "\n",
    "products_file = open('products.csv', mode='w')\n",
    "products_file.write(Product.get_heading())\n",
    "for product in products:\n",
    "    products_file.write(str(product))\n",
    "products_file.close()"
   ]
  },
  {
   "cell_type": "code",
   "execution_count": 29,
   "id": "8867d227",
   "metadata": {},
   "outputs": [],
   "source": [
    "# context manager\n",
    "\n",
    "products = [apple_iphone_17, apple_iphone_17_pro]\n",
    "\n",
    "with open('products.csv', mode='w') as products_file:\n",
    "    products_file.write(Product.get_heading())\n",
    "    for product in products:\n",
    "        products_file.write(str(product))\n"
   ]
  },
  {
   "cell_type": "code",
   "execution_count": 30,
   "id": "357817d0",
   "metadata": {},
   "outputs": [],
   "source": [
    "class ContextManager:\n",
    "    def __init__(self):\n",
    "        print('init method called')\n",
    "        \n",
    "    def __enter__(self):\n",
    "        print('enter method called')\n",
    "        return self\n",
    "    \n",
    "    def __exit__(self, exc_type, exc_value, exc_traceback):\n",
    "        print('exit method called')\n",
    "\n"
   ]
  },
  {
   "cell_type": "code",
   "execution_count": 33,
   "id": "a3379e86",
   "metadata": {},
   "outputs": [
    {
     "name": "stdout",
     "output_type": "stream",
     "text": [
      "init method called\n",
      "enter method called\n",
      "with statement block\n",
      "exit method called\n",
      "out of with\n"
     ]
    }
   ],
   "source": [
    "with ContextManager() as manager:\n",
    "    print('with statement block')\n",
    "print(\"out of with\")"
   ]
  },
  {
   "cell_type": "code",
   "execution_count": 34,
   "id": "1d012eb6",
   "metadata": {},
   "outputs": [
    {
     "ename": "FileNotFoundError",
     "evalue": "[Errno 2] No such file or directory: 'notes1.txt'",
     "output_type": "error",
     "traceback": [
      "\u001b[31m---------------------------------------------------------------------------\u001b[39m",
      "\u001b[31mFileNotFoundError\u001b[39m                         Traceback (most recent call last)",
      "\u001b[36mCell\u001b[39m\u001b[36m \u001b[39m\u001b[32mIn[34]\u001b[39m\u001b[32m, line 1\u001b[39m\n\u001b[32m----> \u001b[39m\u001b[32m1\u001b[39m \u001b[38;5;28;01mwith\u001b[39;00m \u001b[38;5;28;43mopen\u001b[39;49m\u001b[43m(\u001b[49m\u001b[33;43m'\u001b[39;49m\u001b[33;43mnotes1.txt\u001b[39;49m\u001b[33;43m'\u001b[39;49m\u001b[43m,\u001b[49m\u001b[43m \u001b[49m\u001b[43mmode\u001b[49m\u001b[43m=\u001b[49m\u001b[33;43m'\u001b[39;49m\u001b[33;43mr\u001b[39;49m\u001b[33;43m'\u001b[39;49m\u001b[43m)\u001b[49m \u001b[38;5;28;01mas\u001b[39;00m file:\n\u001b[32m      2\u001b[39m     lines = file.readlines()\n\u001b[32m      3\u001b[39m     \u001b[38;5;28;01mfor\u001b[39;00m line \u001b[38;5;129;01min\u001b[39;00m lines:\n",
      "\u001b[36mFile \u001b[39m\u001b[32m~\\AppData\\Roaming\\Python\\Python311\\site-packages\\IPython\\core\\interactiveshell.py:325\u001b[39m, in \u001b[36m_modified_open\u001b[39m\u001b[34m(file, *args, **kwargs)\u001b[39m\n\u001b[32m    318\u001b[39m \u001b[38;5;28;01mif\u001b[39;00m file \u001b[38;5;129;01min\u001b[39;00m {\u001b[32m0\u001b[39m, \u001b[32m1\u001b[39m, \u001b[32m2\u001b[39m}:\n\u001b[32m    319\u001b[39m     \u001b[38;5;28;01mraise\u001b[39;00m \u001b[38;5;167;01mValueError\u001b[39;00m(\n\u001b[32m    320\u001b[39m         \u001b[33mf\u001b[39m\u001b[33m\"\u001b[39m\u001b[33mIPython won\u001b[39m\u001b[33m'\u001b[39m\u001b[33mt let you open fd=\u001b[39m\u001b[38;5;132;01m{\u001b[39;00mfile\u001b[38;5;132;01m}\u001b[39;00m\u001b[33m by default \u001b[39m\u001b[33m\"\u001b[39m\n\u001b[32m    321\u001b[39m         \u001b[33m\"\u001b[39m\u001b[33mas it is likely to crash IPython. If you know what you are doing, \u001b[39m\u001b[33m\"\u001b[39m\n\u001b[32m    322\u001b[39m         \u001b[33m\"\u001b[39m\u001b[33myou can use builtins\u001b[39m\u001b[33m'\u001b[39m\u001b[33m open.\u001b[39m\u001b[33m\"\u001b[39m\n\u001b[32m    323\u001b[39m     )\n\u001b[32m--> \u001b[39m\u001b[32m325\u001b[39m \u001b[38;5;28;01mreturn\u001b[39;00m \u001b[43mio_open\u001b[49m\u001b[43m(\u001b[49m\u001b[43mfile\u001b[49m\u001b[43m,\u001b[49m\u001b[43m \u001b[49m\u001b[43m*\u001b[49m\u001b[43margs\u001b[49m\u001b[43m,\u001b[49m\u001b[43m \u001b[49m\u001b[43m*\u001b[49m\u001b[43m*\u001b[49m\u001b[43mkwargs\u001b[49m\u001b[43m)\u001b[49m\n",
      "\u001b[31mFileNotFoundError\u001b[39m: [Errno 2] No such file or directory: 'notes1.txt'"
     ]
    }
   ],
   "source": [
    "with open('notes1.txt', mode='r') as file:\n",
    "    lines = file.readlines()\n",
    "    for line in lines:\n",
    "        print(line)"
   ]
  },
  {
   "cell_type": "code",
   "execution_count": 35,
   "id": "3774a19e",
   "metadata": {},
   "outputs": [
    {
     "ename": "ZeroDivisionError",
     "evalue": "division by zero",
     "output_type": "error",
     "traceback": [
      "\u001b[31m---------------------------------------------------------------------------\u001b[39m",
      "\u001b[31mZeroDivisionError\u001b[39m                         Traceback (most recent call last)",
      "\u001b[36mCell\u001b[39m\u001b[36m \u001b[39m\u001b[32mIn[35]\u001b[39m\u001b[32m, line 1\u001b[39m\n\u001b[32m----> \u001b[39m\u001b[32m1\u001b[39m \u001b[32;43m5\u001b[39;49m\u001b[43m/\u001b[49m\u001b[32;43m0\u001b[39;49m\n",
      "\u001b[31mZeroDivisionError\u001b[39m: division by zero"
     ]
    }
   ],
   "source": [
    "5/0"
   ]
  },
  {
   "cell_type": "code",
   "execution_count": 37,
   "id": "a6f1ccc3",
   "metadata": {},
   "outputs": [
    {
     "name": "stdout",
     "output_type": "stream",
     "text": [
      "1.0\n",
      "bye\n"
     ]
    }
   ],
   "source": [
    "a = 5\n",
    "b = 5\n",
    "try:\n",
    "    print(a / b)\n",
    "except:\n",
    "    print(\"Exception occured: check values\")\n",
    "finally:\n",
    "    print(\"bye\")\n"
   ]
  },
  {
   "cell_type": "code",
   "execution_count": null,
   "id": "83afb4df",
   "metadata": {},
   "outputs": [
    {
     "name": "stdout",
     "output_type": "stream",
     "text": [
      "Exception occured: check values\n",
      "bye\n"
     ]
    }
   ],
   "source": [
    "a = 5\n",
    "b = 0\n",
    "try:\n",
    "    print(a / b)\n",
    "except:\n",
    "    print(\"Exception occured: check values\")\n",
    "finally:\n",
    "    print(\"bye\")\n"
   ]
  },
  {
   "cell_type": "code",
   "execution_count": 39,
   "id": "9844d7b2",
   "metadata": {},
   "outputs": [
    {
     "name": "stdout",
     "output_type": "stream",
     "text": [
      "b is zero which is not allowed\n",
      "bye\n"
     ]
    }
   ],
   "source": [
    "# handle specific exceptions\n",
    "a = 5\n",
    "b = 0\n",
    "try:\n",
    "    print(a / b)\n",
    "except ZeroDivisionError:\n",
    "    print(\"b is zero which is not allowed\")\n",
    "except:\n",
    "    print(\"Exception occured: check values\")\n",
    "finally:\n",
    "    print(\"bye\")\n"
   ]
  },
  {
   "cell_type": "code",
   "execution_count": 43,
   "id": "321eaf0b",
   "metadata": {},
   "outputs": [],
   "source": [
    "# good practice\n",
    "\n",
    "def divide(a:int, b:int) -> float|int:\n",
    "    \"\"\"Performs divide\n",
    "\n",
    "    Args:\n",
    "        a (int): a\n",
    "        b (int): \n",
    "\n",
    "    Returns:\n",
    "        float|int: a / b\n",
    "\n",
    "    Raises:\n",
    "        ZeroDivisionError when b is zero\n",
    "        ValueError when invalid types are passed\n",
    "\n",
    "    Examples:\n",
    "    \n",
    "    try:\n",
    "        divide(5,0)\n",
    "    except ZeroDivisionError:\n",
    "        print(\"b cannot be zero\")\n",
    "    except TypeError:\n",
    "        print(\"ensure integers or floats are passed\")\n",
    "    \"\"\"\n",
    "    return a / b"
   ]
  },
  {
   "cell_type": "code",
   "execution_count": 46,
   "id": "7966bb7f",
   "metadata": {},
   "outputs": [
    {
     "name": "stdout",
     "output_type": "stream",
     "text": [
      "b cannot be zero\n"
     ]
    }
   ],
   "source": [
    "try:\n",
    "    divide(5,0)\n",
    "except ZeroDivisionError as ze:\n",
    "    print(\"b cannot be zero\")\n",
    "except TypeError:\n",
    "    print(\"ensure integers or floats are passed\")"
   ]
  },
  {
   "cell_type": "code",
   "execution_count": 47,
   "id": "1d090596",
   "metadata": {},
   "outputs": [
    {
     "name": "stdout",
     "output_type": "stream",
     "text": [
      "ensure integers or floats are passed\n"
     ]
    }
   ],
   "source": [
    "try:\n",
    "    divide('5a',5)\n",
    "except ZeroDivisionError:\n",
    "    print(\"b cannot be zero\")\n",
    "except TypeError as e:\n",
    "    print(\"ensure integers or floats are passed\")"
   ]
  },
  {
   "cell_type": "code",
   "execution_count": null,
   "id": "46c1ec79",
   "metadata": {},
   "outputs": [],
   "source": [
    "class Account:\n",
    "    def __init__(self, name:str, balance: float):\n",
    "        self.name = name\n",
    "        self.balance = balance\n",
    "\n",
    "    def transfer(self, to, amount: float ):\n",
    "        to.balance += amount\n",
    "        self.balance -= amount"
   ]
  },
  {
   "cell_type": "code",
   "execution_count": 55,
   "id": "86d0522e",
   "metadata": {},
   "outputs": [],
   "source": [
    "acc1 = Account(name='test1', balance=100)\n",
    "acc2= Account(name='test2', balance=1000)"
   ]
  },
  {
   "cell_type": "code",
   "execution_count": 56,
   "id": "e1373e16",
   "metadata": {},
   "outputs": [],
   "source": [
    "acc1.transfer(to=acc2, amount=10000)"
   ]
  },
  {
   "cell_type": "code",
   "execution_count": 57,
   "id": "7030d413",
   "metadata": {},
   "outputs": [],
   "source": [
    "class BalanceNotEnoughException(Exception):\n",
    "    pass"
   ]
  },
  {
   "cell_type": "code",
   "execution_count": 58,
   "id": "c433413c",
   "metadata": {},
   "outputs": [],
   "source": [
    "class Account:\n",
    "    def __init__(self, name:str, balance: float):\n",
    "        self.name = name\n",
    "        self.balance = balance\n",
    "\n",
    "    def transfer(self, to, amount: float ):\n",
    "        if self.balance < amount:\n",
    "            raise BalanceNotEnoughException()\n",
    "        to.balance += amount\n",
    "        self.balance -= amount"
   ]
  },
  {
   "cell_type": "code",
   "execution_count": 59,
   "id": "42c95c75",
   "metadata": {},
   "outputs": [],
   "source": [
    "acc1 = Account(name='test1', balance=100)\n",
    "acc2= Account(name='test2', balance=1000)"
   ]
  },
  {
   "cell_type": "code",
   "execution_count": 60,
   "id": "19b4e9b0",
   "metadata": {},
   "outputs": [
    {
     "ename": "BalanceNotEnoughException",
     "evalue": "",
     "output_type": "error",
     "traceback": [
      "\u001b[31m---------------------------------------------------------------------------\u001b[39m",
      "\u001b[31mBalanceNotEnoughException\u001b[39m                 Traceback (most recent call last)",
      "\u001b[36mCell\u001b[39m\u001b[36m \u001b[39m\u001b[32mIn[60]\u001b[39m\u001b[32m, line 1\u001b[39m\n\u001b[32m----> \u001b[39m\u001b[32m1\u001b[39m \u001b[43macc1\u001b[49m\u001b[43m.\u001b[49m\u001b[43mtransfer\u001b[49m\u001b[43m(\u001b[49m\u001b[43mto\u001b[49m\u001b[43m=\u001b[49m\u001b[43macc2\u001b[49m\u001b[43m,\u001b[49m\u001b[43m \u001b[49m\u001b[43mamount\u001b[49m\u001b[43m=\u001b[49m\u001b[32;43m10000\u001b[39;49m\u001b[43m)\u001b[49m\n",
      "\u001b[36mCell\u001b[39m\u001b[36m \u001b[39m\u001b[32mIn[58]\u001b[39m\u001b[32m, line 8\u001b[39m, in \u001b[36mAccount.transfer\u001b[39m\u001b[34m(self, to, amount)\u001b[39m\n\u001b[32m      6\u001b[39m \u001b[38;5;28;01mdef\u001b[39;00m\u001b[38;5;250m \u001b[39m\u001b[34mtransfer\u001b[39m(\u001b[38;5;28mself\u001b[39m, to, amount: \u001b[38;5;28mfloat\u001b[39m ):\n\u001b[32m      7\u001b[39m     \u001b[38;5;28;01mif\u001b[39;00m \u001b[38;5;28mself\u001b[39m.balance < amount:\n\u001b[32m----> \u001b[39m\u001b[32m8\u001b[39m         \u001b[38;5;28;01mraise\u001b[39;00m BalanceNotEnoughException()\n\u001b[32m      9\u001b[39m     to.balance += amount\n\u001b[32m     10\u001b[39m     \u001b[38;5;28mself\u001b[39m.balance -= amount\n",
      "\u001b[31mBalanceNotEnoughException\u001b[39m: "
     ]
    }
   ],
   "source": [
    "acc1.transfer(to=acc2, amount=10000)"
   ]
  }
 ],
 "metadata": {
  "kernelspec": {
   "display_name": "Python 3",
   "language": "python",
   "name": "python3"
  },
  "language_info": {
   "codemirror_mode": {
    "name": "ipython",
    "version": 3
   },
   "file_extension": ".py",
   "mimetype": "text/x-python",
   "name": "python",
   "nbconvert_exporter": "python",
   "pygments_lexer": "ipython3",
   "version": "3.11.9"
  }
 },
 "nbformat": 4,
 "nbformat_minor": 5
}
