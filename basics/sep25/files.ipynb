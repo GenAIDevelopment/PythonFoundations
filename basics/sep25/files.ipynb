{
 "cells": [
  {
   "cell_type": "code",
   "execution_count": 20,
   "id": "547840e2",
   "metadata": {},
   "outputs": [],
   "source": [
    "# storing list of strings to a file\n",
    "\n",
    "# opening a file, writing text\n",
    "\n",
    "file = open('notes.txt',mode='w')\n",
    "data = ['a-1\\n', 'b-2\\n', 'c-3\\n']\n",
    "file.writelines(data)\n",
    "file.close()"
   ]
  },
  {
   "cell_type": "code",
   "execution_count": 21,
   "id": "711347a0",
   "metadata": {},
   "outputs": [],
   "source": [
    "# storing list of strings to a file\n",
    "\n",
    "# opening a file, writing text\n",
    "\n",
    "file = open('notes.txt',mode='a')\n",
    "data = ['a-1\\n', 'b-2\\n', 'c-3\\n']\n",
    "file.writelines(data)\n",
    "file.close()"
   ]
  },
  {
   "cell_type": "code",
   "execution_count": 22,
   "id": "79250015",
   "metadata": {},
   "outputs": [
    {
     "name": "stdout",
     "output_type": "stream",
     "text": [
      "a-1\n",
      "\n",
      "b-2\n",
      "\n",
      "c-3\n",
      "\n",
      "a-1\n",
      "\n",
      "b-2\n",
      "\n",
      "c-3\n",
      "\n"
     ]
    }
   ],
   "source": [
    "file = open('notes.txt', mode='r')\n",
    "lines = file.readlines()\n",
    "for line in lines:\n",
    "    print(line)"
   ]
  },
  {
   "cell_type": "code",
   "execution_count": 23,
   "id": "f22c0991",
   "metadata": {},
   "outputs": [],
   "source": [
    "from dataclasses import dataclass\n",
    "\n",
    "@dataclass\n",
    "class Product:\n",
    "    id: int\n",
    "    name: str\n",
    "\n",
    "    def __str__(self):\n",
    "        return f\"{self.id},{self.name}\\n\"\n",
    "    \n",
    "    @staticmethod\n",
    "    def get_heading():\n",
    "        return f\"id,name\\n\""
   ]
  },
  {
   "cell_type": "code",
   "execution_count": 24,
   "id": "7cb25fa6",
   "metadata": {},
   "outputs": [],
   "source": [
    "apple_iphone_17 = Product(id=1, name='iphone 17')\n",
    "apple_iphone_17_pro = Product(id=2, name='iphone 17 pro')"
   ]
  },
  {
   "cell_type": "code",
   "execution_count": 25,
   "id": "8af5528b",
   "metadata": {},
   "outputs": [
    {
     "data": {
      "text/plain": [
       "Product(id=1, name='iphone 17')"
      ]
     },
     "execution_count": 25,
     "metadata": {},
     "output_type": "execute_result"
    }
   ],
   "source": [
    "apple_iphone_17"
   ]
  },
  {
   "cell_type": "code",
   "execution_count": 26,
   "id": "b37bc406",
   "metadata": {},
   "outputs": [
    {
     "data": {
      "text/plain": [
       "'1,iphone 17\\n'"
      ]
     },
     "execution_count": 26,
     "metadata": {},
     "output_type": "execute_result"
    }
   ],
   "source": [
    "str(apple_iphone_17)"
   ]
  },
  {
   "cell_type": "code",
   "execution_count": 28,
   "id": "d308cd8e",
   "metadata": {},
   "outputs": [],
   "source": [
    "products = [apple_iphone_17, apple_iphone_17_pro]\n",
    "\n",
    "products_file = open('products.csv', mode='w')\n",
    "products_file.write(Product.get_heading())\n",
    "for product in products:\n",
    "    products_file.write(str(product))\n",
    "products_file.close()"
   ]
  }
 ],
 "metadata": {
  "kernelspec": {
   "display_name": "Python 3",
   "language": "python",
   "name": "python3"
  },
  "language_info": {
   "codemirror_mode": {
    "name": "ipython",
    "version": 3
   },
   "file_extension": ".py",
   "mimetype": "text/x-python",
   "name": "python",
   "nbconvert_exporter": "python",
   "pygments_lexer": "ipython3",
   "version": "3.11.9"
  }
 },
 "nbformat": 4,
 "nbformat_minor": 5
}
