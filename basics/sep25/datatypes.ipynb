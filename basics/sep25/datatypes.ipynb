{
 "cells": [
  {
   "cell_type": "markdown",
   "id": "f8899029",
   "metadata": {},
   "source": [
    "## lists and tuples"
   ]
  },
  {
   "cell_type": "code",
   "execution_count": 1,
   "id": "552a94e2",
   "metadata": {},
   "outputs": [],
   "source": [
    "fav_colors = [\"White\", \"Black\"]\n",
    "fav_movies = ('Avengers', 'Ironman')"
   ]
  },
  {
   "cell_type": "code",
   "execution_count": 2,
   "id": "64a09672",
   "metadata": {},
   "outputs": [
    {
     "data": {
      "text/plain": [
       "list"
      ]
     },
     "execution_count": 2,
     "metadata": {},
     "output_type": "execute_result"
    }
   ],
   "source": [
    "type(fav_colors)"
   ]
  },
  {
   "cell_type": "code",
   "execution_count": 3,
   "id": "b0429227",
   "metadata": {},
   "outputs": [
    {
     "data": {
      "text/plain": [
       "tuple"
      ]
     },
     "execution_count": 3,
     "metadata": {},
     "output_type": "execute_result"
    }
   ],
   "source": [
    "type(fav_movies)"
   ]
  },
  {
   "cell_type": "code",
   "execution_count": 5,
   "id": "5392a363",
   "metadata": {},
   "outputs": [
    {
     "data": {
      "text/plain": [
       "'Avengers'"
      ]
     },
     "execution_count": 5,
     "metadata": {},
     "output_type": "execute_result"
    }
   ],
   "source": [
    "# access\n",
    "fav_movies[0]"
   ]
  },
  {
   "cell_type": "code",
   "execution_count": 6,
   "id": "76a83b7f",
   "metadata": {},
   "outputs": [
    {
     "data": {
      "text/plain": [
       "'Black'"
      ]
     },
     "execution_count": 6,
     "metadata": {},
     "output_type": "execute_result"
    }
   ],
   "source": [
    "fav_colors[1]"
   ]
  },
  {
   "cell_type": "code",
   "execution_count": 7,
   "id": "4c54d1f7",
   "metadata": {},
   "outputs": [],
   "source": [
    "even_numbers = [2,4,6,8,10,12,14]\n",
    "odd_numbers =  [1,3,5,7,9,11,13]"
   ]
  },
  {
   "cell_type": "code",
   "execution_count": 8,
   "id": "3396b20d",
   "metadata": {},
   "outputs": [
    {
     "data": {
      "text/plain": [
       "14"
      ]
     },
     "execution_count": 8,
     "metadata": {},
     "output_type": "execute_result"
    }
   ],
   "source": [
    "even_numbers[6]"
   ]
  },
  {
   "cell_type": "code",
   "execution_count": 9,
   "id": "70141ea0",
   "metadata": {},
   "outputs": [
    {
     "data": {
      "text/plain": [
       "13"
      ]
     },
     "execution_count": 9,
     "metadata": {},
     "output_type": "execute_result"
    }
   ],
   "source": [
    "odd_numbers[-1]"
   ]
  },
  {
   "cell_type": "code",
   "execution_count": 10,
   "id": "f077d8f0",
   "metadata": {},
   "outputs": [
    {
     "data": {
      "text/plain": [
       "[2, 4, 6, 8, 10, 12, 14]"
      ]
     },
     "execution_count": 10,
     "metadata": {},
     "output_type": "execute_result"
    }
   ],
   "source": [
    "even_numbers"
   ]
  },
  {
   "cell_type": "code",
   "execution_count": 14,
   "id": "18ddc726",
   "metadata": {},
   "outputs": [
    {
     "name": "stdout",
     "output_type": "stream",
     "text": [
      "2,6,10,14,"
     ]
    }
   ],
   "source": [
    "# i want only alternate items \n",
    "index = 0\n",
    "# len\n",
    "while index < len(even_numbers):\n",
    "    if index % 2 == 0:\n",
    "        print(even_numbers[index], sep=\"\", end=\",\")\n",
    "    index += 1\n",
    "        "
   ]
  },
  {
   "cell_type": "markdown",
   "id": "3d4ea54b",
   "metadata": {},
   "source": [
    "## Slicing\n",
    "* Slicing can be done by using expression `[start:end:step]`\n",
    "* default value for end is size, step is 1"
   ]
  },
  {
   "cell_type": "code",
   "execution_count": 19,
   "id": "d94a1b9b",
   "metadata": {},
   "outputs": [
    {
     "name": "stdout",
     "output_type": "stream",
     "text": [
      "[2, 4, 6, 8, 10, 12, 14]\n",
      "[6, 8, 10, 12, 14]\n",
      "[2, 6, 10, 14]\n",
      "[4, 8, 12]\n"
     ]
    }
   ],
   "source": [
    "print(even_numbers)\n",
    "# start from index 2\n",
    "print(even_numbers[2::])\n",
    "# start from 0 and print alternate values\n",
    "print(even_numbers[::2])\n",
    "# start from 1 and print alternative values\n",
    "print(even_numbers[1::2])"
   ]
  },
  {
   "cell_type": "code",
   "execution_count": 22,
   "id": "b88ef52b",
   "metadata": {},
   "outputs": [
    {
     "name": "stdout",
     "output_type": "stream",
     "text": [
      "[14, 12, 10, 8, 6, 4, 2]\n",
      "[10, 8]\n"
     ]
    }
   ],
   "source": [
    "print(even_numbers[::-1])\n",
    "print(even_numbers[4:2:-1])"
   ]
  },
  {
   "cell_type": "code",
   "execution_count": 36,
   "id": "a9fe134e",
   "metadata": {},
   "outputs": [],
   "source": [
    "## list operations\n",
    "\n",
    "even_numbers = [2,4,6]\n",
    "odd_numbers = [1,3,5]\n",
    "all_numbers = [1,2,3,4,5,6]"
   ]
  },
  {
   "cell_type": "code",
   "execution_count": 24,
   "id": "7f7c5812",
   "metadata": {},
   "outputs": [
    {
     "data": {
      "text/plain": [
       "[2, 4, 6, 1, 3, 5]"
      ]
     },
     "execution_count": 24,
     "metadata": {},
     "output_type": "execute_result"
    }
   ],
   "source": [
    "even_numbers + odd_numbers"
   ]
  },
  {
   "cell_type": "code",
   "execution_count": 26,
   "id": "ba2f86d1",
   "metadata": {},
   "outputs": [
    {
     "ename": "TypeError",
     "evalue": "unsupported operand type(s) for -: 'list' and 'list'",
     "output_type": "error",
     "traceback": [
      "\u001b[31m---------------------------------------------------------------------------\u001b[39m",
      "\u001b[31mTypeError\u001b[39m                                 Traceback (most recent call last)",
      "\u001b[36mCell\u001b[39m\u001b[36m \u001b[39m\u001b[32mIn[26]\u001b[39m\u001b[32m, line 1\u001b[39m\n\u001b[32m----> \u001b[39m\u001b[32m1\u001b[39m \u001b[43mall_numbers\u001b[49m\u001b[43m \u001b[49m\u001b[43m-\u001b[49m\u001b[43m \u001b[49m\u001b[43modd_numbers\u001b[49m\n",
      "\u001b[31mTypeError\u001b[39m: unsupported operand type(s) for -: 'list' and 'list'"
     ]
    }
   ],
   "source": [
    "all_numbers - odd_numbers"
   ]
  },
  {
   "cell_type": "code",
   "execution_count": 27,
   "id": "08422ddf",
   "metadata": {},
   "outputs": [
    {
     "data": {
      "text/plain": [
       "[2, 4, 6, 2, 4, 6]"
      ]
     },
     "execution_count": 27,
     "metadata": {},
     "output_type": "execute_result"
    }
   ],
   "source": [
    "even_numbers * 2\n"
   ]
  },
  {
   "cell_type": "code",
   "execution_count": 29,
   "id": "767878c0",
   "metadata": {},
   "outputs": [
    {
     "name": "stdout",
     "output_type": "stream",
     "text": [
      "[2, 4, 6]\n",
      "[0, 4, 6]\n"
     ]
    }
   ],
   "source": [
    "print(even_numbers)\n",
    "even_numbers[0] = 0\n",
    "print(even_numbers)"
   ]
  },
  {
   "cell_type": "code",
   "execution_count": 32,
   "id": "ac88a9e6",
   "metadata": {},
   "outputs": [
    {
     "name": "stdout",
     "output_type": "stream",
     "text": [
      "<class 'tuple'>\n"
     ]
    },
    {
     "ename": "TypeError",
     "evalue": "'tuple' object does not support item assignment",
     "output_type": "error",
     "traceback": [
      "\u001b[31m---------------------------------------------------------------------------\u001b[39m",
      "\u001b[31mTypeError\u001b[39m                                 Traceback (most recent call last)",
      "\u001b[36mCell\u001b[39m\u001b[36m \u001b[39m\u001b[32mIn[32]\u001b[39m\u001b[32m, line 3\u001b[39m\n\u001b[32m      1\u001b[39m even_numbers_tuple = \u001b[38;5;28mtuple\u001b[39m(even_numbers)\n\u001b[32m      2\u001b[39m \u001b[38;5;28mprint\u001b[39m(\u001b[38;5;28mtype\u001b[39m(even_numbers_tuple))\n\u001b[32m----> \u001b[39m\u001b[32m3\u001b[39m \u001b[43meven_numbers_tuple\u001b[49m\u001b[43m[\u001b[49m\u001b[32;43m0\u001b[39;49m\u001b[43m]\u001b[49m = \u001b[32m2\u001b[39m\n",
      "\u001b[31mTypeError\u001b[39m: 'tuple' object does not support item assignment"
     ]
    }
   ],
   "source": [
    "even_numbers_tuple = tuple(even_numbers)\n",
    "print(type(even_numbers_tuple))\n",
    "even_numbers_tuple[0] = 2"
   ]
  },
  {
   "cell_type": "code",
   "execution_count": 33,
   "id": "dbcef726",
   "metadata": {},
   "outputs": [
    {
     "data": {
      "text/plain": [
       "[1, 2, 3, 4, 5, 6]"
      ]
     },
     "execution_count": 33,
     "metadata": {},
     "output_type": "execute_result"
    }
   ],
   "source": [
    "all_numbers"
   ]
  },
  {
   "cell_type": "code",
   "execution_count": 37,
   "id": "0d335fe8",
   "metadata": {},
   "outputs": [
    {
     "data": {
      "text/plain": [
       "[1, 2, 3, 4, 5, 6, 7]"
      ]
     },
     "execution_count": 37,
     "metadata": {},
     "output_type": "execute_result"
    }
   ],
   "source": [
    "all_numbers.append(7)\n",
    "all_numbers"
   ]
  },
  {
   "cell_type": "code",
   "execution_count": 38,
   "id": "ea6d9a5d",
   "metadata": {},
   "outputs": [
    {
     "data": {
      "text/plain": [
       "[1, 2, 3, 4, 5, 6]"
      ]
     },
     "execution_count": 38,
     "metadata": {},
     "output_type": "execute_result"
    }
   ],
   "source": [
    "all_numbers.remove(7)\n",
    "all_numbers"
   ]
  },
  {
   "cell_type": "code",
   "execution_count": 39,
   "id": "695612b2",
   "metadata": {},
   "outputs": [
    {
     "ename": "IndexError",
     "evalue": "list assignment index out of range",
     "output_type": "error",
     "traceback": [
      "\u001b[31m---------------------------------------------------------------------------\u001b[39m",
      "\u001b[31mIndexError\u001b[39m                                Traceback (most recent call last)",
      "\u001b[36mCell\u001b[39m\u001b[36m \u001b[39m\u001b[32mIn[39]\u001b[39m\u001b[32m, line 1\u001b[39m\n\u001b[32m----> \u001b[39m\u001b[32m1\u001b[39m \u001b[43mall_numbers\u001b[49m\u001b[43m[\u001b[49m\u001b[32;43m6\u001b[39;49m\u001b[43m]\u001b[49m = \u001b[32m7\u001b[39m\n\u001b[32m      2\u001b[39m all_numbers[\u001b[32m7\u001b[39m] = \u001b[32m8\u001b[39m\n\u001b[32m      3\u001b[39m all_numbers\n",
      "\u001b[31mIndexError\u001b[39m: list assignment index out of range"
     ]
    }
   ],
   "source": [
    "all_numbers[6] = 7\n",
    "all_numbers[7] = 8\n",
    "all_numbers"
   ]
  },
  {
   "cell_type": "code",
   "execution_count": 41,
   "id": "fa12212e",
   "metadata": {},
   "outputs": [
    {
     "name": "stdout",
     "output_type": "stream",
     "text": [
      "[1, 2, 3, 4, 5, 6]\n"
     ]
    },
    {
     "data": {
      "text/plain": [
       "[1, 2, 3, 4, 5, 6, 100, 110]"
      ]
     },
     "execution_count": 41,
     "metadata": {},
     "output_type": "execute_result"
    }
   ],
   "source": [
    "print(all_numbers)\n",
    "random_numbers = [100,110]\n",
    "all_numbers.extend(random_numbers)\n",
    "all_numbers\n"
   ]
  },
  {
   "cell_type": "code",
   "execution_count": 42,
   "id": "eec23e2f",
   "metadata": {},
   "outputs": [
    {
     "name": "stdout",
     "output_type": "stream",
     "text": [
      "1\n",
      "2\n",
      "3\n",
      "4\n",
      "5\n",
      "6\n",
      "100\n",
      "110\n"
     ]
    }
   ],
   "source": [
    "# iterating a list\n",
    "index = 0\n",
    "while index < len(all_numbers):\n",
    "    print(all_numbers[index])\n",
    "    index += 1"
   ]
  },
  {
   "cell_type": "markdown",
   "id": "21a3cf98",
   "metadata": {},
   "source": [
    "# for each loop"
   ]
  },
  {
   "cell_type": "code",
   "execution_count": 43,
   "id": "d578b71a",
   "metadata": {},
   "outputs": [
    {
     "name": "stdout",
     "output_type": "stream",
     "text": [
      "1\n",
      "2\n",
      "3\n",
      "4\n",
      "5\n",
      "6\n",
      "100\n",
      "110\n"
     ]
    }
   ],
   "source": [
    "for number in all_numbers:\n",
    "    print(number)"
   ]
  },
  {
   "cell_type": "code",
   "execution_count": 45,
   "id": "7f2f0228",
   "metadata": {},
   "outputs": [
    {
     "name": "stdout",
     "output_type": "stream",
     "text": [
      "<class 'tuple'>\n",
      "1\n",
      "2\n",
      "3\n",
      "4\n",
      "5\n",
      "6\n",
      "100\n",
      "110\n"
     ]
    }
   ],
   "source": [
    "all_numbers_tuple = tuple(all_numbers)\n",
    "print(type(all_numbers_tuple))\n",
    "for number in all_numbers_tuple:\n",
    "    print(number)"
   ]
  },
  {
   "cell_type": "code",
   "execution_count": 46,
   "id": "0dd587c5",
   "metadata": {},
   "outputs": [
    {
     "name": "stdout",
     "output_type": "stream",
     "text": [
      "H\n",
      "e\n",
      "l\n",
      "l\n",
      "o\n"
     ]
    }
   ],
   "source": [
    "message = \"Hello\"\n",
    "for m in message:\n",
    "    print(m)"
   ]
  }
 ],
 "metadata": {
  "kernelspec": {
   "display_name": "Python 3",
   "language": "python",
   "name": "python3"
  },
  "language_info": {
   "codemirror_mode": {
    "name": "ipython",
    "version": 3
   },
   "file_extension": ".py",
   "mimetype": "text/x-python",
   "name": "python",
   "nbconvert_exporter": "python",
   "pygments_lexer": "ipython3",
   "version": "3.11.9"
  }
 },
 "nbformat": 4,
 "nbformat_minor": 5
}
