{
 "cells": [
  {
   "cell_type": "markdown",
   "id": "547fb6dd",
   "metadata": {},
   "source": [
    "# Conditions"
   ]
  },
  {
   "cell_type": "code",
   "execution_count": 5,
   "id": "c9f58a82",
   "metadata": {},
   "outputs": [],
   "source": [
    "number: int = 51"
   ]
  },
  {
   "cell_type": "code",
   "execution_count": 6,
   "id": "e9e329c2",
   "metadata": {},
   "outputs": [
    {
     "data": {
      "text/plain": [
       "1"
      ]
     },
     "execution_count": 6,
     "metadata": {},
     "output_type": "execute_result"
    }
   ],
   "source": [
    "# lets findout if the number is even or odd\n",
    "number % 2"
   ]
  },
  {
   "cell_type": "code",
   "execution_count": 7,
   "id": "3d84a921",
   "metadata": {},
   "outputs": [
    {
     "data": {
      "text/plain": [
       "False"
      ]
     },
     "execution_count": 7,
     "metadata": {},
     "output_type": "execute_result"
    }
   ],
   "source": [
    "number % 2 == 0"
   ]
  },
  {
   "cell_type": "code",
   "execution_count": 11,
   "id": "3e10a206",
   "metadata": {},
   "outputs": [
    {
     "name": "stdout",
     "output_type": "stream",
     "text": [
      "This is odd\n"
     ]
    }
   ],
   "source": [
    "number:int = int(input(\"Enter any number of your choice\"))\n",
    "if number % 2 == 0:\n",
    "    print(\"This is even\")\n",
    "if number % 2 != 0:\n",
    "    print(\"This is odd\")"
   ]
  },
  {
   "cell_type": "code",
   "execution_count": 12,
   "id": "8d36335f",
   "metadata": {},
   "outputs": [
    {
     "name": "stdout",
     "output_type": "stream",
     "text": [
      "This is odd\n"
     ]
    }
   ],
   "source": [
    "number:int = int(input(\"Enter any number of your choice\"))\n",
    "if number % 2 == 0:\n",
    "    print(\"This is even\")\n",
    "else:\n",
    "    print(\"This is odd\")"
   ]
  },
  {
   "cell_type": "code",
   "execution_count": 13,
   "id": "99ddc150",
   "metadata": {},
   "outputs": [
    {
     "name": "stdout",
     "output_type": "stream",
     "text": [
      "1\n",
      "2\n",
      "3\n",
      "4\n",
      "5\n",
      "6\n",
      "7\n",
      "8\n",
      "9\n",
      "10\n"
     ]
    }
   ],
   "source": [
    "print(1)\n",
    "print(2)\n",
    "print(3)\n",
    "print(4)\n",
    "print(5)\n",
    "print(6)\n",
    "print(7)\n",
    "print(8)\n",
    "print(9)\n",
    "print(10)"
   ]
  },
  {
   "cell_type": "code",
   "execution_count": 15,
   "id": "849c82bd",
   "metadata": {},
   "outputs": [
    {
     "name": "stdout",
     "output_type": "stream",
     "text": [
      "1\n",
      "2\n",
      "3\n",
      "4\n",
      "5\n"
     ]
    }
   ],
   "source": [
    "index:int = 1\n",
    "max:int = 5\n",
    "while index <= max:\n",
    "    print(index)\n",
    "    #index = index + 1\n",
    "    index += 1"
   ]
  },
  {
   "cell_type": "markdown",
   "id": "4ed8d4f1",
   "metadata": {},
   "source": [
    "## Project euler 1\n",
    "\n",
    "* Conversation with sara\n",
    "```\n",
    "Hi sara\n",
    "Remember 9 as max\n",
    "Remember 1 as start\n",
    "Remember 0 as result\n",
    "do the follwing steps till start == max\n",
    "\n",
    "    if start % 3 == 0 or start % 5 == 0 then\n",
    "    add start to result\n",
    "\n",
    "    calculate start + 1 and remember as start #start = start + 1\n",
    "```"
   ]
  },
  {
   "cell_type": "code",
   "execution_count": 17,
   "id": "636a9eba",
   "metadata": {},
   "outputs": [
    {
     "name": "stdout",
     "output_type": "stream",
     "text": [
      "233168\n"
     ]
    }
   ],
   "source": [
    "max = 999\n",
    "start = 1\n",
    "result = 0\n",
    "while start <= max:\n",
    "    if start % 3 == 0 or start % 5 == 0:\n",
    "        result += start\n",
    "    start += 1\n",
    "print(result)"
   ]
  },
  {
   "cell_type": "markdown",
   "id": "871f60a2",
   "metadata": {},
   "source": [
    "## Project euler 2\n",
    "\n",
    "* Coversation with Sara\n",
    "```\n",
    "Hi Sara\n",
    "a = 1\n",
    "b = 2\n",
    "max = 10\n",
    "result = 2\n",
    "until a + b < max\n",
    "  c = a + b\n",
    "  if c % 2 == 0 then result = result + c\n",
    "  a = b\n",
    "  b = c\n",
    "```"
   ]
  },
  {
   "cell_type": "code",
   "execution_count": 20,
   "id": "83109a23",
   "metadata": {},
   "outputs": [
    {
     "name": "stdout",
     "output_type": "stream",
     "text": [
      "4613732\n"
     ]
    }
   ],
   "source": [
    "first = 1\n",
    "second = 2\n",
    "result = 2 # since in the existing sequence we already have an even number 2\n",
    "max = 4000000\n",
    "while first + second < max:\n",
    "    third = first + second\n",
    "    if third % 2 == 0:\n",
    "        result += third\n",
    "    first = second\n",
    "    second = third\n",
    "print(result)"
   ]
  }
 ],
 "metadata": {
  "kernelspec": {
   "display_name": "Python 3",
   "language": "python",
   "name": "python3"
  },
  "language_info": {
   "codemirror_mode": {
    "name": "ipython",
    "version": 3
   },
   "file_extension": ".py",
   "mimetype": "text/x-python",
   "name": "python",
   "nbconvert_exporter": "python",
   "pygments_lexer": "ipython3",
   "version": "3.11.9"
  }
 },
 "nbformat": 4,
 "nbformat_minor": 5
}
