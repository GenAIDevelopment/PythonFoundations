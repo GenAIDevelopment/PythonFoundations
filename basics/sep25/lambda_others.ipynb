{
 "cells": [
  {
   "cell_type": "markdown",
   "id": "3f744be1",
   "metadata": {},
   "source": [
    "### Lambda"
   ]
  },
  {
   "cell_type": "code",
   "execution_count": 1,
   "id": "47236630",
   "metadata": {},
   "outputs": [],
   "source": [
    "double = lambda x: x * 2"
   ]
  },
  {
   "cell_type": "code",
   "execution_count": 2,
   "id": "f0076d36",
   "metadata": {},
   "outputs": [
    {
     "data": {
      "text/plain": [
       "8"
      ]
     },
     "execution_count": 2,
     "metadata": {},
     "output_type": "execute_result"
    }
   ],
   "source": [
    "double(4)"
   ]
  },
  {
   "cell_type": "code",
   "execution_count": 3,
   "id": "52a7d5e5",
   "metadata": {},
   "outputs": [],
   "source": [
    "# Equivalent\n",
    "# def double(x:int) -> int:\n",
    "#     return x * 2"
   ]
  },
  {
   "cell_type": "code",
   "execution_count": 4,
   "id": "f7b4b612",
   "metadata": {},
   "outputs": [
    {
     "data": {
      "text/plain": [
       "9"
      ]
     },
     "execution_count": 4,
     "metadata": {},
     "output_type": "execute_result"
    }
   ],
   "source": [
    "add = lambda x,y: x + y\n",
    "add(4,5)"
   ]
  },
  {
   "cell_type": "code",
   "execution_count": 5,
   "id": "ef39bd1a",
   "metadata": {},
   "outputs": [],
   "source": [
    "hi = lambda name: f\"Hello {name}\""
   ]
  },
  {
   "cell_type": "code",
   "execution_count": 6,
   "id": "7079a3a9",
   "metadata": {},
   "outputs": [
    {
     "data": {
      "text/plain": [
       "'Hello sunday'"
      ]
     },
     "execution_count": 6,
     "metadata": {},
     "output_type": "execute_result"
    }
   ],
   "source": [
    "hi(\"sunday\")"
   ]
  },
  {
   "cell_type": "code",
   "execution_count": 7,
   "id": "c769950f",
   "metadata": {},
   "outputs": [],
   "source": [
    "numbers = [1,2,3,4,5]"
   ]
  },
  {
   "cell_type": "code",
   "execution_count": 8,
   "id": "b8fd9336",
   "metadata": {},
   "outputs": [
    {
     "data": {
      "text/plain": [
       "[1, 4, 9, 16, 25]"
      ]
     },
     "execution_count": 8,
     "metadata": {},
     "output_type": "execute_result"
    }
   ],
   "source": [
    "# map\n",
    "\n",
    "list(map(lambda x: x ** 2, numbers))"
   ]
  },
  {
   "cell_type": "code",
   "execution_count": null,
   "id": "1be27f30",
   "metadata": {},
   "outputs": [
    {
     "data": {
      "text/plain": [
       "[1, 4, 9, 16, 25]"
      ]
     },
     "execution_count": 10,
     "metadata": {},
     "output_type": "execute_result"
    }
   ],
   "source": [
    "# squared_numbers = []\n",
    "# for number in numbers:\n",
    "#     squared_numbers.append(number * number)\n",
    "# squared_numbers"
   ]
  },
  {
   "cell_type": "code",
   "execution_count": 13,
   "id": "0a131b55",
   "metadata": {},
   "outputs": [
    {
     "name": "stdout",
     "output_type": "stream",
     "text": [
      "[1, 2, 3, 4, 5]\n"
     ]
    },
    {
     "data": {
      "text/plain": [
       "[2, 4]"
      ]
     },
     "execution_count": 13,
     "metadata": {},
     "output_type": "execute_result"
    }
   ],
   "source": [
    "# filter\n",
    "print(numbers)\n",
    "list(filter(lambda x: x%2 == 0 , numbers))"
   ]
  },
  {
   "cell_type": "code",
   "execution_count": 16,
   "id": "4c81272f",
   "metadata": {},
   "outputs": [
    {
     "data": {
      "text/plain": [
       "[4, 16, 36, 64, 100]"
      ]
     },
     "execution_count": 16,
     "metadata": {},
     "output_type": "execute_result"
    }
   ],
   "source": [
    "# square of even numbers in the list\n",
    "numbers = [1,2,3,4,5,6,7,8,9,10]\n",
    "even_numbers = list(filter(lambda x: x%2 ==0, numbers))\n",
    "list(map(lambda x: x**2, even_numbers))"
   ]
  },
  {
   "cell_type": "code",
   "execution_count": 15,
   "id": "3428fe5c",
   "metadata": {},
   "outputs": [
    {
     "data": {
      "text/plain": [
       "30"
      ]
     },
     "execution_count": 15,
     "metadata": {},
     "output_type": "execute_result"
    }
   ],
   "source": [
    "# reduce\n",
    "from functools import reduce\n",
    "reduce(lambda x,y: x + y, even_numbers)"
   ]
  },
  {
   "cell_type": "code",
   "execution_count": 19,
   "id": "2b98d667",
   "metadata": {},
   "outputs": [
    {
     "name": "stdout",
     "output_type": "stream",
     "text": [
      "[1, 2, 3, 4, 5, 6, 7, 8, 9]\n"
     ]
    },
    {
     "data": {
      "text/plain": [
       "23"
      ]
     },
     "execution_count": 19,
     "metadata": {},
     "output_type": "execute_result"
    }
   ],
   "source": [
    "\n",
    "numbers = list(range(1,10))\n",
    "print(numbers)\n",
    "sum(filter(lambda x: x%3 == 0 or x % 5 == 0, numbers))"
   ]
  },
  {
   "cell_type": "code",
   "execution_count": 20,
   "id": "9841ce80",
   "metadata": {},
   "outputs": [
    {
     "data": {
      "text/plain": [
       "120"
      ]
     },
     "execution_count": 20,
     "metadata": {},
     "output_type": "execute_result"
    }
   ],
   "source": [
    "from functools import reduce\n",
    "numbers = [ 1, 2,3,4,5]\n",
    "\n",
    "reduce(lambda x,y: x * y, numbers)"
   ]
  },
  {
   "cell_type": "markdown",
   "id": "df848d88",
   "metadata": {},
   "source": [
    "## Comprehensions"
   ]
  },
  {
   "cell_type": "code",
   "execution_count": 21,
   "id": "b9b6e1c2",
   "metadata": {},
   "outputs": [
    {
     "data": {
      "text/plain": [
       "[1, 4, 9, 16, 25]"
      ]
     },
     "execution_count": 21,
     "metadata": {},
     "output_type": "execute_result"
    }
   ],
   "source": [
    "# List comprehensions\n",
    "\n",
    "numbers = [1,2,3,4,5]\n",
    "[ number * number for number in numbers ]"
   ]
  },
  {
   "cell_type": "code",
   "execution_count": 22,
   "id": "943db205",
   "metadata": {},
   "outputs": [
    {
     "data": {
      "text/plain": [
       "[4, 16]"
      ]
     },
     "execution_count": 22,
     "metadata": {},
     "output_type": "execute_result"
    }
   ],
   "source": [
    "[ number * number for number in numbers if number % 2 == 0 ]"
   ]
  },
  {
   "cell_type": "code",
   "execution_count": 23,
   "id": "9318ab96",
   "metadata": {},
   "outputs": [
    {
     "data": {
      "text/plain": [
       "23"
      ]
     },
     "execution_count": 23,
     "metadata": {},
     "output_type": "execute_result"
    }
   ],
   "source": [
    "numbers = list(range(1,10))\n",
    "sum([ number for number in numbers if number %3 == 0 or number % 5 == 0 ])"
   ]
  },
  {
   "cell_type": "code",
   "execution_count": 25,
   "id": "131963a9",
   "metadata": {},
   "outputs": [
    {
     "data": {
      "text/plain": [
       "233168"
      ]
     },
     "execution_count": 25,
     "metadata": {},
     "output_type": "execute_result"
    }
   ],
   "source": [
    "sum([ number for number in range(1,1000) if number %3 == 0 or number % 5 == 0 ])"
   ]
  },
  {
   "cell_type": "code",
   "execution_count": 26,
   "id": "b2093f74",
   "metadata": {},
   "outputs": [
    {
     "data": {
      "text/plain": [
       "[1, 4, 9, 16, 25, 36, 49, 64, 81, 100]"
      ]
     },
     "execution_count": 26,
     "metadata": {},
     "output_type": "execute_result"
    }
   ],
   "source": [
    "[ number * number for  number in range(1,11) ]"
   ]
  },
  {
   "cell_type": "code",
   "execution_count": 27,
   "id": "2b40a191",
   "metadata": {},
   "outputs": [
    {
     "data": {
      "text/plain": [
       "{1: 1, 2: 4, 3: 9, 4: 16, 5: 25, 6: 36, 7: 49, 8: 64, 9: 81}"
      ]
     },
     "execution_count": 27,
     "metadata": {},
     "output_type": "execute_result"
    }
   ],
   "source": [
    "# lets create  dictionary with key as number and value as square of number\n",
    "\n",
    "{ number: number * number for number in range(1,10) }"
   ]
  },
  {
   "cell_type": "code",
   "execution_count": 28,
   "id": "531d4fb7",
   "metadata": {},
   "outputs": [],
   "source": [
    "items = [\n",
    "    {'name': 'xyz', 'price': 100.5},\n",
    "    {'name': 'apple', 'price': 1.5},\n",
    "    {'name': 'banana', 'price': 0.75},\n",
    "    {'name': 't-shirt', 'price': 25.99},\n",
    "    {'name': 'notebook', 'price': 4.5}\n",
    "]"
   ]
  },
  {
   "cell_type": "code",
   "execution_count": 30,
   "id": "37f23039",
   "metadata": {},
   "outputs": [
    {
     "data": {
      "text/plain": [
       "133.24"
      ]
     },
     "execution_count": 30,
     "metadata": {},
     "output_type": "execute_result"
    }
   ],
   "source": [
    "# sum of prices of all items\n",
    "from functools import reduce\n",
    "sum([ item['price'] for item in items ])"
   ]
  },
  {
   "cell_type": "code",
   "execution_count": 32,
   "id": "020c1889",
   "metadata": {},
   "outputs": [
    {
     "data": {
      "text/plain": [
       "[{'name': 'xyz', 'price': 102.0075},\n",
       " {'name': 'apple', 'price': 1.5225},\n",
       " {'name': 'banana', 'price': 0.76125},\n",
       " {'name': 't-shirt', 'price': 26.379849999999998},\n",
       " {'name': 'notebook', 'price': 4.5675}]"
      ]
     },
     "execution_count": 32,
     "metadata": {},
     "output_type": "execute_result"
    }
   ],
   "source": [
    "[ {'name': item['name'], 'price': item['price'] * 1.015 } for item in items]"
   ]
  },
  {
   "cell_type": "code",
   "execution_count": null,
   "id": "9b32bad1",
   "metadata": {},
   "outputs": [],
   "source": [
    "def fibb_sequenc(terms: int=10) -> list[int]:\n",
    "    pass"
   ]
  }
 ],
 "metadata": {
  "kernelspec": {
   "display_name": "Python 3",
   "language": "python",
   "name": "python3"
  },
  "language_info": {
   "codemirror_mode": {
    "name": "ipython",
    "version": 3
   },
   "file_extension": ".py",
   "mimetype": "text/x-python",
   "name": "python",
   "nbconvert_exporter": "python",
   "pygments_lexer": "ipython3",
   "version": "3.11.9"
  }
 },
 "nbformat": 4,
 "nbformat_minor": 5
}
