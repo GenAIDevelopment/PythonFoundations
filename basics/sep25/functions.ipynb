{
 "cells": [
  {
   "cell_type": "markdown",
   "id": "04efaddc",
   "metadata": {},
   "source": [
    "# Exploring functions"
   ]
  },
  {
   "cell_type": "code",
   "execution_count": 1,
   "id": "3cbe59bd",
   "metadata": {},
   "outputs": [],
   "source": [
    "# defining the function\n",
    "def say_hello():\n",
    "    print(\"Hello\")"
   ]
  },
  {
   "cell_type": "code",
   "execution_count": 2,
   "id": "b81d85bd",
   "metadata": {},
   "outputs": [
    {
     "name": "stdout",
     "output_type": "stream",
     "text": [
      "Hello\n"
     ]
    }
   ],
   "source": [
    "say_hello()"
   ]
  },
  {
   "cell_type": "code",
   "execution_count": 5,
   "id": "8a724406",
   "metadata": {},
   "outputs": [],
   "source": [
    "# function with arguments\n",
    "def add(a, b):\n",
    "    print(f\"a={a}\")\n",
    "    print(f\"b={b}\")\n",
    "    return a + b"
   ]
  },
  {
   "cell_type": "code",
   "execution_count": 6,
   "id": "0b2375da",
   "metadata": {},
   "outputs": [
    {
     "name": "stdout",
     "output_type": "stream",
     "text": [
      "a=1\n",
      "b=5\n"
     ]
    },
    {
     "data": {
      "text/plain": [
       "6"
      ]
     },
     "execution_count": 6,
     "metadata": {},
     "output_type": "execute_result"
    }
   ],
   "source": [
    "# positional arguments\n",
    "add(1,5)"
   ]
  },
  {
   "cell_type": "code",
   "execution_count": 7,
   "id": "c6b4845a",
   "metadata": {},
   "outputs": [
    {
     "name": "stdout",
     "output_type": "stream",
     "text": [
      "a=3\n",
      "b=1\n"
     ]
    },
    {
     "data": {
      "text/plain": [
       "4"
      ]
     },
     "execution_count": 7,
     "metadata": {},
     "output_type": "execute_result"
    }
   ],
   "source": [
    "# named/keyword arguments\n",
    "add(b=1, a=3)"
   ]
  },
  {
   "cell_type": "code",
   "execution_count": 8,
   "id": "32968b5d",
   "metadata": {},
   "outputs": [],
   "source": [
    "# default argument\n",
    "def mul(a, b=1):\n",
    "    print(f\"a={a}\")\n",
    "    print(f\"b={b}\")\n",
    "    return a * b"
   ]
  },
  {
   "cell_type": "code",
   "execution_count": 9,
   "id": "1bb56ece",
   "metadata": {},
   "outputs": [
    {
     "name": "stdout",
     "output_type": "stream",
     "text": [
      "a=5\n",
      "b=1\n"
     ]
    },
    {
     "data": {
      "text/plain": [
       "5"
      ]
     },
     "execution_count": 9,
     "metadata": {},
     "output_type": "execute_result"
    }
   ],
   "source": [
    "mul(5)"
   ]
  },
  {
   "cell_type": "code",
   "execution_count": 11,
   "id": "8bf7055e",
   "metadata": {},
   "outputs": [],
   "source": [
    "def sub(a=5, b=4):\n",
    "    print(f\"a={a}\")\n",
    "    print(f\"b={b}\")\n",
    "    return a - b"
   ]
  },
  {
   "cell_type": "code",
   "execution_count": 12,
   "id": "ad08dffb",
   "metadata": {},
   "outputs": [
    {
     "name": "stdout",
     "output_type": "stream",
     "text": [
      "a=5\n",
      "b=4\n"
     ]
    },
    {
     "data": {
      "text/plain": [
       "1"
      ]
     },
     "execution_count": 12,
     "metadata": {},
     "output_type": "execute_result"
    }
   ],
   "source": [
    "sub()"
   ]
  },
  {
   "cell_type": "code",
   "execution_count": 13,
   "id": "866b2e2b",
   "metadata": {},
   "outputs": [
    {
     "name": "stdout",
     "output_type": "stream",
     "text": [
      "a=10\n",
      "b=4\n"
     ]
    },
    {
     "data": {
      "text/plain": [
       "6"
      ]
     },
     "execution_count": 13,
     "metadata": {},
     "output_type": "execute_result"
    }
   ],
   "source": [
    "sub(a=10)"
   ]
  },
  {
   "cell_type": "code",
   "execution_count": 14,
   "id": "e6261c69",
   "metadata": {},
   "outputs": [
    {
     "name": "stdout",
     "output_type": "stream",
     "text": [
      "a=5\n",
      "b=8\n"
     ]
    },
    {
     "data": {
      "text/plain": [
       "-3"
      ]
     },
     "execution_count": 14,
     "metadata": {},
     "output_type": "execute_result"
    }
   ],
   "source": [
    "sub(b=8)"
   ]
  },
  {
   "cell_type": "code",
   "execution_count": 15,
   "id": "5493d6a5",
   "metadata": {},
   "outputs": [
    {
     "name": "stdout",
     "output_type": "stream",
     "text": [
      "a=5\n",
      "b=2\n"
     ]
    },
    {
     "data": {
      "text/plain": [
       "3"
      ]
     },
     "execution_count": 15,
     "metadata": {},
     "output_type": "execute_result"
    }
   ],
   "source": [
    "sub(5,2)"
   ]
  },
  {
   "cell_type": "code",
   "execution_count": 16,
   "id": "22ba1b7c",
   "metadata": {},
   "outputs": [],
   "source": [
    "# ensure type hinting\n",
    "def add(a:int, b:int) -> int:\n",
    "    return a + b"
   ]
  },
  {
   "cell_type": "code",
   "execution_count": null,
   "id": "5a7dbd52",
   "metadata": {},
   "outputs": [],
   "source": [
    "def add(a:int|float, b:int|float) -> int|float:\n",
    "    return a + b"
   ]
  },
  {
   "cell_type": "markdown",
   "id": "7ce50918",
   "metadata": {},
   "source": [
    "## docstring\n",
    "\n",
    "* Docstrings can document modules, classes and functions\n",
    "* Using docstring we can generate the documentation.\n",
    "* For docstrings we would be using google style guide\n",
    "* Prompt\n",
    "```\n",
    "As a python expert, Give me some examples for function doc strings \n",
    "```\n",
    "* Install an extension `autoDocstring` from vscode"
   ]
  },
  {
   "cell_type": "code",
   "execution_count": null,
   "id": "9f17f7fd",
   "metadata": {},
   "outputs": [],
   "source": [
    "def add(a:int|float, b:int|float) -> int|float:\n",
    "    \"\"\"Adds two number\n",
    "\n",
    "    Args:\n",
    "        a (int | float): first argument\n",
    "        b (int | float): second argument\n",
    "\n",
    "    Returns:\n",
    "        int|float: result which is sum of a,b\n",
    "    \"\"\"\n",
    "    return a + b"
   ]
  }
 ],
 "metadata": {
  "kernelspec": {
   "display_name": "Python 3",
   "language": "python",
   "name": "python3"
  },
  "language_info": {
   "codemirror_mode": {
    "name": "ipython",
    "version": 3
   },
   "file_extension": ".py",
   "mimetype": "text/x-python",
   "name": "python",
   "nbconvert_exporter": "python",
   "pygments_lexer": "ipython3",
   "version": "3.11.9"
  }
 },
 "nbformat": 4,
 "nbformat_minor": 5
}
