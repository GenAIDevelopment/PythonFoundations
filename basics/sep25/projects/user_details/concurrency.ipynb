{
 "cells": [
  {
   "cell_type": "code",
   "execution_count": 1,
   "id": "8172ea4d",
   "metadata": {},
   "outputs": [],
   "source": [
    "# Synchronous\n",
    "import time\n",
    "\n",
    "def task(name: str) -> None:\n",
    "    print(f\"Start {name}\")\n",
    "    time.sleep(2)\n",
    "    print(f\"End {name}\")\n",
    "\n",
    "def main():\n",
    "    for index in range(3):\n",
    "        task(f\"task-{index}\")\n",
    "\n"
   ]
  },
  {
   "cell_type": "code",
   "execution_count": 2,
   "id": "371f300a",
   "metadata": {},
   "outputs": [
    {
     "name": "stdout",
     "output_type": "stream",
     "text": [
      "Start task-0\n",
      "End task-0\n",
      "Start task-1\n",
      "End task-1\n",
      "Start task-2\n",
      "End task-2\n"
     ]
    }
   ],
   "source": [
    "main()"
   ]
  },
  {
   "cell_type": "code",
   "execution_count": 3,
   "id": "18b3f823",
   "metadata": {},
   "outputs": [
    {
     "name": "stdout",
     "output_type": "stream",
     "text": [
      "Start task-0\n",
      "End task-0\n",
      "Start task-1\n",
      "End task-1\n",
      "Start task-2\n",
      "End task-2\n"
     ]
    },
    {
     "data": {
      "text/plain": [
       "6.002506699995138"
      ]
     },
     "execution_count": 3,
     "metadata": {},
     "output_type": "execute_result"
    }
   ],
   "source": [
    "import timeit\n",
    "\n",
    "setup_code = \"from __main__ import main\"\n",
    "\n",
    "# 2. Statement code: Call the function\n",
    "statement_code = \"main()\"\n",
    "\n",
    "total_time = timeit.timeit(\n",
    "    stmt=statement_code,\n",
    "    setup=setup_code,\n",
    "    number=1\n",
    ")\n",
    "total_time"
   ]
  },
  {
   "cell_type": "code",
   "execution_count": 12,
   "id": "fea8a542",
   "metadata": {},
   "outputs": [],
   "source": [
    "import threading\n",
    "\n",
    "def task(name: str) -> None:\n",
    "    print(f\"Start {name}\")\n",
    "    time.sleep(2)\n",
    "    print(f\"End {name}\")\n",
    "\n",
    "def thread_main():\n",
    "    threads = []\n",
    "    for index in range(3):\n",
    "        t = threading.Thread(target=task, args=(f\"task-{index}\",))\n",
    "        t.start()\n",
    "        threads.append(t)\n",
    "\n",
    "    for t in threads:\n",
    "        t.join()"
   ]
  },
  {
   "cell_type": "code",
   "execution_count": 13,
   "id": "ccfa5171",
   "metadata": {},
   "outputs": [
    {
     "name": "stdout",
     "output_type": "stream",
     "text": [
      "Start task-0\n",
      "Start task-1\n",
      "Start task-2\n",
      "End task-0\n",
      "End task-1\n",
      "End task-2\n"
     ]
    },
    {
     "data": {
      "text/plain": [
       "2.0073930000071414"
      ]
     },
     "execution_count": 13,
     "metadata": {},
     "output_type": "execute_result"
    }
   ],
   "source": [
    "import timeit\n",
    "\n",
    "setup_code = \"from __main__ import thread_main\"\n",
    "\n",
    "# 2. Statement code: Call the function\n",
    "statement_code = \"thread_main()\"\n",
    "\n",
    "total_time = timeit.timeit(\n",
    "    stmt=statement_code,\n",
    "    setup=setup_code,\n",
    "    number=1\n",
    ")\n",
    "total_time"
   ]
  },
  {
   "cell_type": "code",
   "execution_count": 15,
   "id": "4e0b7a33",
   "metadata": {},
   "outputs": [],
   "source": [
    "from concurrent.futures import ThreadPoolExecutor\n",
    "def threadpool_main():\n",
    "    with ThreadPoolExecutor(max_workers=3) as ex:\n",
    "        results = list(ex.map(task, range(3)))\n",
    "    print(results)\n",
    "\n",
    "\n"
   ]
  },
  {
   "cell_type": "code",
   "execution_count": 16,
   "id": "40ff089f",
   "metadata": {},
   "outputs": [
    {
     "name": "stdout",
     "output_type": "stream",
     "text": [
      "Start 0\n",
      "Start 1\n",
      "Start 2\n",
      "End 0\n",
      "End 1\n",
      "End 2\n",
      "[None, None, None]\n"
     ]
    },
    {
     "data": {
      "text/plain": [
       "2.0226268999977037"
      ]
     },
     "execution_count": 16,
     "metadata": {},
     "output_type": "execute_result"
    }
   ],
   "source": [
    "import timeit\n",
    "\n",
    "setup_code = \"from __main__ import threadpool_main\"\n",
    "\n",
    "# 2. Statement code: Call the function\n",
    "statement_code = \"threadpool_main()\"\n",
    "\n",
    "total_time = timeit.timeit(\n",
    "    stmt=statement_code,\n",
    "    setup=setup_code,\n",
    "    number=1\n",
    ")\n",
    "total_time"
   ]
  },
  {
   "cell_type": "code",
   "execution_count": 19,
   "id": "74c67dad",
   "metadata": {},
   "outputs": [
    {
     "name": "stdout",
     "output_type": "stream",
     "text": [
      "2025-10-21 07:58:50.686134\n",
      "Start 0\n",
      "Start 1\n",
      "Start 2\n",
      "End 0\n",
      "End 1\n",
      "End 2\n",
      "[None, None, None]\n",
      "2025-10-21 07:58:52.697547\n"
     ]
    }
   ],
   "source": [
    "# non blocking\n",
    "import asyncio, random\n",
    "import datetime\n",
    "async def task(i):\n",
    "    print(f\"Start {i}\")\n",
    "    await asyncio.sleep(2)\n",
    "    print(f\"End {i}\")\n",
    "\n",
    "async def amain():\n",
    "    results = await asyncio.gather(*(task(i) for i in range(3)))\n",
    "    print(results)\n",
    "\n",
    "#asyncio.run(amain())\n",
    "print(datetime.datetime.now())\n",
    "await amain()\n",
    "print(datetime.datetime.now())\n"
   ]
  },
  {
   "cell_type": "code",
   "execution_count": 24,
   "id": "3e89c5ae",
   "metadata": {},
   "outputs": [
    {
     "name": "stdout",
     "output_type": "stream",
     "text": [
      "2025-10-21 08:05:14.164670\n",
      "start 4\n",
      "s = 21081849486.442493\n",
      "End 4\n",
      "2025-10-21 08:05:14.735663\n"
     ]
    }
   ],
   "source": [
    "import math\n",
    "def cpu_bound(n):\n",
    "    print(f\"start {n}\")\n",
    "    s = sum(math.sqrt(i) for i in range(10000000))\n",
    "    print(f\"s = {s}\")\n",
    "    print(f\"End {n}\")\n",
    "    return n\n",
    "\n",
    "print(datetime.datetime.now())\n",
    "cpu_bound(4)\n",
    "print(datetime.datetime.now())"
   ]
  }
 ],
 "metadata": {
  "kernelspec": {
   "display_name": "user-details",
   "language": "python",
   "name": "python3"
  },
  "language_info": {
   "codemirror_mode": {
    "name": "ipython",
    "version": 3
   },
   "file_extension": ".py",
   "mimetype": "text/x-python",
   "name": "python",
   "nbconvert_exporter": "python",
   "pygments_lexer": "ipython3",
   "version": "3.13.5"
  }
 },
 "nbformat": 4,
 "nbformat_minor": 5
}
