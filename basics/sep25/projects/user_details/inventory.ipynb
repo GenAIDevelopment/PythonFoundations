{
 "cells": [
  {
   "cell_type": "code",
   "execution_count": 16,
   "id": "442427aa",
   "metadata": {},
   "outputs": [],
   "source": [
    "from sqlalchemy.orm import DeclarativeBase"
   ]
  },
  {
   "cell_type": "code",
   "execution_count": 17,
   "id": "b7fc6e0c",
   "metadata": {},
   "outputs": [],
   "source": [
    "class Base(DeclarativeBase): pass"
   ]
  },
  {
   "cell_type": "code",
   "execution_count": 18,
   "id": "0d3cd73b",
   "metadata": {},
   "outputs": [],
   "source": [
    "from sqlalchemy import Column, Integer, String, Identity, create_engine, DateTime, func\n",
    "from sqlalchemy.orm import DeclarativeBase, sessionmaker"
   ]
  },
  {
   "cell_type": "code",
   "execution_count": 19,
   "id": "f248a839",
   "metadata": {},
   "outputs": [],
   "source": [
    "class IdentityMixin:\n",
    "    id = Column(\n",
    "        Integer,\n",
    "        Identity(start=1, increment=1),  # Auto identity\n",
    "        primary_key=True\n",
    "    )"
   ]
  },
  {
   "cell_type": "code",
   "execution_count": 20,
   "id": "6be3db03",
   "metadata": {},
   "outputs": [],
   "source": [
    "class TimestampMixin:\n",
    "    created_at = Column(DateTime(timezone=True), server_default=func.now(), nullable=False)\n",
    "    lastupdate_at = Column(DateTime(timezone=True), server_default=func.now(), onupdate=func.now())"
   ]
  },
  {
   "cell_type": "code",
   "execution_count": 21,
   "id": "e313cf99",
   "metadata": {},
   "outputs": [],
   "source": [
    "class Product(IdentityMixin, TimestampMixin, Base):\n",
    "    __tablename__ = \"products\"\n",
    "\n",
    "    name = Column(\n",
    "        String(100),\n",
    "        nullable = False\n",
    "    )\n",
    "    sku = Column(\n",
    "        String(100),\n",
    "        nullable = True\n",
    "    )"
   ]
  },
  {
   "cell_type": "code",
   "execution_count": 22,
   "id": "3005894f",
   "metadata": {},
   "outputs": [],
   "source": [
    "class Supplier(IdentityMixin, TimestampMixin, Base):\n",
    "    __tablename__ = \"suppliers\"\n",
    "\n",
    "    name = Column(\n",
    "        String(100),\n",
    "        nullable = False\n",
    "    )\n",
    "\n",
    "    contact_name = Column(\n",
    "        String(100),\n",
    "        nullable = False\n",
    "    )\n",
    "\n",
    "    phone = Column(\n",
    "        String(10),\n",
    "        nullable = False\n",
    "    )\n",
    "\n",
    "    email = Column(\n",
    "        String(100),\n",
    "        nullable = False\n",
    "    )\n",
    "\n",
    "    address = Column(\n",
    "        String(256),\n",
    "        nullable = False\n",
    "    )\n",
    "\n"
   ]
  },
  {
   "cell_type": "code",
   "execution_count": 23,
   "id": "7d131595",
   "metadata": {},
   "outputs": [],
   "source": [
    "class Warehouse(IdentityMixin, TimestampMixin, Base):\n",
    "    __tablename__ = \"warehouses\"\n",
    "    \n",
    "    name = Column(\n",
    "        String(100),\n",
    "        nullable = False\n",
    "    )\n",
    "\n",
    "    location = Column(\n",
    "        String(100),\n",
    "        nullable = False\n",
    "    )"
   ]
  },
  {
   "cell_type": "code",
   "execution_count": null,
   "id": "4825a79f",
   "metadata": {},
   "outputs": [],
   "source": []
  }
 ],
 "metadata": {
  "kernelspec": {
   "display_name": "user-details",
   "language": "python",
   "name": "python3"
  },
  "language_info": {
   "codemirror_mode": {
    "name": "ipython",
    "version": 3
   },
   "file_extension": ".py",
   "mimetype": "text/x-python",
   "name": "python",
   "nbconvert_exporter": "python",
   "pygments_lexer": "ipython3",
   "version": "3.13.5"
  }
 },
 "nbformat": 4,
 "nbformat_minor": 5
}
