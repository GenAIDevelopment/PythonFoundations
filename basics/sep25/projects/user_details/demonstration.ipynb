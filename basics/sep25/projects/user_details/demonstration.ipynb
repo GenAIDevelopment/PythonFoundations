{
 "cells": [
  {
   "cell_type": "code",
   "execution_count": 40,
   "id": "3391a1e9",
   "metadata": {},
   "outputs": [],
   "source": [
    "from dotenv import load_dotenv"
   ]
  },
  {
   "cell_type": "code",
   "execution_count": 41,
   "id": "51dfa343",
   "metadata": {},
   "outputs": [],
   "source": [
    "_ = load_dotenv()"
   ]
  },
  {
   "cell_type": "code",
   "execution_count": 42,
   "id": "97c18574",
   "metadata": {},
   "outputs": [],
   "source": [
    "from sqlalchemy import create_engine"
   ]
  },
  {
   "cell_type": "code",
   "execution_count": 43,
   "id": "ba5d0dd7",
   "metadata": {},
   "outputs": [],
   "source": [
    "import os"
   ]
  },
  {
   "cell_type": "code",
   "execution_count": 44,
   "id": "f89a942d",
   "metadata": {},
   "outputs": [],
   "source": [
    "CONNECTION_URL = os.getenv('DB_URL', 'sqlite:///default.db')"
   ]
  },
  {
   "cell_type": "code",
   "execution_count": null,
   "id": "c71830ba",
   "metadata": {},
   "outputs": [],
   "source": [
    "    engine = create_engine(url = CONNECTION_URL, echo=True) \n",
    "# pool = 5"
   ]
  },
  {
   "cell_type": "code",
   "execution_count": 46,
   "id": "4d92ae9f",
   "metadata": {},
   "outputs": [],
   "source": [
    "# create engine supports \n",
    "# pool\n",
    "# echo"
   ]
  },
  {
   "cell_type": "code",
   "execution_count": 47,
   "id": "53ed43c4",
   "metadata": {},
   "outputs": [],
   "source": [
    "# session will perform CRUD "
   ]
  },
  {
   "cell_type": "code",
   "execution_count": 48,
   "id": "73ad7796",
   "metadata": {},
   "outputs": [],
   "source": [
    "# from sqlalchemy import create_engine\n",
    "# from sqlalchemy.orm import sessionmaker\n",
    "\n",
    "# # 1. Create an Engine (representing the database connection)\n",
    "# engine = create_engine(\"sqlite:///mydatabase.db\")\n",
    "\n",
    "# # 2. Create a sessionmaker bound to the engine\n",
    "# Session = sessionmaker(bind=engine)\n",
    "\n",
    "# # 3. Create and use a Session instance\n",
    "# with Session() as session:\n",
    "#     # Perform database operations within the session\n",
    "#     # e.g., session.add(my_object), session.commit(), session.query(MyClass).all()\n",
    "#     pass"
   ]
  },
  {
   "cell_type": "code",
   "execution_count": 49,
   "id": "e96450c6",
   "metadata": {},
   "outputs": [],
   "source": [
    "from sqlalchemy.orm import DeclarativeBase, Mapped, mapped_column\n",
    "from sqlalchemy import String"
   ]
  },
  {
   "cell_type": "code",
   "execution_count": 50,
   "id": "c9720660",
   "metadata": {},
   "outputs": [],
   "source": [
    "class Base(DeclarativeBase): pass"
   ]
  },
  {
   "cell_type": "code",
   "execution_count": 51,
   "id": "fa1e7876",
   "metadata": {},
   "outputs": [],
   "source": [
    "class User(Base):\n",
    "    __tablename__ = \"users\"\n",
    "\n",
    "    # id field\n",
    "    id: Mapped[int] = mapped_column(primary_key=True)\n",
    "\n",
    "    username: Mapped[str] = mapped_column(String(30), unique=True)"
   ]
  },
  {
   "cell_type": "code",
   "execution_count": 52,
   "id": "7bb0565e",
   "metadata": {},
   "outputs": [],
   "source": [
    "class Contact(Base):\n",
    "    __tablename__ = \"contacts\"\n",
    "\n",
    "    id: Mapped[int] = mapped_column(primary_key=True)\n",
    "\n",
    "    email: Mapped[str] = mapped_column(String(100))\n",
    "\n",
    "    mobile: Mapped[str] = mapped_column(String(15))"
   ]
  },
  {
   "cell_type": "code",
   "execution_count": 53,
   "id": "86d58c32",
   "metadata": {},
   "outputs": [
    {
     "name": "stdout",
     "output_type": "stream",
     "text": [
      "2025-10-18 10:12:08,790 INFO sqlalchemy.engine.Engine BEGIN (implicit)\n",
      "2025-10-18 10:12:08,792 INFO sqlalchemy.engine.Engine PRAGMA main.table_info(\"users\")\n",
      "2025-10-18 10:12:08,793 INFO sqlalchemy.engine.Engine [raw sql] ()\n",
      "2025-10-18 10:12:08,794 INFO sqlalchemy.engine.Engine PRAGMA main.table_info(\"contacts\")\n",
      "2025-10-18 10:12:08,795 INFO sqlalchemy.engine.Engine [raw sql] ()\n",
      "2025-10-18 10:12:08,796 INFO sqlalchemy.engine.Engine COMMIT\n"
     ]
    }
   ],
   "source": [
    "# To create tables\n",
    "Base.metadata.create_all(engine)"
   ]
  },
  {
   "cell_type": "code",
   "execution_count": 54,
   "id": "5de6d0e3",
   "metadata": {},
   "outputs": [],
   "source": [
    "from sqlalchemy.orm import sessionmaker\n",
    "Session = sessionmaker(bind=engine)"
   ]
  },
  {
   "cell_type": "code",
   "execution_count": 55,
   "id": "869056db",
   "metadata": {},
   "outputs": [
    {
     "name": "stdout",
     "output_type": "stream",
     "text": [
      "2025-10-18 10:12:08,819 INFO sqlalchemy.engine.Engine BEGIN (implicit)\n",
      "2025-10-18 10:12:08,821 INFO sqlalchemy.engine.Engine INSERT INTO users (id, username) VALUES (?, ?)\n",
      "2025-10-18 10:12:08,822 INFO sqlalchemy.engine.Engine [generated in 0.00091s] (1, 'user1')\n",
      "2025-10-18 10:12:08,825 INFO sqlalchemy.engine.Engine COMMIT\n"
     ]
    }
   ],
   "source": [
    "# Create\n",
    "with Session() as session:\n",
    "    user1 = User(id=1, username='user1')\n",
    "    session.add(user1)\n",
    "    session.commit()"
   ]
  },
  {
   "cell_type": "code",
   "execution_count": 56,
   "id": "7a355be2",
   "metadata": {},
   "outputs": [
    {
     "name": "stdout",
     "output_type": "stream",
     "text": [
      "2025-10-18 10:12:08,841 INFO sqlalchemy.engine.Engine BEGIN (implicit)\n",
      "2025-10-18 10:12:08,843 INFO sqlalchemy.engine.Engine SELECT users.id AS users_id, users.username AS users_username \n",
      "FROM users \n",
      "WHERE users.id = ?\n",
      "2025-10-18 10:12:08,844 INFO sqlalchemy.engine.Engine [generated in 0.00132s] (1,)\n",
      "<__main__.User object at 0x000001D751B14910>\n",
      "2025-10-18 10:12:08,847 INFO sqlalchemy.engine.Engine ROLLBACK\n"
     ]
    }
   ],
   "source": [
    "# Select / Retrieve\n",
    "with Session() as session:\n",
    "    user = session.get(User,1)\n",
    "    print(user)"
   ]
  },
  {
   "cell_type": "code",
   "execution_count": 57,
   "id": "065a7436",
   "metadata": {},
   "outputs": [
    {
     "name": "stdout",
     "output_type": "stream",
     "text": [
      "2025-10-18 10:12:08,861 INFO sqlalchemy.engine.Engine BEGIN (implicit)\n",
      "2025-10-18 10:12:08,863 INFO sqlalchemy.engine.Engine SELECT users.id AS users_id, users.username AS users_username \n",
      "FROM users \n",
      "WHERE users.id = ?\n",
      "2025-10-18 10:12:08,864 INFO sqlalchemy.engine.Engine [cached since 0.02067s ago] (1,)\n",
      "2025-10-18 10:12:08,867 INFO sqlalchemy.engine.Engine UPDATE users SET username=? WHERE users.id = ?\n",
      "2025-10-18 10:12:08,868 INFO sqlalchemy.engine.Engine [generated in 0.00131s] ('testuser1', 1)\n",
      "2025-10-18 10:12:08,871 INFO sqlalchemy.engine.Engine COMMIT\n",
      "2025-10-18 10:12:08,877 INFO sqlalchemy.engine.Engine BEGIN (implicit)\n",
      "2025-10-18 10:12:08,879 INFO sqlalchemy.engine.Engine SELECT users.id AS users_id, users.username AS users_username \n",
      "FROM users \n",
      "WHERE users.id = ?\n",
      "2025-10-18 10:12:08,880 INFO sqlalchemy.engine.Engine [generated in 0.00127s] (1,)\n",
      "Updated user ID 1 username to: testuser1\n",
      "2025-10-18 10:12:08,882 INFO sqlalchemy.engine.Engine ROLLBACK\n"
     ]
    }
   ],
   "source": [
    "# Update\n",
    "with Session() as session:\n",
    "    user_to_update = session.get(User, 1)\n",
    "    if user_to_update:\n",
    "        user_to_update.username = \"testuser1\"\n",
    "        session.commit()\n",
    "        print(f\"Updated user ID 1 username to: {user_to_update.username}\")\n",
    "    else:\n",
    "        print(\"User not found for update.\")"
   ]
  },
  {
   "cell_type": "code",
   "execution_count": 58,
   "id": "9ee3e731",
   "metadata": {},
   "outputs": [
    {
     "name": "stdout",
     "output_type": "stream",
     "text": [
      "2025-10-18 10:12:08,893 INFO sqlalchemy.engine.Engine BEGIN (implicit)\n",
      "2025-10-18 10:12:08,894 INFO sqlalchemy.engine.Engine SELECT users.id AS users_id, users.username AS users_username \n",
      "FROM users \n",
      "WHERE users.id = ?\n",
      "2025-10-18 10:12:08,895 INFO sqlalchemy.engine.Engine [cached since 0.05182s ago] (1,)\n",
      "2025-10-18 10:12:08,898 INFO sqlalchemy.engine.Engine DELETE FROM users WHERE users.id = ?\n",
      "2025-10-18 10:12:08,899 INFO sqlalchemy.engine.Engine [generated in 0.00135s] (1,)\n",
      "2025-10-18 10:12:08,902 INFO sqlalchemy.engine.Engine COMMIT\n",
      "User ID 1 deleted.\n"
     ]
    }
   ],
   "source": [
    "# delete\n",
    "with Session() as session:\n",
    "    user_to_delete = session.get(User, 1)\n",
    "    if user_to_delete:\n",
    "        session.delete(user_to_delete)\n",
    "        session.commit()\n",
    "        print(\"User ID 1 deleted.\")\n",
    "    else:\n",
    "        print(\"User not found for deletion.\")"
   ]
  }
 ],
 "metadata": {
  "kernelspec": {
   "display_name": "user-details",
   "language": "python",
   "name": "python3"
  },
  "language_info": {
   "codemirror_mode": {
    "name": "ipython",
    "version": 3
   },
   "file_extension": ".py",
   "mimetype": "text/x-python",
   "name": "python",
   "nbconvert_exporter": "python",
   "pygments_lexer": "ipython3",
   "version": "3.13.5"
  }
 },
 "nbformat": 4,
 "nbformat_minor": 5
}
