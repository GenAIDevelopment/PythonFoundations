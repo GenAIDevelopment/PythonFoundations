{
 "cells": [
  {
   "cell_type": "code",
   "execution_count": 1,
   "id": "4af6c92f",
   "metadata": {},
   "outputs": [],
   "source": [
    "from dotenv import load_dotenv"
   ]
  },
  {
   "cell_type": "code",
   "execution_count": 2,
   "id": "d87aa078",
   "metadata": {},
   "outputs": [],
   "source": [
    "_ = load_dotenv()"
   ]
  },
  {
   "cell_type": "code",
   "execution_count": 3,
   "id": "4b8bc44e",
   "metadata": {},
   "outputs": [],
   "source": [
    "from sqlalchemy.orm import DeclarativeBase, Mapped, mapped_column\n",
    "from sqlalchemy import String"
   ]
  },
  {
   "cell_type": "code",
   "execution_count": 4,
   "id": "491baf59",
   "metadata": {},
   "outputs": [],
   "source": [
    "class Base(DeclarativeBase): pass"
   ]
  },
  {
   "cell_type": "code",
   "execution_count": 5,
   "id": "58c71d3b",
   "metadata": {},
   "outputs": [],
   "source": [
    "# lets create engine\n",
    "from sqlalchemy import create_engine\n",
    "import os\n",
    "INSTITUE_URL = os.getenv('INSTITUTE_DB_URL', 'sqlite:///default.db')\n",
    "engine = create_engine(INSTITUE_URL, echo=True)"
   ]
  },
  {
   "cell_type": "code",
   "execution_count": 6,
   "id": "b49a5619",
   "metadata": {},
   "outputs": [],
   "source": [
    "class Institute(Base):\n",
    "    __tablename__ = \"institutes\"\n",
    "\n",
    "    id: Mapped[int] = mapped_column(primary_key=True)\n",
    "    name: Mapped[str] = mapped_column(String(75), unique=True)\n"
   ]
  },
  {
   "cell_type": "code",
   "execution_count": 7,
   "id": "55ef3c99",
   "metadata": {},
   "outputs": [],
   "source": [
    "class CourseOffering(Base):\n",
    "    __tablename__ = \"courseofferings\"\n",
    "    id: Mapped[int] = mapped_column(primary_key=True)\n",
    "    name: Mapped[str] = mapped_column(String(75), unique=True)\n",
    "    description: Mapped[str] = mapped_column(String(256))"
   ]
  },
  {
   "cell_type": "code",
   "execution_count": null,
   "id": "230d3231",
   "metadata": {},
   "outputs": [],
   "source": [
    "# from sqlalchemy import create_engine\n",
    "# from sqlalchemy.orm import sessionmaker\n",
    "\n",
    "# # 1. Create an Engine (representing the database connection)\n",
    "# engine = create_engine(\"sqlite:///mydatabase.db\")\n",
    "\n",
    "# # 2. Create a sessionmaker bound to the engine\n",
    "# Session = sessionmaker(bind=engine)\n",
    "\n",
    "# # 3. Create and use a Session instance\n",
    "# with Session() as session:\n",
    "#     # Perform database operations within the session\n",
    "#     # e.g., session.add(my_object), session.commit(), session.query(MyClass).all()\n",
    "#     pass"
   ]
  }
 ],
 "metadata": {
  "kernelspec": {
   "display_name": "user-details",
   "language": "python",
   "name": "python3"
  },
  "language_info": {
   "codemirror_mode": {
    "name": "ipython",
    "version": 3
   },
   "file_extension": ".py",
   "mimetype": "text/x-python",
   "name": "python",
   "nbconvert_exporter": "python",
   "pygments_lexer": "ipython3",
   "version": "3.13.5"
  }
 },
 "nbformat": 4,
 "nbformat_minor": 5
}
