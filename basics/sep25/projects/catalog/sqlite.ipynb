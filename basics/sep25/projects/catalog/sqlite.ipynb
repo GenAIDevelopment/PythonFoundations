{
 "cells": [
  {
   "cell_type": "code",
   "execution_count": 4,
   "id": "5dda61fd",
   "metadata": {},
   "outputs": [],
   "source": [
    "import sqlite3"
   ]
  },
  {
   "cell_type": "code",
   "execution_count": null,
   "id": "df1b6a93",
   "metadata": {},
   "outputs": [],
   "source": [
    "#connection = sqlite3.connect('catalog.db')"
   ]
  },
  {
   "cell_type": "code",
   "execution_count": 5,
   "id": "ca230f36",
   "metadata": {},
   "outputs": [],
   "source": [
    "# Creating a table\n",
    "\n",
    "# CREATE TABLE Books \n",
    "# ( id INT PRIMARY KEY, name VARCHAR(100), title VARCHAR(200) NOT NULL, \n",
    "# isbn VARCHAR(20) UNIQUE, category VARCHAR(50) );\n",
    "\n",
    "create_query = \"CREATE TABLE Books ( id INTEGER PRIMARY KEY AUTOINCREMENT,  title VARCHAR(255) NOT NULL, isbn VARCHAR(20), category VARCHAR(50) );\""
   ]
  },
  {
   "cell_type": "code",
   "execution_count": 6,
   "id": "276cbe15",
   "metadata": {},
   "outputs": [],
   "source": [
    "with sqlite3.connect('catalogs.db') as connection:\n",
    "    connection.execute(create_query)"
   ]
  },
  {
   "cell_type": "code",
   "execution_count": 8,
   "id": "94ce9c80",
   "metadata": {},
   "outputs": [],
   "source": [
    "title = input(\"Enter the book title\")\n",
    "isbn = input(\"Enter the book isbn\")\n",
    "category = input(\"Enter the book category\")\n",
    "insert_query = f\"INSERT INTO Books (title, isbn, category) VALUES ('{title}', '{isbn}', '{category}');\"\n",
    "with sqlite3.connect('catalogs.db') as connection:\n",
    "    connection.execute(insert_query)"
   ]
  },
  {
   "cell_type": "code",
   "execution_count": 10,
   "id": "ea377fcb",
   "metadata": {},
   "outputs": [
    {
     "name": "stdout",
     "output_type": "stream",
     "text": [
      "id = 1, title = Fundamentals of Physics (11th Ed.), isbn = 978-1119773531, category = Physics\n",
      "id = 2, title = Principles of Microeconomics (9th Ed.), isbn = 978-0357133481, category = Microeconomics\n"
     ]
    }
   ],
   "source": [
    "# Display all books\n",
    "select_query = \"Select * from books\"\n",
    "with sqlite3.connect('catalogs.db') as connection:\n",
    "    cursor = connection.execute(select_query)\n",
    "    for record in cursor:\n",
    "        print(f\"id = {record[0]}, title = {record[1]}, isbn = {record[2]}, category = {record[3]}\")"
   ]
  },
  {
   "cell_type": "code",
   "execution_count": 16,
   "id": "d2e04b11",
   "metadata": {},
   "outputs": [
    {
     "name": "stdout",
     "output_type": "stream",
     "text": [
      "select * from books  where category = 'Physics'\n",
      "id = 1, title = Fundamentals of Physics (11th Ed.), isbn = 978-1119773531, category = Physics\n"
     ]
    }
   ],
   "source": [
    "# Display all books by category\n",
    "category = input('Enter the category')\n",
    "select_query = f\"select * from books  where category = '{category}'\"\n",
    "print(select_query)\n",
    "with sqlite3.connect('catalogs.db') as connection:\n",
    "    cursor = connection.execute(select_query)\n",
    "    for record in cursor:\n",
    "        print(f\"id = {record[0]}, title = {record[1]}, isbn = {record[2]}, category = {record[3]}\")"
   ]
  }
 ],
 "metadata": {
  "kernelspec": {
   "display_name": "catalog",
   "language": "python",
   "name": "python3"
  },
  "language_info": {
   "codemirror_mode": {
    "name": "ipython",
    "version": 3
   },
   "file_extension": ".py",
   "mimetype": "text/x-python",
   "name": "python",
   "nbconvert_exporter": "python",
   "pygments_lexer": "ipython3",
   "version": "3.13.5"
  }
 },
 "nbformat": 4,
 "nbformat_minor": 5
}
