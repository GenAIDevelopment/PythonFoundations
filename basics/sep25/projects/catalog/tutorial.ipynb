{
 "cells": [
  {
   "cell_type": "code",
   "execution_count": 2,
   "id": "11ceabe3",
   "metadata": {},
   "outputs": [],
   "source": [
    "import pandas as pd"
   ]
  },
  {
   "cell_type": "code",
   "execution_count": 3,
   "id": "38fff531",
   "metadata": {},
   "outputs": [],
   "source": [
    "# series 1-D data\n",
    "series = pd.Series([1,2,3,4,5])"
   ]
  },
  {
   "cell_type": "code",
   "execution_count": 4,
   "id": "cecefb19",
   "metadata": {},
   "outputs": [
    {
     "data": {
      "text/plain": [
       "pandas.core.series.Series"
      ]
     },
     "execution_count": 4,
     "metadata": {},
     "output_type": "execute_result"
    }
   ],
   "source": [
    "type(series)"
   ]
  },
  {
   "cell_type": "code",
   "execution_count": 5,
   "id": "618ca4fb",
   "metadata": {},
   "outputs": [],
   "source": [
    "# 2-D dataframe\n",
    "frame = pd.DataFrame([{\n",
    "    'name': 'tea',\n",
    "    'price': 20\n",
    "}, {\n",
    "    'name': 'coffee',\n",
    "    'price': 25\n",
    "}])"
   ]
  },
  {
   "cell_type": "code",
   "execution_count": 6,
   "id": "251c7e25",
   "metadata": {},
   "outputs": [
    {
     "data": {
      "text/plain": [
       "pandas.core.frame.DataFrame"
      ]
     },
     "execution_count": 6,
     "metadata": {},
     "output_type": "execute_result"
    }
   ],
   "source": [
    "type(frame)"
   ]
  },
  {
   "cell_type": "code",
   "execution_count": 8,
   "id": "a5dc5920",
   "metadata": {},
   "outputs": [],
   "source": [
    "frame.to_csv('items.csv', header=True, index=False)"
   ]
  },
  {
   "cell_type": "code",
   "execution_count": 13,
   "id": "4710ca57",
   "metadata": {},
   "outputs": [],
   "source": [
    "catalog_df = pd.read_csv('catalog.csv')"
   ]
  },
  {
   "cell_type": "code",
   "execution_count": 14,
   "id": "2c45f8cd",
   "metadata": {},
   "outputs": [
    {
     "data": {
      "text/html": [
       "<div>\n",
       "<style scoped>\n",
       "    .dataframe tbody tr th:only-of-type {\n",
       "        vertical-align: middle;\n",
       "    }\n",
       "\n",
       "    .dataframe tbody tr th {\n",
       "        vertical-align: top;\n",
       "    }\n",
       "\n",
       "    .dataframe thead th {\n",
       "        text-align: right;\n",
       "    }\n",
       "</style>\n",
       "<table border=\"1\" class=\"dataframe\">\n",
       "  <thead>\n",
       "    <tr style=\"text-align: right;\">\n",
       "      <th></th>\n",
       "      <th>Item_ID</th>\n",
       "      <th>Category</th>\n",
       "      <th>Item_Name</th>\n",
       "      <th>Price_INR</th>\n",
       "      <th>Is_Vegetarian</th>\n",
       "      <th>Description</th>\n",
       "      <th>Spice_Level</th>\n",
       "    </tr>\n",
       "  </thead>\n",
       "  <tbody>\n",
       "    <tr>\n",
       "      <th>0</th>\n",
       "      <td>M001</td>\n",
       "      <td>Appetizer</td>\n",
       "      <td>Vegetable Samosa (2 pcs)</td>\n",
       "      <td>180</td>\n",
       "      <td>True</td>\n",
       "      <td>Crisp pastry filled with spiced potatoes and p...</td>\n",
       "      <td>Medium</td>\n",
       "    </tr>\n",
       "    <tr>\n",
       "      <th>1</th>\n",
       "      <td>M002</td>\n",
       "      <td>Appetizer</td>\n",
       "      <td>Chicken Tikka (6 pcs)</td>\n",
       "      <td>450</td>\n",
       "      <td>False</td>\n",
       "      <td>Boneless chicken marinated in yogurt and spice...</td>\n",
       "      <td>Medium</td>\n",
       "    </tr>\n",
       "    <tr>\n",
       "      <th>2</th>\n",
       "      <td>M003</td>\n",
       "      <td>Main Course</td>\n",
       "      <td>Butter Chicken (Murgh Makhani)</td>\n",
       "      <td>650</td>\n",
       "      <td>False</td>\n",
       "      <td>Tandoor-cooked chicken in a rich, creamy tomat...</td>\n",
       "      <td>Mild</td>\n",
       "    </tr>\n",
       "    <tr>\n",
       "      <th>3</th>\n",
       "      <td>M004</td>\n",
       "      <td>Main Course</td>\n",
       "      <td>Palak Paneer</td>\n",
       "      <td>550</td>\n",
       "      <td>True</td>\n",
       "      <td>Cottage cheese cubes simmered in a creamy spin...</td>\n",
       "      <td>Mild</td>\n",
       "    </tr>\n",
       "    <tr>\n",
       "      <th>4</th>\n",
       "      <td>M005</td>\n",
       "      <td>Main Course</td>\n",
       "      <td>Lamb Rogan Josh</td>\n",
       "      <td>780</td>\n",
       "      <td>False</td>\n",
       "      <td>A signature Kashmiri curry: slow-cooked lamb i...</td>\n",
       "      <td>Medium</td>\n",
       "    </tr>\n",
       "    <tr>\n",
       "      <th>5</th>\n",
       "      <td>M006</td>\n",
       "      <td>Rice/Biryani</td>\n",
       "      <td>Chicken Biryani (Hyderabadi)</td>\n",
       "      <td>700</td>\n",
       "      <td>False</td>\n",
       "      <td>Layered basmati rice and marinated chicken coo...</td>\n",
       "      <td>Spicy</td>\n",
       "    </tr>\n",
       "    <tr>\n",
       "      <th>6</th>\n",
       "      <td>M007</td>\n",
       "      <td>Rice/Biryani</td>\n",
       "      <td>Jeera Rice</td>\n",
       "      <td>300</td>\n",
       "      <td>True</td>\n",
       "      <td>Fragrant basmati rice tossed with roasted cumi...</td>\n",
       "      <td>Mild</td>\n",
       "    </tr>\n",
       "    <tr>\n",
       "      <th>7</th>\n",
       "      <td>M008</td>\n",
       "      <td>Bread</td>\n",
       "      <td>Butter Naan</td>\n",
       "      <td>110</td>\n",
       "      <td>True</td>\n",
       "      <td>Leavened flatbread baked in the tandoor and br...</td>\n",
       "      <td>Mild</td>\n",
       "    </tr>\n",
       "    <tr>\n",
       "      <th>8</th>\n",
       "      <td>M009</td>\n",
       "      <td>Dessert</td>\n",
       "      <td>Gulab Jamun (2 pcs)</td>\n",
       "      <td>190</td>\n",
       "      <td>True</td>\n",
       "      <td>Deep-fried milk solids soaked in a rose and ca...</td>\n",
       "      <td>Sweet</td>\n",
       "    </tr>\n",
       "    <tr>\n",
       "      <th>9</th>\n",
       "      <td>M010</td>\n",
       "      <td>Beverages</td>\n",
       "      <td>Mango Lassi</td>\n",
       "      <td>220</td>\n",
       "      <td>True</td>\n",
       "      <td>A refreshing blend of yogurt, mango pulp, and ...</td>\n",
       "      <td>Sweet</td>\n",
       "    </tr>\n",
       "  </tbody>\n",
       "</table>\n",
       "</div>"
      ],
      "text/plain": [
       "  Item_ID      Category                       Item_Name  Price_INR  \\\n",
       "0    M001     Appetizer        Vegetable Samosa (2 pcs)        180   \n",
       "1    M002     Appetizer           Chicken Tikka (6 pcs)        450   \n",
       "2    M003   Main Course  Butter Chicken (Murgh Makhani)        650   \n",
       "3    M004   Main Course                    Palak Paneer        550   \n",
       "4    M005   Main Course                 Lamb Rogan Josh        780   \n",
       "5    M006  Rice/Biryani    Chicken Biryani (Hyderabadi)        700   \n",
       "6    M007  Rice/Biryani                      Jeera Rice        300   \n",
       "7    M008         Bread                     Butter Naan        110   \n",
       "8    M009       Dessert             Gulab Jamun (2 pcs)        190   \n",
       "9    M010     Beverages                     Mango Lassi        220   \n",
       "\n",
       "   Is_Vegetarian                                        Description  \\\n",
       "0           True  Crisp pastry filled with spiced potatoes and p...   \n",
       "1          False  Boneless chicken marinated in yogurt and spice...   \n",
       "2          False  Tandoor-cooked chicken in a rich, creamy tomat...   \n",
       "3           True  Cottage cheese cubes simmered in a creamy spin...   \n",
       "4          False  A signature Kashmiri curry: slow-cooked lamb i...   \n",
       "5          False  Layered basmati rice and marinated chicken coo...   \n",
       "6           True  Fragrant basmati rice tossed with roasted cumi...   \n",
       "7           True  Leavened flatbread baked in the tandoor and br...   \n",
       "8           True  Deep-fried milk solids soaked in a rose and ca...   \n",
       "9           True  A refreshing blend of yogurt, mango pulp, and ...   \n",
       "\n",
       "  Spice_Level  \n",
       "0      Medium  \n",
       "1      Medium  \n",
       "2        Mild  \n",
       "3        Mild  \n",
       "4      Medium  \n",
       "5       Spicy  \n",
       "6        Mild  \n",
       "7        Mild  \n",
       "8       Sweet  \n",
       "9       Sweet  "
      ]
     },
     "execution_count": 14,
     "metadata": {},
     "output_type": "execute_result"
    }
   ],
   "source": [
    "catalog_df\n"
   ]
  },
  {
   "cell_type": "code",
   "execution_count": 16,
   "id": "3c15900c",
   "metadata": {},
   "outputs": [
    {
     "data": {
      "text/plain": [
       "0    False\n",
       "1    False\n",
       "2    False\n",
       "3    False\n",
       "4    False\n",
       "5    False\n",
       "6    False\n",
       "7    False\n",
       "8    False\n",
       "9     True\n",
       "Name: Item_ID, dtype: bool"
      ]
     },
     "execution_count": 16,
     "metadata": {},
     "output_type": "execute_result"
    }
   ],
   "source": [
    "catalog_df['Item_ID'] == 'M010'"
   ]
  },
  {
   "cell_type": "code",
   "execution_count": 17,
   "id": "3e2bd139",
   "metadata": {},
   "outputs": [
    {
     "data": {
      "text/plain": [
       "0    180\n",
       "1    450\n",
       "2    650\n",
       "3    550\n",
       "4    780\n",
       "5    700\n",
       "6    300\n",
       "7    110\n",
       "8    190\n",
       "9    220\n",
       "Name: Price_INR, dtype: int64"
      ]
     },
     "execution_count": 17,
     "metadata": {},
     "output_type": "execute_result"
    }
   ],
   "source": [
    "catalog_df.Price_INR"
   ]
  },
  {
   "cell_type": "code",
   "execution_count": 21,
   "id": "7c0e655c",
   "metadata": {},
   "outputs": [
    {
     "data": {
      "text/plain": [
       "Item_ID                                                       M001\n",
       "Category                                                 Appetizer\n",
       "Item_Name                                 Vegetable Samosa (2 pcs)\n",
       "Price_INR                                                      180\n",
       "Is_Vegetarian                                                 True\n",
       "Description      Crisp pastry filled with spiced potatoes and p...\n",
       "Spice_Level                                                 Medium\n",
       "Name: 0, dtype: object"
      ]
     },
     "execution_count": 21,
     "metadata": {},
     "output_type": "execute_result"
    }
   ],
   "source": [
    "catalog_df.iloc[0]"
   ]
  },
  {
   "cell_type": "code",
   "execution_count": 22,
   "id": "39a0b974",
   "metadata": {},
   "outputs": [
    {
     "data": {
      "text/plain": [
       "Item_ID                                                       M001\n",
       "Category                                                 Appetizer\n",
       "Item_Name                                 Vegetable Samosa (2 pcs)\n",
       "Price_INR                                                      180\n",
       "Is_Vegetarian                                                 True\n",
       "Description      Crisp pastry filled with spiced potatoes and p...\n",
       "Spice_Level                                                 Medium\n",
       "Name: 0, dtype: object"
      ]
     },
     "execution_count": 22,
     "metadata": {},
     "output_type": "execute_result"
    }
   ],
   "source": [
    "catalog_df.loc[0]"
   ]
  },
  {
   "cell_type": "code",
   "execution_count": 23,
   "id": "9ea392c8",
   "metadata": {},
   "outputs": [],
   "source": [
    "catalog_df = pd.read_csv('catalog.csv', index_col='Item_ID')"
   ]
  },
  {
   "cell_type": "code",
   "execution_count": 24,
   "id": "60794d37",
   "metadata": {},
   "outputs": [
    {
     "data": {
      "text/plain": [
       "Category                                              Rice/Biryani\n",
       "Item_Name                             Chicken Biryani (Hyderabadi)\n",
       "Price_INR                                                      700\n",
       "Is_Vegetarian                                                False\n",
       "Description      Layered basmati rice and marinated chicken coo...\n",
       "Spice_Level                                                  Spicy\n",
       "Name: M006, dtype: object"
      ]
     },
     "execution_count": 24,
     "metadata": {},
     "output_type": "execute_result"
    }
   ],
   "source": [
    "catalog_df.loc['M006']"
   ]
  },
  {
   "cell_type": "code",
   "execution_count": 25,
   "id": "bf0c9ab9",
   "metadata": {},
   "outputs": [
    {
     "data": {
      "text/plain": [
       "np.int64(700)"
      ]
     },
     "execution_count": 25,
     "metadata": {},
     "output_type": "execute_result"
    }
   ],
   "source": [
    "catalog_df.loc['M006']['Price_INR']"
   ]
  },
  {
   "cell_type": "code",
   "execution_count": null,
   "id": "088b7db9",
   "metadata": {},
   "outputs": [
    {
     "data": {
      "text/html": [
       "<div>\n",
       "<style scoped>\n",
       "    .dataframe tbody tr th:only-of-type {\n",
       "        vertical-align: middle;\n",
       "    }\n",
       "\n",
       "    .dataframe tbody tr th {\n",
       "        vertical-align: top;\n",
       "    }\n",
       "\n",
       "    .dataframe thead th {\n",
       "        text-align: right;\n",
       "    }\n",
       "</style>\n",
       "<table border=\"1\" class=\"dataframe\">\n",
       "  <thead>\n",
       "    <tr style=\"text-align: right;\">\n",
       "      <th></th>\n",
       "      <th>Category</th>\n",
       "      <th>Item_Name</th>\n",
       "      <th>Price_INR</th>\n",
       "      <th>Is_Vegetarian</th>\n",
       "      <th>Description</th>\n",
       "      <th>Spice_Level</th>\n",
       "    </tr>\n",
       "    <tr>\n",
       "      <th>Item_ID</th>\n",
       "      <th></th>\n",
       "      <th></th>\n",
       "      <th></th>\n",
       "      <th></th>\n",
       "      <th></th>\n",
       "      <th></th>\n",
       "    </tr>\n",
       "  </thead>\n",
       "  <tbody>\n",
       "    <tr>\n",
       "      <th>M001</th>\n",
       "      <td>Appetizer</td>\n",
       "      <td>Vegetable Samosa (2 pcs)</td>\n",
       "      <td>180</td>\n",
       "      <td>True</td>\n",
       "      <td>Crisp pastry filled with spiced potatoes and p...</td>\n",
       "      <td>Medium</td>\n",
       "    </tr>\n",
       "    <tr>\n",
       "      <th>M002</th>\n",
       "      <td>Appetizer</td>\n",
       "      <td>Chicken Tikka (6 pcs)</td>\n",
       "      <td>450</td>\n",
       "      <td>False</td>\n",
       "      <td>Boneless chicken marinated in yogurt and spice...</td>\n",
       "      <td>Medium</td>\n",
       "    </tr>\n",
       "    <tr>\n",
       "      <th>M003</th>\n",
       "      <td>Main Course</td>\n",
       "      <td>Butter Chicken (Murgh Makhani)</td>\n",
       "      <td>650</td>\n",
       "      <td>False</td>\n",
       "      <td>Tandoor-cooked chicken in a rich, creamy tomat...</td>\n",
       "      <td>Mild</td>\n",
       "    </tr>\n",
       "    <tr>\n",
       "      <th>M004</th>\n",
       "      <td>Main Course</td>\n",
       "      <td>Palak Paneer</td>\n",
       "      <td>550</td>\n",
       "      <td>True</td>\n",
       "      <td>Cottage cheese cubes simmered in a creamy spin...</td>\n",
       "      <td>Mild</td>\n",
       "    </tr>\n",
       "    <tr>\n",
       "      <th>M005</th>\n",
       "      <td>Main Course</td>\n",
       "      <td>Lamb Rogan Josh</td>\n",
       "      <td>780</td>\n",
       "      <td>False</td>\n",
       "      <td>A signature Kashmiri curry: slow-cooked lamb i...</td>\n",
       "      <td>Medium</td>\n",
       "    </tr>\n",
       "    <tr>\n",
       "      <th>M006</th>\n",
       "      <td>Rice/Biryani</td>\n",
       "      <td>Chicken Biryani (Hyderabadi)</td>\n",
       "      <td>700</td>\n",
       "      <td>False</td>\n",
       "      <td>Layered basmati rice and marinated chicken coo...</td>\n",
       "      <td>Spicy</td>\n",
       "    </tr>\n",
       "    <tr>\n",
       "      <th>M007</th>\n",
       "      <td>Rice/Biryani</td>\n",
       "      <td>Jeera Rice</td>\n",
       "      <td>300</td>\n",
       "      <td>True</td>\n",
       "      <td>Fragrant basmati rice tossed with roasted cumi...</td>\n",
       "      <td>Mild</td>\n",
       "    </tr>\n",
       "    <tr>\n",
       "      <th>M008</th>\n",
       "      <td>Bread</td>\n",
       "      <td>Butter Naan</td>\n",
       "      <td>110</td>\n",
       "      <td>True</td>\n",
       "      <td>Leavened flatbread baked in the tandoor and br...</td>\n",
       "      <td>Mild</td>\n",
       "    </tr>\n",
       "    <tr>\n",
       "      <th>M009</th>\n",
       "      <td>Dessert</td>\n",
       "      <td>Gulab Jamun (2 pcs)</td>\n",
       "      <td>190</td>\n",
       "      <td>True</td>\n",
       "      <td>Deep-fried milk solids soaked in a rose and ca...</td>\n",
       "      <td>Sweet</td>\n",
       "    </tr>\n",
       "    <tr>\n",
       "      <th>M010</th>\n",
       "      <td>Beverages</td>\n",
       "      <td>Mango Lassi</td>\n",
       "      <td>220</td>\n",
       "      <td>True</td>\n",
       "      <td>A refreshing blend of yogurt, mango pulp, and ...</td>\n",
       "      <td>Sweet</td>\n",
       "    </tr>\n",
       "  </tbody>\n",
       "</table>\n",
       "</div>"
      ],
      "text/plain": [
       "             Category                       Item_Name  Price_INR  \\\n",
       "Item_ID                                                            \n",
       "M001        Appetizer        Vegetable Samosa (2 pcs)        180   \n",
       "M002        Appetizer           Chicken Tikka (6 pcs)        450   \n",
       "M003      Main Course  Butter Chicken (Murgh Makhani)        650   \n",
       "M004      Main Course                    Palak Paneer        550   \n",
       "M005      Main Course                 Lamb Rogan Josh        780   \n",
       "M006     Rice/Biryani    Chicken Biryani (Hyderabadi)        700   \n",
       "M007     Rice/Biryani                      Jeera Rice        300   \n",
       "M008            Bread                     Butter Naan        110   \n",
       "M009          Dessert             Gulab Jamun (2 pcs)        190   \n",
       "M010        Beverages                     Mango Lassi        220   \n",
       "\n",
       "         Is_Vegetarian                                        Description  \\\n",
       "Item_ID                                                                     \n",
       "M001              True  Crisp pastry filled with spiced potatoes and p...   \n",
       "M002             False  Boneless chicken marinated in yogurt and spice...   \n",
       "M003             False  Tandoor-cooked chicken in a rich, creamy tomat...   \n",
       "M004              True  Cottage cheese cubes simmered in a creamy spin...   \n",
       "M005             False  A signature Kashmiri curry: slow-cooked lamb i...   \n",
       "M006             False  Layered basmati rice and marinated chicken coo...   \n",
       "M007              True  Fragrant basmati rice tossed with roasted cumi...   \n",
       "M008              True  Leavened flatbread baked in the tandoor and br...   \n",
       "M009              True  Deep-fried milk solids soaked in a rose and ca...   \n",
       "M010              True  A refreshing blend of yogurt, mango pulp, and ...   \n",
       "\n",
       "        Spice_Level  \n",
       "Item_ID              \n",
       "M001         Medium  \n",
       "M002         Medium  \n",
       "M003           Mild  \n",
       "M004           Mild  \n",
       "M005         Medium  \n",
       "M006          Spicy  \n",
       "M007           Mild  \n",
       "M008           Mild  \n",
       "M009          Sweet  \n",
       "M010          Sweet  "
      ]
     },
     "execution_count": 29,
     "metadata": {},
     "output_type": "execute_result"
    }
   ],
   "source": [
    "# how to search for records where price > 100\n",
    "catalog_df.loc[catalog_df['Price_INR'] > 100 ]"
   ]
  },
  {
   "cell_type": "code",
   "execution_count": 30,
   "id": "69d2940e",
   "metadata": {},
   "outputs": [],
   "source": [
    "catalog_df['Price_INR'] *= 1.1"
   ]
  },
  {
   "cell_type": "code",
   "execution_count": 31,
   "id": "849f24c4",
   "metadata": {},
   "outputs": [
    {
     "data": {
      "text/html": [
       "<div>\n",
       "<style scoped>\n",
       "    .dataframe tbody tr th:only-of-type {\n",
       "        vertical-align: middle;\n",
       "    }\n",
       "\n",
       "    .dataframe tbody tr th {\n",
       "        vertical-align: top;\n",
       "    }\n",
       "\n",
       "    .dataframe thead th {\n",
       "        text-align: right;\n",
       "    }\n",
       "</style>\n",
       "<table border=\"1\" class=\"dataframe\">\n",
       "  <thead>\n",
       "    <tr style=\"text-align: right;\">\n",
       "      <th></th>\n",
       "      <th>Category</th>\n",
       "      <th>Item_Name</th>\n",
       "      <th>Price_INR</th>\n",
       "      <th>Is_Vegetarian</th>\n",
       "      <th>Description</th>\n",
       "      <th>Spice_Level</th>\n",
       "    </tr>\n",
       "    <tr>\n",
       "      <th>Item_ID</th>\n",
       "      <th></th>\n",
       "      <th></th>\n",
       "      <th></th>\n",
       "      <th></th>\n",
       "      <th></th>\n",
       "      <th></th>\n",
       "    </tr>\n",
       "  </thead>\n",
       "  <tbody>\n",
       "    <tr>\n",
       "      <th>M001</th>\n",
       "      <td>Appetizer</td>\n",
       "      <td>Vegetable Samosa (2 pcs)</td>\n",
       "      <td>198.0</td>\n",
       "      <td>True</td>\n",
       "      <td>Crisp pastry filled with spiced potatoes and p...</td>\n",
       "      <td>Medium</td>\n",
       "    </tr>\n",
       "    <tr>\n",
       "      <th>M002</th>\n",
       "      <td>Appetizer</td>\n",
       "      <td>Chicken Tikka (6 pcs)</td>\n",
       "      <td>495.0</td>\n",
       "      <td>False</td>\n",
       "      <td>Boneless chicken marinated in yogurt and spice...</td>\n",
       "      <td>Medium</td>\n",
       "    </tr>\n",
       "    <tr>\n",
       "      <th>M003</th>\n",
       "      <td>Main Course</td>\n",
       "      <td>Butter Chicken (Murgh Makhani)</td>\n",
       "      <td>715.0</td>\n",
       "      <td>False</td>\n",
       "      <td>Tandoor-cooked chicken in a rich, creamy tomat...</td>\n",
       "      <td>Mild</td>\n",
       "    </tr>\n",
       "    <tr>\n",
       "      <th>M004</th>\n",
       "      <td>Main Course</td>\n",
       "      <td>Palak Paneer</td>\n",
       "      <td>605.0</td>\n",
       "      <td>True</td>\n",
       "      <td>Cottage cheese cubes simmered in a creamy spin...</td>\n",
       "      <td>Mild</td>\n",
       "    </tr>\n",
       "    <tr>\n",
       "      <th>M005</th>\n",
       "      <td>Main Course</td>\n",
       "      <td>Lamb Rogan Josh</td>\n",
       "      <td>858.0</td>\n",
       "      <td>False</td>\n",
       "      <td>A signature Kashmiri curry: slow-cooked lamb i...</td>\n",
       "      <td>Medium</td>\n",
       "    </tr>\n",
       "    <tr>\n",
       "      <th>M006</th>\n",
       "      <td>Rice/Biryani</td>\n",
       "      <td>Chicken Biryani (Hyderabadi)</td>\n",
       "      <td>770.0</td>\n",
       "      <td>False</td>\n",
       "      <td>Layered basmati rice and marinated chicken coo...</td>\n",
       "      <td>Spicy</td>\n",
       "    </tr>\n",
       "    <tr>\n",
       "      <th>M007</th>\n",
       "      <td>Rice/Biryani</td>\n",
       "      <td>Jeera Rice</td>\n",
       "      <td>330.0</td>\n",
       "      <td>True</td>\n",
       "      <td>Fragrant basmati rice tossed with roasted cumi...</td>\n",
       "      <td>Mild</td>\n",
       "    </tr>\n",
       "    <tr>\n",
       "      <th>M008</th>\n",
       "      <td>Bread</td>\n",
       "      <td>Butter Naan</td>\n",
       "      <td>121.0</td>\n",
       "      <td>True</td>\n",
       "      <td>Leavened flatbread baked in the tandoor and br...</td>\n",
       "      <td>Mild</td>\n",
       "    </tr>\n",
       "    <tr>\n",
       "      <th>M009</th>\n",
       "      <td>Dessert</td>\n",
       "      <td>Gulab Jamun (2 pcs)</td>\n",
       "      <td>209.0</td>\n",
       "      <td>True</td>\n",
       "      <td>Deep-fried milk solids soaked in a rose and ca...</td>\n",
       "      <td>Sweet</td>\n",
       "    </tr>\n",
       "    <tr>\n",
       "      <th>M010</th>\n",
       "      <td>Beverages</td>\n",
       "      <td>Mango Lassi</td>\n",
       "      <td>242.0</td>\n",
       "      <td>True</td>\n",
       "      <td>A refreshing blend of yogurt, mango pulp, and ...</td>\n",
       "      <td>Sweet</td>\n",
       "    </tr>\n",
       "  </tbody>\n",
       "</table>\n",
       "</div>"
      ],
      "text/plain": [
       "             Category                       Item_Name  Price_INR  \\\n",
       "Item_ID                                                            \n",
       "M001        Appetizer        Vegetable Samosa (2 pcs)      198.0   \n",
       "M002        Appetizer           Chicken Tikka (6 pcs)      495.0   \n",
       "M003      Main Course  Butter Chicken (Murgh Makhani)      715.0   \n",
       "M004      Main Course                    Palak Paneer      605.0   \n",
       "M005      Main Course                 Lamb Rogan Josh      858.0   \n",
       "M006     Rice/Biryani    Chicken Biryani (Hyderabadi)      770.0   \n",
       "M007     Rice/Biryani                      Jeera Rice      330.0   \n",
       "M008            Bread                     Butter Naan      121.0   \n",
       "M009          Dessert             Gulab Jamun (2 pcs)      209.0   \n",
       "M010        Beverages                     Mango Lassi      242.0   \n",
       "\n",
       "         Is_Vegetarian                                        Description  \\\n",
       "Item_ID                                                                     \n",
       "M001              True  Crisp pastry filled with spiced potatoes and p...   \n",
       "M002             False  Boneless chicken marinated in yogurt and spice...   \n",
       "M003             False  Tandoor-cooked chicken in a rich, creamy tomat...   \n",
       "M004              True  Cottage cheese cubes simmered in a creamy spin...   \n",
       "M005             False  A signature Kashmiri curry: slow-cooked lamb i...   \n",
       "M006             False  Layered basmati rice and marinated chicken coo...   \n",
       "M007              True  Fragrant basmati rice tossed with roasted cumi...   \n",
       "M008              True  Leavened flatbread baked in the tandoor and br...   \n",
       "M009              True  Deep-fried milk solids soaked in a rose and ca...   \n",
       "M010              True  A refreshing blend of yogurt, mango pulp, and ...   \n",
       "\n",
       "        Spice_Level  \n",
       "Item_ID              \n",
       "M001         Medium  \n",
       "M002         Medium  \n",
       "M003           Mild  \n",
       "M004           Mild  \n",
       "M005         Medium  \n",
       "M006          Spicy  \n",
       "M007           Mild  \n",
       "M008           Mild  \n",
       "M009          Sweet  \n",
       "M010          Sweet  "
      ]
     },
     "execution_count": 31,
     "metadata": {},
     "output_type": "execute_result"
    }
   ],
   "source": [
    "catalog_df"
   ]
  },
  {
   "cell_type": "code",
   "execution_count": 32,
   "id": "4609c6ea",
   "metadata": {},
   "outputs": [],
   "source": [
    "catalog_df.to_csv('newcatalog.csv')"
   ]
  }
 ],
 "metadata": {
  "kernelspec": {
   "display_name": "catalog",
   "language": "python",
   "name": "python3"
  },
  "language_info": {
   "codemirror_mode": {
    "name": "ipython",
    "version": 3
   },
   "file_extension": ".py",
   "mimetype": "text/x-python",
   "name": "python",
   "nbconvert_exporter": "python",
   "pygments_lexer": "ipython3",
   "version": "3.13.5"
  }
 },
 "nbformat": 4,
 "nbformat_minor": 5
}
