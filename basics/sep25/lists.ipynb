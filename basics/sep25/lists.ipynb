{
 "cells": [
  {
   "cell_type": "code",
   "execution_count": 1,
   "id": "14cb60b5",
   "metadata": {},
   "outputs": [],
   "source": [
    "# exam1 marks\n",
    "e1_s1 = [ 99, 86, 36 ]\n",
    "e1_s2 = [ 91, 81, 42 ]\n",
    "\n",
    "e1 = [ [ 99, 86, 36 ], [ 91, 81, 42 ]  ]"
   ]
  },
  {
   "cell_type": "code",
   "execution_count": 4,
   "id": "86310866",
   "metadata": {},
   "outputs": [
    {
     "name": "stdout",
     "output_type": "stream",
     "text": [
      "99\n",
      "[99, 86, 36]\n",
      "99\n"
     ]
    }
   ],
   "source": [
    "print(e1_s1[0])\n",
    "print(e1[0])\n",
    "print(e1[0][0] )"
   ]
  },
  {
   "cell_type": "code",
   "execution_count": null,
   "id": "be96bf7b",
   "metadata": {},
   "outputs": [],
   "source": [
    "# exam2 marks\n",
    "e2_s1 = [ 80, 76, 66 ]\n",
    "e2_s2 = [ 81, 91, 72 ]\n",
    "\n",
    "e2 = [ [ 80, 76, 66 ], [ 81, 91, 72 ] ]"
   ]
  },
  {
   "cell_type": "code",
   "execution_count": 5,
   "id": "41563f48",
   "metadata": {},
   "outputs": [],
   "source": [
    "## Dictionary\n",
    "\n",
    "marks = {\n",
    "    'maths': 100,\n",
    "    'science': 89,\n",
    "    'english': 60\n",
    "}"
   ]
  },
  {
   "cell_type": "code",
   "execution_count": 6,
   "id": "2b203ff4",
   "metadata": {},
   "outputs": [
    {
     "data": {
      "text/plain": [
       "60"
      ]
     },
     "execution_count": 6,
     "metadata": {},
     "output_type": "execute_result"
    }
   ],
   "source": [
    "marks['english']"
   ]
  },
  {
   "cell_type": "code",
   "execution_count": 7,
   "id": "f644743a",
   "metadata": {},
   "outputs": [
    {
     "data": {
      "text/plain": [
       "89"
      ]
     },
     "execution_count": 7,
     "metadata": {},
     "output_type": "execute_result"
    }
   ],
   "source": [
    "marks['science']"
   ]
  },
  {
   "cell_type": "code",
   "execution_count": 8,
   "id": "08b41082",
   "metadata": {},
   "outputs": [],
   "source": [
    "marks['social'] = 92"
   ]
  },
  {
   "cell_type": "code",
   "execution_count": 9,
   "id": "fed34d50",
   "metadata": {},
   "outputs": [
    {
     "data": {
      "text/plain": [
       "{'maths': 100, 'science': 89, 'english': 60, 'social': 92}"
      ]
     },
     "execution_count": 9,
     "metadata": {},
     "output_type": "execute_result"
    }
   ],
   "source": [
    "marks"
   ]
  },
  {
   "cell_type": "code",
   "execution_count": 11,
   "id": "0e020c4b",
   "metadata": {},
   "outputs": [
    {
     "data": {
      "text/plain": [
       "{'maths': 92, 'science': 89, 'english': 60, 'social': 92}"
      ]
     },
     "execution_count": 11,
     "metadata": {},
     "output_type": "execute_result"
    }
   ],
   "source": [
    "marks['maths'] = 92\n",
    "marks"
   ]
  },
  {
   "cell_type": "code",
   "execution_count": null,
   "id": "98cfcf83",
   "metadata": {},
   "outputs": [
    {
     "name": "stdout",
     "output_type": "stream",
     "text": [
      "maths\n",
      "science\n",
      "english\n",
      "social\n"
     ]
    }
   ],
   "source": [
    "for mark in marks:\n",
    "    print(mark)"
   ]
  },
  {
   "cell_type": "code",
   "execution_count": 13,
   "id": "bf3948ad",
   "metadata": {},
   "outputs": [
    {
     "name": "stdout",
     "output_type": "stream",
     "text": [
      "92\n",
      "89\n",
      "60\n",
      "92\n"
     ]
    }
   ],
   "source": [
    "for mark in marks:\n",
    "    print(marks[mark])"
   ]
  },
  {
   "cell_type": "code",
   "execution_count": 14,
   "id": "8300df1a",
   "metadata": {},
   "outputs": [
    {
     "name": "stdout",
     "output_type": "stream",
     "text": [
      "maths 92\n",
      "science 89\n",
      "english 60\n",
      "social 92\n"
     ]
    }
   ],
   "source": [
    "for subject, mark in marks.items():\n",
    "    print(subject, end=\" \")\n",
    "    print(mark)"
   ]
  },
  {
   "cell_type": "code",
   "execution_count": 15,
   "id": "58d9ae60",
   "metadata": {},
   "outputs": [
    {
     "data": {
      "text/plain": [
       "dict_keys(['maths', 'science', 'english', 'social'])"
      ]
     },
     "execution_count": 15,
     "metadata": {},
     "output_type": "execute_result"
    }
   ],
   "source": [
    "marks.keys()"
   ]
  },
  {
   "cell_type": "code",
   "execution_count": 16,
   "id": "6969d353",
   "metadata": {},
   "outputs": [
    {
     "data": {
      "text/plain": [
       "dict_values([92, 89, 60, 92])"
      ]
     },
     "execution_count": 16,
     "metadata": {},
     "output_type": "execute_result"
    }
   ],
   "source": [
    "marks.values()"
   ]
  }
 ],
 "metadata": {
  "kernelspec": {
   "display_name": "Python 3",
   "language": "python",
   "name": "python3"
  },
  "language_info": {
   "codemirror_mode": {
    "name": "ipython",
    "version": 3
   },
   "file_extension": ".py",
   "mimetype": "text/x-python",
   "name": "python",
   "nbconvert_exporter": "python",
   "pygments_lexer": "ipython3",
   "version": "3.11.9"
  }
 },
 "nbformat": 4,
 "nbformat_minor": 5
}
