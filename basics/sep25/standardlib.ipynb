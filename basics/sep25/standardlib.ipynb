{
 "cells": [
  {
   "cell_type": "markdown",
   "id": "16b355d8",
   "metadata": {},
   "source": [
    "## os module"
   ]
  },
  {
   "cell_type": "code",
   "execution_count": 1,
   "id": "618fb867",
   "metadata": {},
   "outputs": [],
   "source": [
    "import os"
   ]
  },
  {
   "cell_type": "code",
   "execution_count": 2,
   "id": "6d1426c3",
   "metadata": {},
   "outputs": [
    {
     "data": {
      "text/plain": [
       "'c:\\\\khajaclassroom\\\\GenerativeAI\\\\PythonFoundations\\\\basics\\\\sep25'"
      ]
     },
     "execution_count": 2,
     "metadata": {},
     "output_type": "execute_result"
    }
   ],
   "source": [
    "# current working directory\n",
    "os.getcwd()"
   ]
  },
  {
   "cell_type": "code",
   "execution_count": 3,
   "id": "b61e4014",
   "metadata": {},
   "outputs": [],
   "source": [
    "# lets try creating a directory\n",
    "os.mkdir(\"bin\")"
   ]
  },
  {
   "cell_type": "code",
   "execution_count": 4,
   "id": "658ff98a",
   "metadata": {},
   "outputs": [
    {
     "data": {
      "text/plain": [
       "'c:\\\\Python311;c:\\\\Users\\\\DELL\\\\AppData\\\\Roaming\\\\Python\\\\Python311\\\\Scripts;C:\\\\Program Files\\\\Microsoft SDKs\\\\Azure\\\\CLI2\\\\wbin;C:\\\\Python311\\\\Scripts\\\\;C:\\\\Python311\\\\;C:\\\\Windows\\\\system32;C:\\\\Windows;C:\\\\Windows\\\\System32\\\\Wbem;C:\\\\Windows\\\\System32\\\\WindowsPowerShell\\\\v1.0\\\\;C:\\\\Windows\\\\System32\\\\OpenSSH\\\\;C:\\\\Program Files\\\\dotnet\\\\;C:\\\\ProgramData\\\\chocolatey\\\\bin;C:\\\\Program Files\\\\Git\\\\cmd;C:\\\\Program Files\\\\Microsoft VS Code\\\\bin;C:\\\\Program Files\\\\Amazon\\\\AWSCLIV2\\\\;C:\\\\Program Files\\\\Meld\\\\;C:\\\\Users\\\\DELL\\\\AppData\\\\Local\\\\nvm;C:\\\\nvm4w\\\\nodejs;C:\\\\Program Files\\\\OpenJDK\\\\jdk-17.0.2\\\\bin;C:\\\\ProgramData\\\\chocolatey\\\\lib\\\\maven\\\\apache-maven-3.9.9\\\\bin;C:\\\\Program Files (x86)\\\\Google\\\\Cloud SDK\\\\google-cloud-sdk\\\\bin;C:\\\\Windows\\\\system32\\\\config\\\\systemprofile\\\\AppData\\\\Local\\\\Microsoft\\\\WindowsApps;C:\\\\Users\\\\DELL\\\\AppData\\\\Local\\\\Programs\\\\Azure Data Studio\\\\bin;C:\\\\Windows\\\\system32\\\\config\\\\systemprofile\\\\.dotnet\\\\tools;C:\\\\Users\\\\DELL\\\\AppData\\\\Local\\\\Microsoft\\\\WinGet\\\\Links;C:\\\\Users\\\\DELL\\\\AppData\\\\Local\\\\Programs\\\\Lens\\\\resources\\\\cli\\\\bin;C:\\\\Users\\\\DELL\\\\AppData\\\\Local\\\\Microsoft\\\\WindowsApps;C:\\\\Users\\\\DELL\\\\AppData\\\\Local\\\\nvm;C:\\\\nvm4w\\\\nodejs;C:\\\\Users\\\\DELL\\\\AppData\\\\Local\\\\Programs\\\\Ollama;C:\\\\Users\\\\DELL\\\\.dotnet\\\\tools;C:\\\\Users\\\\DELL\\\\AppData\\\\Local\\\\Microsoft\\\\WinGet\\\\Packages\\\\eksctl.eksctl_Microsoft.Winget.Source_8wekyb3d8bbwe;;C:\\\\Program Files\\\\Microsoft SDKs\\\\Azure\\\\CLI2\\\\wbin;C:\\\\Python311\\\\Scripts\\\\;C:\\\\Python311\\\\;C:\\\\Windows\\\\system32;C:\\\\Windows;C:\\\\Windows\\\\System32\\\\Wbem;C:\\\\Windows\\\\System32\\\\WindowsPowerShell\\\\v1.0\\\\;C:\\\\Windows\\\\System32\\\\OpenSSH\\\\;C:\\\\Program Files\\\\dotnet\\\\;C:\\\\ProgramData\\\\chocolatey\\\\bin;C:\\\\Program Files\\\\Git\\\\cmd;C:\\\\Program Files\\\\Microsoft VS Code\\\\bin;C:\\\\Program Files\\\\Amazon\\\\AWSCLIV2\\\\;C:\\\\Program Files\\\\Meld\\\\;C:\\\\Users\\\\DELL\\\\AppData\\\\Local\\\\nvm;C:\\\\nvm4w\\\\nodejs;C:\\\\Program Files\\\\OpenJDK\\\\jdk-17.0.2\\\\bin;C:\\\\ProgramData\\\\chocolatey\\\\lib\\\\maven\\\\apache-maven-3.9.9\\\\bin;C:\\\\Program Files (x86)\\\\Google\\\\Cloud SDK\\\\google-cloud-sdk\\\\bin;C:\\\\Windows\\\\system32\\\\config\\\\systemprofile\\\\AppData\\\\Local\\\\Microsoft\\\\WindowsApps;C:\\\\Users\\\\DELL\\\\AppData\\\\Local\\\\Programs\\\\Azure Data Studio\\\\bin;C:\\\\Windows\\\\system32\\\\config\\\\systemprofile\\\\.dotnet\\\\tools;C:\\\\Users\\\\DELL\\\\AppData\\\\Local\\\\Microsoft\\\\WinGet\\\\Links;C:\\\\Users\\\\DELL\\\\AppData\\\\Local\\\\Programs\\\\Lens\\\\resources\\\\cli\\\\bin;C:\\\\Users\\\\DELL\\\\AppData\\\\Local\\\\Microsoft\\\\WindowsApps;C:\\\\Users\\\\DELL\\\\AppData\\\\Local\\\\nvm;C:\\\\nvm4w\\\\nodejs;C:\\\\Users\\\\DELL\\\\AppData\\\\Local\\\\Programs\\\\Ollama;C:\\\\Users\\\\DELL\\\\.dotnet\\\\tools;C:\\\\Users\\\\DELL\\\\AppData\\\\Local\\\\Microsoft\\\\WinGet\\\\Packages\\\\eksctl.eksctl_Microsoft.Winget.Source_8wekyb3d8bbwe;'"
      ]
     },
     "execution_count": 4,
     "metadata": {},
     "output_type": "execute_result"
    }
   ],
   "source": [
    "os.environ.get('PATH')"
   ]
  },
  {
   "cell_type": "code",
   "execution_count": null,
   "id": "5cb90791",
   "metadata": {},
   "outputs": [
    {
     "data": {
      "text/plain": [
       "'EMPTY'"
      ]
     },
     "execution_count": 8,
     "metadata": {},
     "output_type": "execute_result"
    }
   ],
   "source": [
    "import os\n",
    "# if variable is not found give default value\n",
    "os.getenv('TESTING', 'EMPTY')"
   ]
  },
  {
   "cell_type": "code",
   "execution_count": null,
   "id": "fdca2c2a",
   "metadata": {},
   "outputs": [],
   "source": [
    "# Write a program and find all the files in C drive (mac go with home dire)\n",
    "# Find all the files in Downloads which are greater than 5 MB"
   ]
  },
  {
   "cell_type": "code",
   "execution_count": null,
   "id": "de17fac4",
   "metadata": {},
   "outputs": [
    {
     "name": "stdout",
     "output_type": "stream",
     "text": [
      "C:\\Users\\Dell\\Downloads\n",
      "['Applight Free Website Template - Free-CSS.com', 'fecu1dd', 'gesc1dd', 'jess1dd', 'package', 'templatemo_559_zay_shop', 'templatemo_596_electric_xtra', 'terraform_1.12.0_windows_amd64']\n",
      "['2117_infinite_loop.zip', '24.-Impact-Of-Social-Media-On-Youth-Comprehensive-Analysis.pdf', 'Applight Free Website Template - Free-CSS.com.zip', 'azure.khaja.tech.pfx', 'byaws.pem', 'byazure.pem', 'Claude-Setup-x64 (1).exe', 'Claude-Setup-x64.exe', 'client_secret_125883509208-i46jefeoq037vqcrjrerkkuhfk9thp6v.apps.googleusercontent.com.json', 'client_secret_125883509208-jhi4soc2a6qir571ak5k8opg46g47li6.apps.googleusercontent.com.json', 'Delete_prodvault.ps1', 'desktop.ini', 'DevOps & Multi- Cloud Combined session on How to use AI Tool Online Class on 21st Aug  @ 8_00 AM to 9_30 AM.mp4', 'electronics_faqs.csv', 'electronics_products.csv', 'electronics_troubleshooting.csv', 'Everyday-Ayurveda-–-a-practical-guide-to-healthy-living-Ayurveda-UK.pdf', 'fecu1dd.zip', 'fordesktop.pem', 'gesc1dd.zip', 'Hello.txt', 'ICLH_Diagram_Batch_01_03-DeepNeuralNetwork.png', 'inbox_14323427_0619f2d90c9f5e763ee4039e83c20ea2_fine-tuning.png', 'jess1dd.zip', 'jess2dd.zip', 'KBArticles-20250826T050805Z-1-001.zip', 'KM174120292_statement.csv', 'li-et-al-2023-potential-health-impact-of-microplastics-a-review-of-environmental-distribution-human-exposure-and-toxic.pdf', 'Lounge-1.0.0 (1).zip', 'Lounge-1.0.0 (2).zip', 'Lounge-1.0.0.zip', 'maven-build-lifecycle.webp', 'mermaid-diagram-2025-09-07-093840.png', 'mermaid-flow-1x.png', 'ms-devlabs.custom-terraform-tasks-0.1.33.vsix', 'nop.pem', 'NoSQLType-DataModel-TypicalUseCases-ExampleDatabases.csv', 'Oberlo-1.0.0.zip', 'OllamaSetup.exe', 'pan.jpg', 'PHOTO-2025-03-21-10-41-43.jpg', 'pone.0288661.pdf', 'Postman-win64-Setup.exe', 'Practical Agentic AI for Real World Applications.pptx', 'Quality Thought DevOps & Multi- Cloud Online Class on 20th Aug  @ 8_00 AM to 9_30 AM.mp4', 'random_podcast (1).mp3', 'random_podcast.mp3', 'Receipts Report.xlsx', 'sales.csv', 'Sample - Superstore-better.xlsx', 'Sample - Superstore.xls', 'sample.mp4', 'spring-petclinic-3.4.0-SNAPSHOT.jar', 'spring-petclinic-mar25-main.zip', 'start.bat', 'SWTM-2088_Atlassian-Git-Cheatsheet (1).pdf', 'SWTM-2088_Atlassian-Git-Cheatsheet (2).pdf', 'SWTM-2088_Atlassian-Git-Cheatsheet.pdf', 'templatemo_542_new_vision.zip', 'templatemo_559_zay_shop.zip', 'templatemo_590_topic_listing.zip', 'templatemo_591_villa_agency.zip', 'templatemo_594_nexus_flow.zip', 'templatemo_596_electric_xtra.zip', 'terraform_1.12.0_windows_amd64.zip', 'test.py', 'test.txt', 'The_Causes_Effects_and_Interventions_of_Social_Med.pdf', 'Untitled 1.png', 'Untitled diagram _ Mermaid Chart-2025-08-19-050119.png', 'Untitled.png', 'vlc-3.0.21-win32.exe', 'voter.pdf', 'WinDirStat-x64.msi', 'Windows Server.rdp', 'windows.pem', 'wordpress.json', 'Zoom_cm_ds_m2fLSYrBvJnLiY07AxefxG+hiGrjjWPVoVsk2@TO59qe85nk3WKcUV_k3000893fbd215cca_.exe']\n"
     ]
    }
   ],
   "source": [
    "# os.walk\n",
    "# os.path.getsize()\n",
    "\n",
    "import os\n",
    "for root, dirs, files in os.walk(\"C:\\\\Users\\\\Dell\\\\Downloads\"):\n",
    "    print(root)\n",
    "    print(dirs)\n",
    "    print(files)\n",
    "    break\n",
    "\n",
    "max = 5 * 1024 * 1024\n",
    "os.path.getsize()\n",
    "\n",
    "\n"
   ]
  },
  {
   "cell_type": "markdown",
   "id": "935f4e9c",
   "metadata": {},
   "source": [
    "## sys module"
   ]
  },
  {
   "cell_type": "code",
   "execution_count": null,
   "id": "9618d76b",
   "metadata": {},
   "outputs": [],
   "source": [
    "import sys"
   ]
  },
  {
   "cell_type": "markdown",
   "id": "ed921e25",
   "metadata": {},
   "source": [
    "## Generator"
   ]
  },
  {
   "cell_type": "code",
   "execution_count": 1,
   "id": "4c208acc",
   "metadata": {},
   "outputs": [],
   "source": [
    "# list of even numbers between start to end\n",
    "def even_numbers(start=1, end=10):\n",
    "    result = []\n",
    "    for index in range(start, end+1):\n",
    "        if index % 2 == 0:\n",
    "            result.append(index)\n",
    "    return result"
   ]
  },
  {
   "cell_type": "code",
   "execution_count": 9,
   "id": "167c0b32",
   "metadata": {},
   "outputs": [
    {
     "data": {
      "text/plain": [
       "[2, 4, 6, 8, 10]"
      ]
     },
     "execution_count": 9,
     "metadata": {},
     "output_type": "execute_result"
    }
   ],
   "source": [
    "even_numbers()"
   ]
  },
  {
   "cell_type": "code",
   "execution_count": 3,
   "id": "a35c9ca4",
   "metadata": {},
   "outputs": [
    {
     "data": {
      "text/plain": [
       "[100,\n",
       " 102,\n",
       " 104,\n",
       " 106,\n",
       " 108,\n",
       " 110,\n",
       " 112,\n",
       " 114,\n",
       " 116,\n",
       " 118,\n",
       " 120,\n",
       " 122,\n",
       " 124,\n",
       " 126,\n",
       " 128,\n",
       " 130,\n",
       " 132,\n",
       " 134,\n",
       " 136,\n",
       " 138,\n",
       " 140,\n",
       " 142,\n",
       " 144,\n",
       " 146,\n",
       " 148,\n",
       " 150,\n",
       " 152,\n",
       " 154,\n",
       " 156,\n",
       " 158,\n",
       " 160,\n",
       " 162,\n",
       " 164,\n",
       " 166,\n",
       " 168,\n",
       " 170,\n",
       " 172,\n",
       " 174,\n",
       " 176,\n",
       " 178,\n",
       " 180,\n",
       " 182,\n",
       " 184,\n",
       " 186,\n",
       " 188,\n",
       " 190,\n",
       " 192,\n",
       " 194,\n",
       " 196,\n",
       " 198,\n",
       " 200]"
      ]
     },
     "execution_count": 3,
     "metadata": {},
     "output_type": "execute_result"
    }
   ],
   "source": [
    "even_numbers(100,200)"
   ]
  },
  {
   "cell_type": "code",
   "execution_count": null,
   "id": "92d67f49",
   "metadata": {},
   "outputs": [],
   "source": [
    "def even_numbers_generator(start=1, end=10):\n",
    "    for index in range(start, end+1):\n",
    "        if index % 2 == 0:\n",
    "            yield index"
   ]
  },
  {
   "cell_type": "code",
   "execution_count": null,
   "id": "1b4ceff0",
   "metadata": {},
   "outputs": [
    {
     "data": {
      "text/plain": [
       "<generator object even_numbers_generator at 0x00000216F23E4130>"
      ]
     },
     "execution_count": 6,
     "metadata": {},
     "output_type": "execute_result"
    }
   ],
   "source": [
    "even_numbers_generator()"
   ]
  },
  {
   "cell_type": "code",
   "execution_count": 7,
   "id": "0ca15b16",
   "metadata": {},
   "outputs": [
    {
     "data": {
      "text/plain": [
       "[2, 4, 6, 8, 10]"
      ]
     },
     "execution_count": 7,
     "metadata": {},
     "output_type": "execute_result"
    }
   ],
   "source": [
    "list(even_numbers_generator())"
   ]
  },
  {
   "cell_type": "code",
   "execution_count": 11,
   "id": "68e7b70c",
   "metadata": {},
   "outputs": [
    {
     "name": "stdout",
     "output_type": "stream",
     "text": [
      "2\n",
      "4\n",
      "6\n",
      "8\n",
      "10\n"
     ]
    }
   ],
   "source": [
    "for even_number in even_numbers_generator():\n",
    "    print(even_number)"
   ]
  }
 ],
 "metadata": {
  "kernelspec": {
   "display_name": "Python 3",
   "language": "python",
   "name": "python3"
  },
  "language_info": {
   "codemirror_mode": {
    "name": "ipython",
    "version": 3
   },
   "file_extension": ".py",
   "mimetype": "text/x-python",
   "name": "python",
   "nbconvert_exporter": "python",
   "pygments_lexer": "ipython3",
   "version": "3.11.9"
  }
 },
 "nbformat": 4,
 "nbformat_minor": 5
}
