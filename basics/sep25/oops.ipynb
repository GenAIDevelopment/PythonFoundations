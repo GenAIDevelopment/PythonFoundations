{
 "cells": [
  {
   "cell_type": "code",
   "execution_count": 1,
   "id": "fc769ec2",
   "metadata": {},
   "outputs": [],
   "source": [
    "# Basic class\n",
    "\n",
    "class Point:\n",
    "    pass"
   ]
  },
  {
   "cell_type": "code",
   "execution_count": 2,
   "id": "a755fbf9",
   "metadata": {},
   "outputs": [],
   "source": [
    "p = Point()"
   ]
  },
  {
   "cell_type": "code",
   "execution_count": 3,
   "id": "7d3018ae",
   "metadata": {},
   "outputs": [
    {
     "data": {
      "text/plain": [
       "'<__main__.Point object at 0x0000016873523D50>'"
      ]
     },
     "execution_count": 3,
     "metadata": {},
     "output_type": "execute_result"
    }
   ],
   "source": [
    "p.__str__()"
   ]
  },
  {
   "cell_type": "code",
   "execution_count": 4,
   "id": "3c7a88b4",
   "metadata": {},
   "outputs": [],
   "source": [
    "def test():\n",
    "    print(\"hello\")"
   ]
  },
  {
   "cell_type": "code",
   "execution_count": 5,
   "id": "3006e34b",
   "metadata": {},
   "outputs": [],
   "source": [
    "x = test"
   ]
  },
  {
   "cell_type": "code",
   "execution_count": 7,
   "id": "3c7e7b40",
   "metadata": {},
   "outputs": [],
   "source": [
    "x = 5"
   ]
  },
  {
   "cell_type": "code",
   "execution_count": 28,
   "id": "5e9c72fa",
   "metadata": {},
   "outputs": [],
   "source": [
    "class Point:\n",
    "    def __init__(self, x:float|int, y=float|int):\n",
    "        self.x = x\n",
    "        self.y = y\n",
    "\n",
    "    def __str__(self):\n",
    "        return f\"({self.x}, {self.y})\"\n",
    "    \n",
    "    def __repr__(self):\n",
    "        return f\"({self.x}, {self.y})\"\n",
    "    \n",
    "    def __add__(self, other:Point):\n",
    "        return Point(self.x + other.x, self.y + other.y)\n",
    "    \n",
    "    def __eq__(self, other: Point):\n",
    "        return self.x == other.x and self.y == other.y"
   ]
  },
  {
   "cell_type": "code",
   "execution_count": 16,
   "id": "03e7e6a0",
   "metadata": {},
   "outputs": [],
   "source": [
    "p = Point(3,5)"
   ]
  },
  {
   "cell_type": "code",
   "execution_count": 17,
   "id": "2dfef1da",
   "metadata": {},
   "outputs": [
    {
     "data": {
      "text/plain": [
       "(3, 5)"
      ]
     },
     "execution_count": 17,
     "metadata": {},
     "output_type": "execute_result"
    }
   ],
   "source": [
    "p"
   ]
  },
  {
   "cell_type": "code",
   "execution_count": 14,
   "id": "674248c2",
   "metadata": {},
   "outputs": [
    {
     "data": {
      "text/plain": [
       "'(3, 5)'"
      ]
     },
     "execution_count": 14,
     "metadata": {},
     "output_type": "execute_result"
    }
   ],
   "source": [
    "str(p)"
   ]
  },
  {
   "cell_type": "code",
   "execution_count": 22,
   "id": "2423fde1",
   "metadata": {},
   "outputs": [],
   "source": [
    "p1 = Point(4,5)"
   ]
  },
  {
   "cell_type": "code",
   "execution_count": 23,
   "id": "910ace46",
   "metadata": {},
   "outputs": [],
   "source": [
    "p2 = Point(2,2)"
   ]
  },
  {
   "cell_type": "code",
   "execution_count": 32,
   "id": "866926d5",
   "metadata": {},
   "outputs": [
    {
     "ename": "KeyboardInterrupt",
     "evalue": "",
     "output_type": "error",
     "traceback": [
      "\u001b[31m---------------------------------------------------------------------------\u001b[39m",
      "\u001b[31mKeyboardInterrupt\u001b[39m                         Traceback (most recent call last)",
      "\u001b[36mCell\u001b[39m\u001b[36m \u001b[39m\u001b[32mIn[32]\u001b[39m\u001b[32m, line 1\u001b[39m\n\u001b[32m----> \u001b[39m\u001b[32m1\u001b[39m p3 = \u001b[43mp1\u001b[49m\u001b[43m \u001b[49m\u001b[43m+\u001b[49m\u001b[43m \u001b[49m\u001b[43mp2\u001b[49m\n\u001b[32m      3\u001b[39m \u001b[38;5;66;03m# p1 + p2 => p1.__add__(p2)\u001b[39;00m\n\u001b[32m      4\u001b[39m p3\n",
      "\u001b[36mCell\u001b[39m\u001b[36m \u001b[39m\u001b[32mIn[21]\u001b[39m\u001b[32m, line 13\u001b[39m, in \u001b[36mPoint.__add__\u001b[39m\u001b[34m(self, other)\u001b[39m\n\u001b[32m     12\u001b[39m \u001b[38;5;28;01mdef\u001b[39;00m\u001b[38;5;250m \u001b[39m\u001b[34m__add__\u001b[39m(\u001b[38;5;28mself\u001b[39m, other:Point):\n\u001b[32m---> \u001b[39m\u001b[32m13\u001b[39m     \u001b[38;5;28;01mreturn\u001b[39;00m \u001b[43mPoint\u001b[49m(\u001b[38;5;28mself\u001b[39m.x + other.x, \u001b[38;5;28mself\u001b[39m.y + other.y)\n",
      "\u001b[36mCell\u001b[39m\u001b[36m \u001b[39m\u001b[32mIn[21]\u001b[39m\u001b[32m, line 13\u001b[39m, in \u001b[36mPoint.__add__\u001b[39m\u001b[34m(self, other)\u001b[39m\n\u001b[32m     12\u001b[39m \u001b[38;5;28;01mdef\u001b[39;00m\u001b[38;5;250m \u001b[39m\u001b[34m__add__\u001b[39m(\u001b[38;5;28mself\u001b[39m, other:Point):\n\u001b[32m---> \u001b[39m\u001b[32m13\u001b[39m     \u001b[38;5;28;01mreturn\u001b[39;00m \u001b[43mPoint\u001b[49m(\u001b[38;5;28mself\u001b[39m.x + other.x, \u001b[38;5;28mself\u001b[39m.y + other.y)\n",
      "\u001b[36mFile \u001b[39m\u001b[32m_pydevd_bundle\\\\pydevd_cython.pyx:1697\u001b[39m, in \u001b[36m_pydevd_bundle.pydevd_cython.SafeCallWrapper.__call__\u001b[39m\u001b[34m()\u001b[39m\n",
      "\u001b[36mFile \u001b[39m\u001b[32m_pydevd_bundle\\\\pydevd_cython.pyx:634\u001b[39m, in \u001b[36m_pydevd_bundle.pydevd_cython.PyDBFrame.trace_dispatch\u001b[39m\u001b[34m()\u001b[39m\n",
      "\u001b[36mFile \u001b[39m\u001b[32m_pydevd_bundle\\\\pydevd_cython.pyx:1368\u001b[39m, in \u001b[36m_pydevd_bundle.pydevd_cython.PyDBFrame.trace_dispatch\u001b[39m\u001b[34m()\u001b[39m\n",
      "\u001b[36mFile \u001b[39m\u001b[32m_pydevd_bundle\\\\pydevd_cython.pyx:1311\u001b[39m, in \u001b[36m_pydevd_bundle.pydevd_cython.PyDBFrame.trace_dispatch\u001b[39m\u001b[34m()\u001b[39m\n",
      "\u001b[36mFile \u001b[39m\u001b[32m_pydevd_bundle\\\\pydevd_cython.pyx:494\u001b[39m, in \u001b[36m_pydevd_bundle.pydevd_cython.PyDBFrame.do_wait_suspend\u001b[39m\u001b[34m()\u001b[39m\n",
      "\u001b[36mFile \u001b[39m\u001b[32m~\\AppData\\Roaming\\Python\\Python311\\site-packages\\debugpy\\_vendored\\pydevd\\pydevd.py:2188\u001b[39m, in \u001b[36mPyDB.do_wait_suspend\u001b[39m\u001b[34m(self, thread, frame, event, arg, exception_type)\u001b[39m\n\u001b[32m   2185\u001b[39m             from_this_thread.append(frame_custom_thread_id)\n\u001b[32m   2187\u001b[39m     \u001b[38;5;28;01mwith\u001b[39;00m \u001b[38;5;28mself\u001b[39m._threads_suspended_single_notification.notify_thread_suspended(thread_id, thread, stop_reason):\n\u001b[32m-> \u001b[39m\u001b[32m2188\u001b[39m         keep_suspended = \u001b[38;5;28;43mself\u001b[39;49m\u001b[43m.\u001b[49m\u001b[43m_do_wait_suspend\u001b[49m\u001b[43m(\u001b[49m\u001b[43mthread\u001b[49m\u001b[43m,\u001b[49m\u001b[43m \u001b[49m\u001b[43mframe\u001b[49m\u001b[43m,\u001b[49m\u001b[43m \u001b[49m\u001b[43mevent\u001b[49m\u001b[43m,\u001b[49m\u001b[43m \u001b[49m\u001b[43marg\u001b[49m\u001b[43m,\u001b[49m\u001b[43m \u001b[49m\u001b[43mtrace_suspend_type\u001b[49m\u001b[43m,\u001b[49m\u001b[43m \u001b[49m\u001b[43mfrom_this_thread\u001b[49m\u001b[43m,\u001b[49m\u001b[43m \u001b[49m\u001b[43mframes_tracker\u001b[49m\u001b[43m)\u001b[49m\n\u001b[32m   2190\u001b[39m frames_list = \u001b[38;5;28;01mNone\u001b[39;00m\n\u001b[32m   2192\u001b[39m \u001b[38;5;28;01mif\u001b[39;00m keep_suspended:\n\u001b[32m   2193\u001b[39m     \u001b[38;5;66;03m# This means that we should pause again after a set next statement.\u001b[39;00m\n",
      "\u001b[36mFile \u001b[39m\u001b[32m~\\AppData\\Roaming\\Python\\Python311\\site-packages\\debugpy\\_vendored\\pydevd\\pydevd.py:2257\u001b[39m, in \u001b[36mPyDB._do_wait_suspend\u001b[39m\u001b[34m(self, thread, frame, event, arg, trace_suspend_type, from_this_thread, frames_tracker)\u001b[39m\n\u001b[32m   2254\u001b[39m                 queue.put(internal_cmd)\n\u001b[32m   2255\u001b[39m                 wait_timeout = TIMEOUT_FAST\n\u001b[32m-> \u001b[39m\u001b[32m2257\u001b[39m         \u001b[43mnotify_event\u001b[49m\u001b[43m.\u001b[49m\u001b[43mwait\u001b[49m\u001b[43m(\u001b[49m\u001b[43mwait_timeout\u001b[49m\u001b[43m)\u001b[49m\n\u001b[32m   2258\u001b[39m         notify_event.clear()\n\u001b[32m   2260\u001b[39m \u001b[38;5;28;01mfinally\u001b[39;00m:\n",
      "\u001b[36mFile \u001b[39m\u001b[32mc:\\Python311\\Lib\\threading.py:629\u001b[39m, in \u001b[36mEvent.wait\u001b[39m\u001b[34m(self, timeout)\u001b[39m\n\u001b[32m    627\u001b[39m signaled = \u001b[38;5;28mself\u001b[39m._flag\n\u001b[32m    628\u001b[39m \u001b[38;5;28;01mif\u001b[39;00m \u001b[38;5;129;01mnot\u001b[39;00m signaled:\n\u001b[32m--> \u001b[39m\u001b[32m629\u001b[39m     signaled = \u001b[38;5;28;43mself\u001b[39;49m\u001b[43m.\u001b[49m\u001b[43m_cond\u001b[49m\u001b[43m.\u001b[49m\u001b[43mwait\u001b[49m\u001b[43m(\u001b[49m\u001b[43mtimeout\u001b[49m\u001b[43m)\u001b[49m\n\u001b[32m    630\u001b[39m \u001b[38;5;28;01mreturn\u001b[39;00m signaled\n",
      "\u001b[36mFile \u001b[39m\u001b[32mc:\\Python311\\Lib\\threading.py:331\u001b[39m, in \u001b[36mCondition.wait\u001b[39m\u001b[34m(self, timeout)\u001b[39m\n\u001b[32m    329\u001b[39m \u001b[38;5;28;01melse\u001b[39;00m:\n\u001b[32m    330\u001b[39m     \u001b[38;5;28;01mif\u001b[39;00m timeout > \u001b[32m0\u001b[39m:\n\u001b[32m--> \u001b[39m\u001b[32m331\u001b[39m         gotit = \u001b[43mwaiter\u001b[49m\u001b[43m.\u001b[49m\u001b[43macquire\u001b[49m\u001b[43m(\u001b[49m\u001b[38;5;28;43;01mTrue\u001b[39;49;00m\u001b[43m,\u001b[49m\u001b[43m \u001b[49m\u001b[43mtimeout\u001b[49m\u001b[43m)\u001b[49m\n\u001b[32m    332\u001b[39m     \u001b[38;5;28;01melse\u001b[39;00m:\n\u001b[32m    333\u001b[39m         gotit = waiter.acquire(\u001b[38;5;28;01mFalse\u001b[39;00m)\n",
      "\u001b[31mKeyboardInterrupt\u001b[39m: "
     ]
    }
   ],
   "source": [
    "p3 = p1 + p2\n",
    "\n",
    "# p1 + p2 => p1.__add__(p2)\n",
    "p3"
   ]
  },
  {
   "cell_type": "code",
   "execution_count": 29,
   "id": "9bc01671",
   "metadata": {},
   "outputs": [
    {
     "data": {
      "text/plain": [
       "False"
      ]
     },
     "execution_count": 29,
     "metadata": {},
     "output_type": "execute_result"
    }
   ],
   "source": [
    "p1 == p2"
   ]
  },
  {
   "cell_type": "code",
   "execution_count": 30,
   "id": "04f59bcf",
   "metadata": {},
   "outputs": [],
   "source": [
    "p4 = Point(2,2)"
   ]
  },
  {
   "cell_type": "code",
   "execution_count": 31,
   "id": "fc2e1f78",
   "metadata": {},
   "outputs": [
    {
     "data": {
      "text/plain": [
       "True"
      ]
     },
     "execution_count": 31,
     "metadata": {},
     "output_type": "execute_result"
    }
   ],
   "source": [
    "p2 == p4"
   ]
  },
  {
   "cell_type": "code",
   "execution_count": 39,
   "id": "9810473d",
   "metadata": {},
   "outputs": [],
   "source": [
    "# class method\n",
    "\n",
    "class Point:\n",
    "    def __init__(self, x:float|int, y=float|int):\n",
    "        self.x = x\n",
    "        self.y = y\n",
    "\n",
    "    def __str__(self):\n",
    "        return f\"({self.x}, {self.y})\"\n",
    "    \n",
    "    def __repr__(self):\n",
    "        return f\"({self.x}, {self.y})\"\n",
    "    \n",
    "    def __add__(self, other:Point):\n",
    "        return Point(self.x + other.x, self.y + other.y)\n",
    "    \n",
    "    def __eq__(self, other: Point):\n",
    "        return self.x == other.x and self.y == other.y\n",
    "    \n",
    "    @classmethod\n",
    "    def from_values(cls, x:int|float, y:int|float):\n",
    "        return Point(x,y)\n",
    "    @classmethod\n",
    "    def get_origin(cls):\n",
    "        return Point(0,0)\n",
    "    \n",
    "    @staticmethod\n",
    "    def get_version():\n",
    "        return \"v1\"\n",
    "\n"
   ]
  },
  {
   "cell_type": "code",
   "execution_count": 36,
   "id": "b91e53cd",
   "metadata": {},
   "outputs": [],
   "source": [
    "p1 = Point.from_values(5, 6)\n",
    "o = Point.get_origin()"
   ]
  },
  {
   "cell_type": "code",
   "execution_count": 37,
   "id": "f0f75f9e",
   "metadata": {},
   "outputs": [
    {
     "data": {
      "text/plain": [
       "(0, 0)"
      ]
     },
     "execution_count": 37,
     "metadata": {},
     "output_type": "execute_result"
    }
   ],
   "source": [
    "o"
   ]
  },
  {
   "cell_type": "code",
   "execution_count": 40,
   "id": "54f77441",
   "metadata": {},
   "outputs": [
    {
     "data": {
      "text/plain": [
       "'v1'"
      ]
     },
     "execution_count": 40,
     "metadata": {},
     "output_type": "execute_result"
    }
   ],
   "source": [
    "Point.get_version()"
   ]
  },
  {
   "cell_type": "code",
   "execution_count": 47,
   "id": "28a982ac",
   "metadata": {},
   "outputs": [],
   "source": [
    "class BankAccount:\n",
    "    # class member\n",
    "    bank_name = \"icici\"\n",
    "\n",
    "    def __init__(self, number:str, aadhar:str, balance:float):\n",
    "        # instance member\n",
    "        self.number = number\n",
    "        self.aadhar = aadhar\n",
    "        self.balance = balance"
   ]
  },
  {
   "cell_type": "code",
   "execution_count": 42,
   "id": "6af21638",
   "metadata": {},
   "outputs": [],
   "source": [
    "b1 = BankAccount('id1','123',0)\n",
    "b2 = BankAccount('id2','124',0)\n",
    "b3 = BankAccount('id3','125',0)"
   ]
  },
  {
   "cell_type": "code",
   "execution_count": 43,
   "id": "25f1cdb2",
   "metadata": {},
   "outputs": [
    {
     "data": {
      "text/plain": [
       "'123'"
      ]
     },
     "execution_count": 43,
     "metadata": {},
     "output_type": "execute_result"
    }
   ],
   "source": [
    "b1.aadhar"
   ]
  },
  {
   "cell_type": "code",
   "execution_count": 44,
   "id": "2789b0bc",
   "metadata": {},
   "outputs": [
    {
     "data": {
      "text/plain": [
       "'124'"
      ]
     },
     "execution_count": 44,
     "metadata": {},
     "output_type": "execute_result"
    }
   ],
   "source": [
    "b2.aadhar"
   ]
  },
  {
   "cell_type": "code",
   "execution_count": 45,
   "id": "0b224029",
   "metadata": {},
   "outputs": [
    {
     "data": {
      "text/plain": [
       "'icici'"
      ]
     },
     "execution_count": 45,
     "metadata": {},
     "output_type": "execute_result"
    }
   ],
   "source": [
    "b1.bank_name"
   ]
  },
  {
   "cell_type": "code",
   "execution_count": 46,
   "id": "8f411828",
   "metadata": {},
   "outputs": [
    {
     "data": {
      "text/plain": [
       "'icici'"
      ]
     },
     "execution_count": 46,
     "metadata": {},
     "output_type": "execute_result"
    }
   ],
   "source": [
    "b2.bank_name"
   ]
  },
  {
   "cell_type": "code",
   "execution_count": 51,
   "id": "ee7f5a5a",
   "metadata": {},
   "outputs": [],
   "source": [
    "class Point:\n",
    "    def __init__(self, x:float|int, y=float|int):\n",
    "        self.x = x\n",
    "        self.y = y\n",
    "\n",
    "    def sum(self):\n",
    "        return self.x + self.y"
   ]
  },
  {
   "cell_type": "code",
   "execution_count": 52,
   "id": "efefae3e",
   "metadata": {},
   "outputs": [],
   "source": [
    "p = Point(3,3)"
   ]
  },
  {
   "cell_type": "code",
   "execution_count": 53,
   "id": "38a13224",
   "metadata": {},
   "outputs": [
    {
     "data": {
      "text/plain": [
       "3"
      ]
     },
     "execution_count": 53,
     "metadata": {},
     "output_type": "execute_result"
    }
   ],
   "source": [
    "p.x"
   ]
  },
  {
   "cell_type": "code",
   "execution_count": 54,
   "id": "4ecccfee",
   "metadata": {},
   "outputs": [
    {
     "data": {
      "text/plain": [
       "6"
      ]
     },
     "execution_count": 54,
     "metadata": {},
     "output_type": "execute_result"
    }
   ],
   "source": [
    "p.sum()"
   ]
  },
  {
   "cell_type": "code",
   "execution_count": 75,
   "id": "eb89cecb",
   "metadata": {},
   "outputs": [],
   "source": [
    "class Point:\n",
    "    def __init__(self, x:float|int, y=float|int):\n",
    "        self.__x = x\n",
    "        self.__y = y\n",
    "\n",
    "    def sum(self):\n",
    "        return self.__x + self.__y\n",
    "    \n",
    "    @property\n",
    "    def x(self):\n",
    "        return self.__x\n",
    "    @x.setter\n",
    "    def x(self, new_value:int|float):\n",
    "        self.__x = new_value\n",
    "    \n",
    "    def _protected(self):\n",
    "        return \"hello\"\n",
    "    \n",
    "    def __private(self):\n",
    "        return \"hai\""
   ]
  },
  {
   "cell_type": "code",
   "execution_count": 76,
   "id": "6155895a",
   "metadata": {},
   "outputs": [],
   "source": [
    "p = Point(0,0)"
   ]
  },
  {
   "cell_type": "code",
   "execution_count": 77,
   "id": "9ff399f0",
   "metadata": {},
   "outputs": [
    {
     "ename": "AttributeError",
     "evalue": "'Point' object has no attribute '__x'",
     "output_type": "error",
     "traceback": [
      "\u001b[31m---------------------------------------------------------------------------\u001b[39m",
      "\u001b[31mAttributeError\u001b[39m                            Traceback (most recent call last)",
      "\u001b[36mCell\u001b[39m\u001b[36m \u001b[39m\u001b[32mIn[77]\u001b[39m\u001b[32m, line 1\u001b[39m\n\u001b[32m----> \u001b[39m\u001b[32m1\u001b[39m \u001b[43mp\u001b[49m\u001b[43m.\u001b[49m\u001b[43m__x\u001b[49m\n",
      "\u001b[31mAttributeError\u001b[39m: 'Point' object has no attribute '__x'"
     ]
    }
   ],
   "source": [
    "p.__x"
   ]
  },
  {
   "cell_type": "code",
   "execution_count": null,
   "id": "15ebe0b2",
   "metadata": {},
   "outputs": [
    {
     "data": {
      "text/plain": [
       "'hello'"
      ]
     },
     "execution_count": 70,
     "metadata": {},
     "output_type": "execute_result"
    }
   ],
   "source": [
    "p._protected()"
   ]
  },
  {
   "cell_type": "code",
   "execution_count": null,
   "id": "e5e9084b",
   "metadata": {},
   "outputs": [
    {
     "ename": "AttributeError",
     "evalue": "'Point' object has no attribute '__private'",
     "output_type": "error",
     "traceback": [
      "\u001b[31m---------------------------------------------------------------------------\u001b[39m",
      "\u001b[31mAttributeError\u001b[39m                            Traceback (most recent call last)",
      "\u001b[36mCell\u001b[39m\u001b[36m \u001b[39m\u001b[32mIn[71]\u001b[39m\u001b[32m, line 1\u001b[39m\n\u001b[32m----> \u001b[39m\u001b[32m1\u001b[39m \u001b[43mp\u001b[49m\u001b[43m.\u001b[49m\u001b[43m__private\u001b[49m()\n",
      "\u001b[31mAttributeError\u001b[39m: 'Point' object has no attribute '__private'"
     ]
    }
   ],
   "source": [
    "p.__private()"
   ]
  },
  {
   "cell_type": "code",
   "execution_count": null,
   "id": "acac961a",
   "metadata": {},
   "outputs": [
    {
     "data": {
      "text/plain": [
       "0"
      ]
     },
     "execution_count": 72,
     "metadata": {},
     "output_type": "execute_result"
    }
   ],
   "source": [
    "p.x"
   ]
  },
  {
   "cell_type": "code",
   "execution_count": 78,
   "id": "7de4a59d",
   "metadata": {},
   "outputs": [],
   "source": [
    "p.x = 5"
   ]
  },
  {
   "cell_type": "code",
   "execution_count": 79,
   "id": "4a47daae",
   "metadata": {},
   "outputs": [
    {
     "data": {
      "text/plain": [
       "5"
      ]
     },
     "execution_count": 79,
     "metadata": {},
     "output_type": "execute_result"
    }
   ],
   "source": [
    "p.x"
   ]
  },
  {
   "cell_type": "code",
   "execution_count": 85,
   "id": "13a10a9c",
   "metadata": {},
   "outputs": [],
   "source": [
    "class Animal:\n",
    "\n",
    "    def shout(self):\n",
    "        return \"...........\""
   ]
  },
  {
   "cell_type": "code",
   "execution_count": 88,
   "id": "a6f038a6",
   "metadata": {},
   "outputs": [],
   "source": [
    "from abc import abstractmethod\n",
    "class Fox(Animal):\n",
    "\n",
    "    @abstractmethod\n",
    "    def shout(self):\n",
    "        pass"
   ]
  },
  {
   "cell_type": "code",
   "execution_count": 89,
   "id": "15020533",
   "metadata": {},
   "outputs": [],
   "source": [
    "class Cat(Animal):\n",
    "\n",
    "    def shout(self):\n",
    "        return \"me............ow\""
   ]
  },
  {
   "cell_type": "code",
   "execution_count": 90,
   "id": "f347dee7",
   "metadata": {},
   "outputs": [
    {
     "data": {
      "text/plain": [
       "'me............ow'"
      ]
     },
     "execution_count": 90,
     "metadata": {},
     "output_type": "execute_result"
    }
   ],
   "source": [
    "c = Cat()\n",
    "c.shout()"
   ]
  },
  {
   "cell_type": "code",
   "execution_count": 91,
   "id": "60c1d18f",
   "metadata": {},
   "outputs": [],
   "source": [
    "f = Fox()\n",
    "f.shout()"
   ]
  },
  {
   "cell_type": "code",
   "execution_count": 92,
   "id": "f6a71bf7",
   "metadata": {},
   "outputs": [],
   "source": [
    "from abc import abstractmethod\n",
    "class UniqueIdGenerator:\n",
    "\n",
    "    @abstractmethod\n",
    "    def generate(self) -> str:\n",
    "        pass\n",
    "\n"
   ]
  },
  {
   "cell_type": "code",
   "execution_count": 97,
   "id": "d2b6c4fe",
   "metadata": {},
   "outputs": [],
   "source": [
    "class SequenceUniqueIdGenerator(UniqueIdGenerator):\n",
    "    count = 1\n",
    "    prefix = \"lt_python\"\n",
    "\n",
    "    def generate(self):\n",
    "        self.count += 1\n",
    "        return f\"{self.prefix}_{self.count}\"\n",
    "\n"
   ]
  },
  {
   "cell_type": "code",
   "execution_count": 98,
   "id": "0e0c5205",
   "metadata": {},
   "outputs": [],
   "source": [
    "generator = SequenceUniqueIdGenerator()"
   ]
  },
  {
   "cell_type": "code",
   "execution_count": 99,
   "id": "b9ccc86c",
   "metadata": {},
   "outputs": [
    {
     "data": {
      "text/plain": [
       "'lt_python_2'"
      ]
     },
     "execution_count": 99,
     "metadata": {},
     "output_type": "execute_result"
    }
   ],
   "source": [
    "generator.generate()"
   ]
  },
  {
   "cell_type": "code",
   "execution_count": 100,
   "id": "084f0bf2",
   "metadata": {},
   "outputs": [
    {
     "name": "stdout",
     "output_type": "stream",
     "text": [
      "lt_python_3\n",
      "lt_python_4\n",
      "lt_python_5\n",
      "lt_python_6\n",
      "lt_python_7\n",
      "lt_python_8\n",
      "lt_python_9\n",
      "lt_python_10\n",
      "lt_python_11\n"
     ]
    }
   ],
   "source": [
    "for _ in range(1,10):\n",
    "    print(generator.generate())"
   ]
  },
  {
   "cell_type": "code",
   "execution_count": 101,
   "id": "8a4bbb52",
   "metadata": {},
   "outputs": [],
   "source": [
    "import uuid\n",
    "class UUIDGenrator(UniqueIdGenerator):\n",
    "\n",
    "    def generate(self):\n",
    "        return str(uuid.uuid4())"
   ]
  },
  {
   "cell_type": "code",
   "execution_count": 102,
   "id": "989cfe47",
   "metadata": {},
   "outputs": [
    {
     "name": "stdout",
     "output_type": "stream",
     "text": [
      "7d794741-b6cb-4dcc-abf0-27b4a8e2b915\n",
      "c2de483a-9873-4eca-be91-86a505d446b2\n",
      "98ca9405-48f6-49a2-97cb-4bca5d35aa74\n",
      "4851be13-df8f-46a6-afb0-606773196399\n",
      "898cb67f-5123-4f3b-8f76-291465c066e8\n",
      "86870609-2f11-40c3-82bd-e975240670d0\n",
      "5eecedb3-32b4-4efa-9815-bfd5366f0c20\n",
      "5e7109a7-f007-41e0-b7bf-219fd3905fbb\n",
      "27bbd2e9-4cac-4098-bf0d-fbf2e90fa207\n"
     ]
    }
   ],
   "source": [
    "generator = UUIDGenrator()\n",
    "for _ in range(1,10):\n",
    "    print(generator.generate())\n"
   ]
  }
 ],
 "metadata": {
  "kernelspec": {
   "display_name": "Python 3",
   "language": "python",
   "name": "python3"
  },
  "language_info": {
   "codemirror_mode": {
    "name": "ipython",
    "version": 3
   },
   "file_extension": ".py",
   "mimetype": "text/x-python",
   "name": "python",
   "nbconvert_exporter": "python",
   "pygments_lexer": "ipython3",
   "version": "3.11.9"
  }
 },
 "nbformat": 4,
 "nbformat_minor": 5
}
