{
 "cells": [
  {
   "cell_type": "markdown",
   "metadata": {},
   "source": [
    "# Identifying the need for functions"
   ]
  },
  {
   "cell_type": "code",
   "execution_count": 8,
   "metadata": {},
   "outputs": [
    {
     "name": "stdout",
     "output_type": "stream",
     "text": [
      "29\n"
     ]
    }
   ],
   "source": [
    "# largest prime factor \n",
    "# never do this\n",
    "number = 13195\n",
    "for index in range(number-1,1,-1):\n",
    "    if number%index == 0:\n",
    "        # if index is prime or not\n",
    "        is_index_prime = True\n",
    "        for index_index in range(2, index):\n",
    "            if index%index_index == 0:\n",
    "                is_index_prime = False\n",
    "                break\n",
    "        if is_index_prime:\n",
    "            print(index)\n",
    "            break"
   ]
  },
  {
   "cell_type": "code",
   "execution_count": 29,
   "metadata": {},
   "outputs": [],
   "source": [
    "# Defining functions\n",
    "def hello_to_functions():\n",
    "    print(\"hello\")\n",
    "\n",
    "# function with arguments\n",
    "def hello_to_you(name):\n",
    "    print(\"hello \"+name)\n",
    "\n",
    "# function with return values\n",
    "def add(a,b):\n",
    "    return a + b\n",
    "\n",
    "# function with default argument and return value\n",
    "def multiply(a, b=2):\n",
    "    return a * b\n",
    "\n",
    "# variable length of positional arguments\n",
    "def multiply_v2(*args):\n",
    "    print(type(args))\n",
    "    result = 1\n",
    "    for arg in args:\n",
    "        result *= arg\n",
    "    return result\n"
   ]
  },
  {
   "cell_type": "code",
   "execution_count": 14,
   "metadata": {},
   "outputs": [
    {
     "name": "stdout",
     "output_type": "stream",
     "text": [
      "hello\n",
      "hello ironman\n"
     ]
    }
   ],
   "source": [
    "#call function\n",
    "hello_to_functions()\n",
    "hello_to_you(\"ironman\")"
   ]
  },
  {
   "cell_type": "code",
   "execution_count": 26,
   "metadata": {},
   "outputs": [
    {
     "name": "stdout",
     "output_type": "stream",
     "text": [
      "30\n",
      "20\n"
     ]
    }
   ],
   "source": [
    "result = add(10,20)\n",
    "print(result)\n",
    "result = multiply(10)\n",
    "print(result)"
   ]
  },
  {
   "cell_type": "code",
   "execution_count": 32,
   "metadata": {},
   "outputs": [
    {
     "name": "stdout",
     "output_type": "stream",
     "text": [
      "2\n",
      "6\n"
     ]
    }
   ],
   "source": [
    "# positional and keyword arguments\n",
    "def add(a, b):\n",
    "    print(a + b)\n",
    "\n",
    "# postional arguments\n",
    "add(1,1)\n",
    "# keyword arguments\n",
    "add(b=4,a=2)"
   ]
  },
  {
   "cell_type": "code",
   "execution_count": 30,
   "metadata": {},
   "outputs": [
    {
     "name": "stdout",
     "output_type": "stream",
     "text": [
      "<class 'tuple'>\n",
      "<class 'tuple'>\n"
     ]
    },
    {
     "data": {
      "text/plain": [
       "1464100"
      ]
     },
     "execution_count": 30,
     "metadata": {},
     "output_type": "execute_result"
    }
   ],
   "source": [
    "multiply_v2(10,10)"
   ]
  },
  {
   "cell_type": "code",
   "execution_count": 38,
   "metadata": {},
   "outputs": [],
   "source": [
    "def multiply_v3(**kwargs):\n",
    "    #print(type(kwargs))\n",
    "    result = 1\n",
    "    for arg in kwargs.values():\n",
    "        result *= arg\n",
    "    return result\n"
   ]
  },
  {
   "cell_type": "code",
   "execution_count": 36,
   "metadata": {},
   "outputs": [
    {
     "name": "stdout",
     "output_type": "stream",
     "text": [
      "<class 'dict'>\n"
     ]
    },
    {
     "data": {
      "text/plain": [
       "2"
      ]
     },
     "execution_count": 36,
     "metadata": {},
     "output_type": "execute_result"
    }
   ],
   "source": [
    "multiply_v3(a=1, b=2)"
   ]
  },
  {
   "cell_type": "code",
   "execution_count": 39,
   "metadata": {},
   "outputs": [
    {
     "data": {
      "text/plain": [
       "88"
      ]
     },
     "execution_count": 39,
     "metadata": {},
     "output_type": "execute_result"
    }
   ],
   "source": [
    "multiply_v3(a=11, b=2, c=4)"
   ]
  },
  {
   "cell_type": "code",
   "execution_count": 42,
   "metadata": {},
   "outputs": [],
   "source": [
    "def is_prime(number):\n",
    "    \"\"\"This function check if the number is prime or not\n",
    "\n",
    "    Args:\n",
    "        number (int): number to be checked\n",
    "\n",
    "    Returns:\n",
    "        bool: True if prime false otherwise\n",
    "    \"\"\"\n",
    "    result = True\n",
    "    for index in range(2,number):\n",
    "        if number % index == 0:\n",
    "            result = False\n",
    "            break\n",
    "    return result\n",
    "\n",
    "def is_factor(number, index):\n",
    "    \"\"\"This function checks if index is factor of number\n",
    "\n",
    "    Args:\n",
    "        number (_type_): _description_\n",
    "        index (_type_): _description_\n",
    "\n",
    "    Returns:\n",
    "        _type_: _description_\n",
    "    \"\"\"\n",
    "    return number % index == 0"
   ]
  },
  {
   "cell_type": "code",
   "execution_count": 43,
   "metadata": {},
   "outputs": [
    {
     "name": "stdout",
     "output_type": "stream",
     "text": [
      "29\n"
     ]
    }
   ],
   "source": [
    "# Find largest prime factor\n",
    "number = 13195\n",
    "for index in range(number-1,2,-1):\n",
    "    # check if index is factor\n",
    "    if is_factor(number, index) and is_prime(index):\n",
    "        print(index)\n",
    "        break\n"
   ]
  }
 ],
 "metadata": {
  "kernelspec": {
   "display_name": "Python 3",
   "language": "python",
   "name": "python3"
  },
  "language_info": {
   "codemirror_mode": {
    "name": "ipython",
    "version": 3
   },
   "file_extension": ".py",
   "mimetype": "text/x-python",
   "name": "python",
   "nbconvert_exporter": "python",
   "pygments_lexer": "ipython3",
   "version": "3.11.4"
  }
 },
 "nbformat": 4,
 "nbformat_minor": 2
}
