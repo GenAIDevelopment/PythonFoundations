{
 "cells": [
  {
   "cell_type": "markdown",
   "metadata": {},
   "source": [
    "# Dictionary comprehensions"
   ]
  },
  {
   "cell_type": "code",
   "execution_count": 2,
   "metadata": {},
   "outputs": [],
   "source": [
    "numbers = [1,2,3,4,5,6]"
   ]
  },
  {
   "cell_type": "code",
   "execution_count": 3,
   "metadata": {},
   "outputs": [
    {
     "data": {
      "text/plain": [
       "{1: 1, 2: 4, 3: 9, 4: 16, 5: 25, 6: 36}"
      ]
     },
     "execution_count": 3,
     "metadata": {},
     "output_type": "execute_result"
    }
   ],
   "source": [
    "# create a dictionary with key as number and value as square of the number\n",
    "square_dict = dict()\n",
    "for number in numbers:\n",
    "    square_dict[number] = number * number\n",
    "square_dict"
   ]
  },
  {
   "cell_type": "code",
   "execution_count": 4,
   "metadata": {},
   "outputs": [
    {
     "data": {
      "text/plain": [
       "{1: 1, 2: 4, 3: 9, 4: 16, 5: 25, 6: 36}"
      ]
     },
     "execution_count": 4,
     "metadata": {},
     "output_type": "execute_result"
    }
   ],
   "source": [
    "# comprehension\n",
    "{ number: number * number  for number in numbers }"
   ]
  },
  {
   "cell_type": "code",
   "execution_count": 5,
   "metadata": {},
   "outputs": [
    {
     "data": {
      "text/plain": [
       "{2: 4, 4: 16, 6: 36}"
      ]
     },
     "execution_count": 5,
     "metadata": {},
     "output_type": "execute_result"
    }
   ],
   "source": [
    "# I want a dictionary with key as even number and value as square of the number\n",
    "square_dict = dict()\n",
    "for number in numbers:\n",
    "    if number % 2  == 0:\n",
    "        square_dict[number] = number * number\n",
    "square_dict"
   ]
  },
  {
   "cell_type": "code",
   "execution_count": 6,
   "metadata": {},
   "outputs": [
    {
     "data": {
      "text/plain": [
       "{2: 4, 4: 16, 6: 36}"
      ]
     },
     "execution_count": 6,
     "metadata": {},
     "output_type": "execute_result"
    }
   ],
   "source": [
    "{ number: number * number for number in numbers if number % 2 == 0}"
   ]
  },
  {
   "cell_type": "code",
   "execution_count": 7,
   "metadata": {},
   "outputs": [],
   "source": [
    "message = \"\"\"Star Indian batter and former Royal Challengers Bengaluru (RCB) \n",
    "captain Virat Kohli arrived in Bengaluru on Saturday ahead \n",
    "of the much-awaited Indian Premier League (IPL) 2025 season. \n",
    "The 36-year-old cricketing icon was spotted at the Bengaluru airport \n",
    "amid tight security, with videos of his arrival quickly going viral \n",
    "on social media. Kohli, who remains the highest run-scorer in IPL \n",
    "history with a staggering 8,004 runs in 252 matches, is set to join the RCB \n",
    "camp shortly. The legendary batter, known for his fierce passion and \n",
    "relentless dedication, will be preparing to support the team as they gear up \n",
    "for the new season under the leadership of newly appointed captain Rajat Patidar.\n",
    "\"\"\""
   ]
  },
  {
   "cell_type": "code",
   "execution_count": 10,
   "metadata": {},
   "outputs": [
    {
     "data": {
      "text/plain": [
       "{'Challengers': 1,\n",
       " 'Premier': 1,\n",
       " 'season.': 1,\n",
       " '(RCB)': 1,\n",
       " 'spotted': 1,\n",
       " 'team': 1,\n",
       " 'arrived': 1,\n",
       " 'batter': 1,\n",
       " 'dedication,': 1,\n",
       " 'security,': 1,\n",
       " 'arrival': 1,\n",
       " 'runs': 1,\n",
       " 'Star': 1,\n",
       " 'cricketing': 1,\n",
       " '8,004': 1,\n",
       " 'gear': 1,\n",
       " 'tight': 1,\n",
       " 'and': 2,\n",
       " 'ahead': 1,\n",
       " 'Kohli,': 1,\n",
       " '252': 1,\n",
       " 'Indian': 2,\n",
       " 'they': 1,\n",
       " 'preparing': 1,\n",
       " 'social': 1,\n",
       " '2025': 1,\n",
       " 'Royal': 1,\n",
       " 'under': 1,\n",
       " 'much-awaited': 1,\n",
       " 'Patidar.': 1,\n",
       " 'known': 1,\n",
       " 'was': 1,\n",
       " 'appointed': 1,\n",
       " 'videos': 1,\n",
       " 'Virat': 1,\n",
       " 'history': 1,\n",
       " 'remains': 1,\n",
       " 'in': 3,\n",
       " 'with': 2,\n",
       " 'his': 2,\n",
       " 'captain': 2,\n",
       " 'a': 1,\n",
       " 'for': 2,\n",
       " 'highest': 1,\n",
       " 'new': 1,\n",
       " 'League': 1,\n",
       " 'is': 1,\n",
       " 'of': 3,\n",
       " 'leadership': 1,\n",
       " 'Bengaluru': 3,\n",
       " 'airport': 1,\n",
       " 'join': 1,\n",
       " 'quickly': 1,\n",
       " 'who': 1,\n",
       " 'former': 1,\n",
       " 'on': 2,\n",
       " 'to': 2,\n",
       " 'Rajat': 1,\n",
       " 'at': 1,\n",
       " 'media.': 1,\n",
       " '(IPL)': 1,\n",
       " 'staggering': 1,\n",
       " 'as': 1,\n",
       " 'IPL': 1,\n",
       " 'batter,': 1,\n",
       " 'amid': 1,\n",
       " 'going': 1,\n",
       " 'icon': 1,\n",
       " 'season': 1,\n",
       " 'relentless': 1,\n",
       " 'camp': 1,\n",
       " 'passion': 1,\n",
       " 'legendary': 1,\n",
       " 'shortly.': 1,\n",
       " 'fierce': 1,\n",
       " 'the': 7,\n",
       " 'will': 1,\n",
       " 'The': 2,\n",
       " 'Saturday': 1,\n",
       " 'set': 1,\n",
       " 'RCB': 1,\n",
       " 'viral': 1,\n",
       " 'support': 1,\n",
       " '36-year-old': 1,\n",
       " 'be': 1,\n",
       " 'run-scorer': 1,\n",
       " 'matches,': 1,\n",
       " 'up': 1,\n",
       " 'newly': 1,\n",
       " 'Kohli': 1}"
      ]
     },
     "execution_count": 10,
     "metadata": {},
     "output_type": "execute_result"
    }
   ],
   "source": [
    "# find the word frequency\n",
    "words = message.split()\n",
    "frequency_dict = dict()\n",
    "unique_words = set(words)\n",
    "for unique_word in unique_words:\n",
    "    frequency_dict[unique_word] = words.count(unique_word)\n",
    "frequency_dict"
   ]
  },
  {
   "cell_type": "code",
   "execution_count": 14,
   "metadata": {},
   "outputs": [
    {
     "data": {
      "text/plain": [
       "{'Challengers': 1,\n",
       " 'Premier': 1,\n",
       " 'season.': 1,\n",
       " '(RCB)': 1,\n",
       " 'spotted': 1,\n",
       " 'team': 1,\n",
       " 'arrived': 1,\n",
       " 'batter': 1,\n",
       " 'dedication,': 1,\n",
       " 'security,': 1,\n",
       " 'arrival': 1,\n",
       " 'runs': 1,\n",
       " 'Star': 1,\n",
       " 'cricketing': 1,\n",
       " '8,004': 1,\n",
       " 'gear': 1,\n",
       " 'tight': 1,\n",
       " 'and': 2,\n",
       " 'ahead': 1,\n",
       " 'Kohli,': 1,\n",
       " '252': 1,\n",
       " 'Indian': 2,\n",
       " 'they': 1,\n",
       " 'preparing': 1,\n",
       " 'social': 1,\n",
       " '2025': 1,\n",
       " 'Royal': 1,\n",
       " 'under': 1,\n",
       " 'much-awaited': 1,\n",
       " 'Patidar.': 1,\n",
       " 'known': 1,\n",
       " 'was': 1,\n",
       " 'appointed': 1,\n",
       " 'videos': 1,\n",
       " 'Virat': 1,\n",
       " 'history': 1,\n",
       " 'remains': 1,\n",
       " 'in': 3,\n",
       " 'with': 2,\n",
       " 'his': 2,\n",
       " 'captain': 2,\n",
       " 'a': 1,\n",
       " 'for': 2,\n",
       " 'highest': 1,\n",
       " 'new': 1,\n",
       " 'League': 1,\n",
       " 'is': 1,\n",
       " 'of': 3,\n",
       " 'leadership': 1,\n",
       " 'Bengaluru': 3,\n",
       " 'airport': 1,\n",
       " 'join': 1,\n",
       " 'quickly': 1,\n",
       " 'who': 1,\n",
       " 'former': 1,\n",
       " 'on': 2,\n",
       " 'to': 2,\n",
       " 'Rajat': 1,\n",
       " 'at': 1,\n",
       " 'media.': 1,\n",
       " '(IPL)': 1,\n",
       " 'staggering': 1,\n",
       " 'as': 1,\n",
       " 'IPL': 1,\n",
       " 'batter,': 1,\n",
       " 'amid': 1,\n",
       " 'going': 1,\n",
       " 'icon': 1,\n",
       " 'season': 1,\n",
       " 'relentless': 1,\n",
       " 'camp': 1,\n",
       " 'passion': 1,\n",
       " 'legendary': 1,\n",
       " 'shortly.': 1,\n",
       " 'fierce': 1,\n",
       " 'the': 7,\n",
       " 'will': 1,\n",
       " 'The': 2,\n",
       " 'Saturday': 1,\n",
       " 'set': 1,\n",
       " 'RCB': 1,\n",
       " 'viral': 1,\n",
       " 'support': 1,\n",
       " '36-year-old': 1,\n",
       " 'be': 1,\n",
       " 'run-scorer': 1,\n",
       " 'matches,': 1,\n",
       " 'up': 1,\n",
       " 'newly': 1,\n",
       " 'Kohli': 1}"
      ]
     },
     "execution_count": 14,
     "metadata": {},
     "output_type": "execute_result"
    }
   ],
   "source": [
    "words = message.split()\n",
    "{ word: words.count(word)  for word in set(words) }"
   ]
  },
  {
   "cell_type": "code",
   "execution_count": 15,
   "metadata": {},
   "outputs": [],
   "source": [
    "colors_dict = {'red': 1, 'blue': 2, 'green': 3}\n",
    "# swap keys and values"
   ]
  },
  {
   "cell_type": "code",
   "execution_count": 16,
   "metadata": {},
   "outputs": [
    {
     "data": {
      "text/plain": [
       "{1: 'red', 2: 'blue', 3: 'green'}"
      ]
     },
     "execution_count": 16,
     "metadata": {},
     "output_type": "execute_result"
    }
   ],
   "source": [
    "reverse_dict = dict()\n",
    "for color,number in colors_dict.items():\n",
    "    reverse_dict[number] = color\n",
    "reverse_dict"
   ]
  },
  {
   "cell_type": "code",
   "execution_count": 17,
   "metadata": {},
   "outputs": [
    {
     "data": {
      "text/plain": [
       "{1: 'red', 2: 'blue', 3: 'green'}"
      ]
     },
     "execution_count": 17,
     "metadata": {},
     "output_type": "execute_result"
    }
   ],
   "source": [
    "{ number: color  for color, number in colors_dict.items() }"
   ]
  },
  {
   "cell_type": "code",
   "execution_count": 18,
   "metadata": {},
   "outputs": [],
   "source": [
    "# zip\n",
    "subjects = ['M', 'P', 'C', 'E', 'T']\n",
    "marks  = [100,100,100,100,99]"
   ]
  },
  {
   "cell_type": "code",
   "execution_count": 20,
   "metadata": {},
   "outputs": [
    {
     "data": {
      "text/plain": [
       "{'M': 100, 'P': 100, 'C': 100, 'E': 100, 'T': 99}"
      ]
     },
     "execution_count": 20,
     "metadata": {},
     "output_type": "execute_result"
    }
   ],
   "source": [
    "dict(zip(subjects,marks))"
   ]
  }
 ],
 "metadata": {
  "kernelspec": {
   "display_name": "Python 3",
   "language": "python",
   "name": "python3"
  },
  "language_info": {
   "codemirror_mode": {
    "name": "ipython",
    "version": 3
   },
   "file_extension": ".py",
   "mimetype": "text/x-python",
   "name": "python",
   "nbconvert_exporter": "python",
   "pygments_lexer": "ipython3",
   "version": "3.11.9"
  }
 },
 "nbformat": 4,
 "nbformat_minor": 2
}
