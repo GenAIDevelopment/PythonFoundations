{
 "cells": [
  {
   "cell_type": "markdown",
   "metadata": {},
   "source": [
    "# Common Sequence Methods\n",
    "\n",
    "* len\n",
    "* min\n",
    "* max\n",
    "* sum\n",
    "* index\n",
    "* sorted"
   ]
  },
  {
   "cell_type": "markdown",
   "metadata": {},
   "source": [
    "# Common methods between list and tuple\n",
    "\n",
    "* count"
   ]
  },
  {
   "cell_type": "code",
   "execution_count": 9,
   "metadata": {},
   "outputs": [],
   "source": [
    "# find the max occurence of a number \n",
    "items = [ 1, 2,3 ,3,4,5,2,1,5,3,5,7,5]"
   ]
  },
  {
   "cell_type": "code",
   "execution_count": 12,
   "metadata": {},
   "outputs": [
    {
     "name": "stdout",
     "output_type": "stream",
     "text": [
      "5 has more occurances with count 4\n"
     ]
    }
   ],
   "source": [
    "max_number = None\n",
    "max_count = 0\n",
    "for item in set(items):\n",
    "    item_count  = items.count(item)\n",
    "    if item_count > max_count:\n",
    "        max_number = item\n",
    "        max_count = item_count\n",
    "\n",
    "print(f\"{max_number} has more occurances with count {max_count}\")"
   ]
  },
  {
   "cell_type": "code",
   "execution_count": 18,
   "metadata": {},
   "outputs": [
    {
     "data": {
      "text/plain": [
       "5"
      ]
     },
     "execution_count": 18,
     "metadata": {},
     "output_type": "execute_result"
    }
   ],
   "source": [
    "max(items, key=items.count)"
   ]
  },
  {
   "cell_type": "code",
   "execution_count": 19,
   "metadata": {},
   "outputs": [],
   "source": [
    "colors = [\"white\", \"red\", \"blue\"]"
   ]
  },
  {
   "cell_type": "code",
   "execution_count": 20,
   "metadata": {},
   "outputs": [
    {
     "data": {
      "text/plain": [
       "'white'"
      ]
     },
     "execution_count": 20,
     "metadata": {},
     "output_type": "execute_result"
    }
   ],
   "source": [
    "max(colors, key=len)"
   ]
  },
  {
   "cell_type": "code",
   "execution_count": 22,
   "metadata": {},
   "outputs": [],
   "source": [
    "def message():\n",
    "    print(\"hello\")"
   ]
  },
  {
   "cell_type": "code",
   "execution_count": 23,
   "metadata": {},
   "outputs": [],
   "source": [
    "def print_message():\n",
    "    print(\"testing\")"
   ]
  },
  {
   "cell_type": "code",
   "execution_count": null,
   "metadata": {},
   "outputs": [],
   "source": [
    "def test(a):\n",
    "    a()"
   ]
  },
  {
   "cell_type": "code",
   "execution_count": 25,
   "metadata": {},
   "outputs": [
    {
     "name": "stdout",
     "output_type": "stream",
     "text": [
      "testing\n"
     ]
    }
   ],
   "source": [
    "test(print_message)"
   ]
  },
  {
   "cell_type": "code",
   "execution_count": 26,
   "metadata": {},
   "outputs": [
    {
     "name": "stdout",
     "output_type": "stream",
     "text": [
      "hello\n"
     ]
    }
   ],
   "source": [
    "test(message)"
   ]
  },
  {
   "cell_type": "code",
   "execution_count": 27,
   "metadata": {},
   "outputs": [],
   "source": [
    "numbers = [ 7, 4,3,1, 6, 8]"
   ]
  },
  {
   "cell_type": "code",
   "execution_count": 28,
   "metadata": {},
   "outputs": [
    {
     "data": {
      "text/plain": [
       "7"
      ]
     },
     "execution_count": 28,
     "metadata": {},
     "output_type": "execute_result"
    }
   ],
   "source": [
    "sorted(numbers)[-2]"
   ]
  },
  {
   "cell_type": "code",
   "execution_count": 29,
   "metadata": {},
   "outputs": [],
   "source": [
    "def is_prime(number: int) -> bool:\n",
    "    \"\"\"_summary_\n",
    "\n",
    "    Args:\n",
    "        number (int): _description_\n",
    "\n",
    "    Returns:\n",
    "        bool: _description_\n",
    "    \"\"\"\n",
    "    return_value = True\n",
    "    for index in range(2,number):\n",
    "        if number % index == 0:\n",
    "            return_value = False\n",
    "            break\n",
    "    return return_value"
   ]
  },
  {
   "cell_type": "code",
   "execution_count": 30,
   "metadata": {},
   "outputs": [
    {
     "data": {
      "text/plain": [
       "True"
      ]
     },
     "execution_count": 30,
     "metadata": {},
     "output_type": "execute_result"
    }
   ],
   "source": [
    "is_prime(7)"
   ]
  },
  {
   "cell_type": "code",
   "execution_count": 31,
   "metadata": {},
   "outputs": [
    {
     "data": {
      "text/plain": [
       "False"
      ]
     },
     "execution_count": 31,
     "metadata": {},
     "output_type": "execute_result"
    }
   ],
   "source": [
    "is_prime(70)"
   ]
  },
  {
   "cell_type": "code",
   "execution_count": null,
   "metadata": {},
   "outputs": [],
   "source": [
    "\n",
    "# function\n",
    "def get_all_primes(start=10, end=100):\n",
    "    primes = []\n",
    "    for number in range(start, end+1):\n",
    "        if is_prime(number):\n",
    "            primes.append(number)\n",
    "    return primes"
   ]
  },
  {
   "cell_type": "code",
   "execution_count": 33,
   "metadata": {},
   "outputs": [
    {
     "data": {
      "text/plain": [
       "[11, 13, 17, 19, 23, 29, 31, 37, 41, 43, 47]"
      ]
     },
     "execution_count": 33,
     "metadata": {},
     "output_type": "execute_result"
    }
   ],
   "source": [
    "get_all_primes(10,50)"
   ]
  },
  {
   "cell_type": "code",
   "execution_count": 38,
   "metadata": {},
   "outputs": [],
   "source": [
    "def get_all_primes(start=10, end=100):\n",
    "    for number in range(start, end+1):\n",
    "        if is_prime(number):\n",
    "            yield number"
   ]
  },
  {
   "cell_type": "code",
   "execution_count": 39,
   "metadata": {},
   "outputs": [
    {
     "name": "stdout",
     "output_type": "stream",
     "text": [
      "11\n",
      "13\n",
      "17\n",
      "19\n",
      "23\n",
      "29\n",
      "31\n",
      "37\n",
      "41\n",
      "43\n",
      "47\n"
     ]
    }
   ],
   "source": [
    "for prime in get_all_primes(10,50):\n",
    "    print(prime)"
   ]
  },
  {
   "cell_type": "code",
   "execution_count": 41,
   "metadata": {},
   "outputs": [
    {
     "name": "stdout",
     "output_type": "stream",
     "text": [
      "[11, 13, 17, 19]\n"
     ]
    }
   ],
   "source": [
    "# Get all prime numbers normal implementation\n",
    "primes = []\n",
    "for number in range(10, 20):\n",
    "    if is_prime(number):\n",
    "        primes.append(number)\n",
    "print(primes)"
   ]
  },
  {
   "cell_type": "code",
   "execution_count": null,
   "metadata": {},
   "outputs": [
    {
     "data": {
      "text/plain": [
       "[10, 11, 12, 13, 14, 15, 16, 17, 18, 19]"
      ]
     },
     "execution_count": 42,
     "metadata": {},
     "output_type": "execute_result"
    }
   ],
   "source": [
    "[ number for number in range(10,20) ]"
   ]
  },
  {
   "cell_type": "code",
   "execution_count": 43,
   "metadata": {},
   "outputs": [
    {
     "data": {
      "text/plain": [
       "[11, 13, 17, 19]"
      ]
     },
     "execution_count": 43,
     "metadata": {},
     "output_type": "execute_result"
    }
   ],
   "source": [
    "[ number for number in range(10,20) if is_prime(number) ]"
   ]
  },
  {
   "cell_type": "code",
   "execution_count": 44,
   "metadata": {},
   "outputs": [
    {
     "data": {
      "text/plain": [
       "[10, 12, 14, 16, 18]"
      ]
     },
     "execution_count": 44,
     "metadata": {},
     "output_type": "execute_result"
    }
   ],
   "source": [
    "[ number for number in range(10,20) if number%2 == 0 ]"
   ]
  },
  {
   "cell_type": "code",
   "execution_count": 46,
   "metadata": {},
   "outputs": [],
   "source": [
    "import re\n",
    "def is_valid_email(value: str) -> bool:\n",
    "    \"\"\"This method will check whether email id is valid or not\n",
    "\n",
    "    Args:\n",
    "        value (str): email id value passed\n",
    "\n",
    "    Returns:\n",
    "        bool: Returns True if email id false other wise\n",
    "    \"\"\"\n",
    "    pattern = \"^[a-zA-Z][a-zA-Z0-9._%+-]+@[a-zA-Z0-9.-]+\\.[a-zA-Z]{2,}$\"\n",
    "    result = re.match(pattern,value)\n",
    "    return result is not None"
   ]
  },
  {
   "cell_type": "code",
   "execution_count": 47,
   "metadata": {},
   "outputs": [],
   "source": [
    "email_list = [\n",
    "    \"example@example.com\",  # Valid\n",
    "    \"invalid-email\",  # Invalid - missing @ and domain\n",
    "    \"user@domain\",  # Invalid - missing TLD\n",
    "    \"test@example.co.uk\",  # Valid\n",
    "    \"another@example\",  # Invalid - missing TLD\n",
    "    \"info@subdomain.example.com\",  # Valid\n",
    "    \"@example.com\",  # Invalid - missing local part\n",
    "    \"user123@example.io\",  # Valid\n",
    "    \"invalid..email@example.com\",  # Invalid - consecutive dots in local part\n",
    "    \"valid_email@subdomain.example.co.uk\",  # Valid\n",
    "    \"user123@example\",  # Invalid - missing TLD\n",
    "    \"info@example.com.au\",  # Valid\n",
    "    \"invalid_email@example\",  # Invalid - missing TLD\n",
    "    \"user@example.example\",  # Invalid - not a valid TLD\n",
    "    \"valid_email@example.net\"  # Valid\n",
    "]\n"
   ]
  },
  {
   "cell_type": "code",
   "execution_count": 50,
   "metadata": {},
   "outputs": [
    {
     "data": {
      "text/plain": [
       "['example@example.com',\n",
       " 'test@example.co.uk',\n",
       " 'info@subdomain.example.com',\n",
       " 'user123@example.io',\n",
       " 'invalid..email@example.com',\n",
       " 'valid_email@subdomain.example.co.uk',\n",
       " 'info@example.com.au',\n",
       " 'user@example.example',\n",
       " 'valid_email@example.net']"
      ]
     },
     "execution_count": 50,
     "metadata": {},
     "output_type": "execute_result"
    }
   ],
   "source": [
    "[ email for email in email_list if is_valid_email(email)]"
   ]
  },
  {
   "cell_type": "code",
   "execution_count": 51,
   "metadata": {},
   "outputs": [
    {
     "data": {
      "text/plain": [
       "['EXAMPLE@EXAMPLE.COM',\n",
       " 'TEST@EXAMPLE.CO.UK',\n",
       " 'INFO@SUBDOMAIN.EXAMPLE.COM',\n",
       " 'USER123@EXAMPLE.IO',\n",
       " 'INVALID..EMAIL@EXAMPLE.COM',\n",
       " 'VALID_EMAIL@SUBDOMAIN.EXAMPLE.CO.UK',\n",
       " 'INFO@EXAMPLE.COM.AU',\n",
       " 'USER@EXAMPLE.EXAMPLE',\n",
       " 'VALID_EMAIL@EXAMPLE.NET']"
      ]
     },
     "execution_count": 51,
     "metadata": {},
     "output_type": "execute_result"
    }
   ],
   "source": [
    "[ email.upper() for email in email_list if is_valid_email(email)]"
   ]
  }
 ],
 "metadata": {
  "kernelspec": {
   "display_name": "Python 3",
   "language": "python",
   "name": "python3"
  },
  "language_info": {
   "codemirror_mode": {
    "name": "ipython",
    "version": 3
   },
   "file_extension": ".py",
   "mimetype": "text/x-python",
   "name": "python",
   "nbconvert_exporter": "python",
   "pygments_lexer": "ipython3",
   "version": "3.11.9"
  }
 },
 "nbformat": 4,
 "nbformat_minor": 2
}
