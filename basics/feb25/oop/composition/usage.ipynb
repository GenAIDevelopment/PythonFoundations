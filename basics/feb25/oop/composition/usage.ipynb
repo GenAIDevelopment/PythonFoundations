{
 "cells": [
  {
   "cell_type": "code",
   "execution_count": 19,
   "metadata": {},
   "outputs": [],
   "source": [
    "from restaurant.restaurant import Restaurant"
   ]
  },
  {
   "cell_type": "code",
   "execution_count": 20,
   "metadata": {},
   "outputs": [],
   "source": [
    "# lets create a pista house restaurant\n",
    "pista_house = Restaurant(\"Pista House\")"
   ]
  },
  {
   "cell_type": "code",
   "execution_count": 21,
   "metadata": {},
   "outputs": [],
   "source": [
    "# lets update address of Pista House\n",
    "from restaurant.utils import Address\n",
    "address = Address('39','Czech Colony, Sanath Nagar','Sanath Nagar Main Rd','500018','Hyderabad')\n",
    "pista_house.update_address(address)"
   ]
  },
  {
   "cell_type": "code",
   "execution_count": 22,
   "metadata": {},
   "outputs": [],
   "source": [
    "# lets add haleem and Zafrani chai to the menu\n",
    "from restaurant.food import FoodItem\n",
    "haleem = FoodItem(1, 'Haleem', 250, 'Specials')\n",
    "chai = FoodItem(2, 'Chai', 20, 'Hot Beverages')\n",
    "pista_house.add_food_items(haleem)\n",
    "pista_house.add_food_items(chai)"
   ]
  },
  {
   "cell_type": "code",
   "execution_count": 23,
   "metadata": {},
   "outputs": [
    {
     "name": "stdout",
     "output_type": "stream",
     "text": [
      "Haleem  250\n",
      "Chai  20\n"
     ]
    }
   ],
   "source": [
    "pista_house.menu.get_all_items()"
   ]
  },
  {
   "cell_type": "code",
   "execution_count": 24,
   "metadata": {},
   "outputs": [],
   "source": [
    "udipi_upahar = Restaurant(\"Udipi upahar\")\n",
    "address = Address('39','Czech Colony, Sanath Nagar','Sanath Nagar Main Rd','500018','Hyderabad')\n",
    "udipi_upahar.update_address(address)\n"
   ]
  },
  {
   "cell_type": "code",
   "execution_count": 25,
   "metadata": {},
   "outputs": [],
   "source": [
    "idly = FoodItem(1, \"Idli\", 40, \"Breakfast\")\n",
    "dosa = FoodItem(2, \"Dosa\", 60, \"Breakfast\")"
   ]
  },
  {
   "cell_type": "code",
   "execution_count": 26,
   "metadata": {},
   "outputs": [],
   "source": [
    "udipi_upahar.add_food_items(idly)\n",
    "udipi_upahar.add_food_items(dosa)"
   ]
  },
  {
   "cell_type": "code",
   "execution_count": 27,
   "metadata": {},
   "outputs": [
    {
     "name": "stdout",
     "output_type": "stream",
     "text": [
      "Idli  40\n",
      "Dosa  60\n"
     ]
    }
   ],
   "source": [
    "udipi_upahar.menu.get_all_items()"
   ]
  }
 ],
 "metadata": {
  "kernelspec": {
   "display_name": "Python 3",
   "language": "python",
   "name": "python3"
  },
  "language_info": {
   "codemirror_mode": {
    "name": "ipython",
    "version": 3
   },
   "file_extension": ".py",
   "mimetype": "text/x-python",
   "name": "python",
   "nbconvert_exporter": "python",
   "pygments_lexer": "ipython3",
   "version": "3.11.4"
  }
 },
 "nbformat": 4,
 "nbformat_minor": 2
}
