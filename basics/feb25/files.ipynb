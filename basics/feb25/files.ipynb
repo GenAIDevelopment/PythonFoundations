{
 "cells": [
  {
   "cell_type": "markdown",
   "metadata": {},
   "source": [
    "# Files"
   ]
  },
  {
   "cell_type": "code",
   "execution_count": 2,
   "metadata": {},
   "outputs": [],
   "source": [
    "even_numbers = [ number for number in range(10,20) if number%2 == 0]"
   ]
  },
  {
   "cell_type": "code",
   "execution_count": 16,
   "metadata": {},
   "outputs": [],
   "source": [
    "file = open(\"even_numbers.txt\", 'w')\n",
    "for number in even_numbers:\n",
    "    file.write(f\"{number} is even\\n\")\n",
    "file.close()"
   ]
  },
  {
   "cell_type": "code",
   "execution_count": 10,
   "metadata": {},
   "outputs": [
    {
     "name": "stdout",
     "output_type": "stream",
     "text": [
      "10 is even\n",
      "\n",
      "12 is even\n",
      "\n",
      "14 is even\n",
      "\n",
      "16 is even\n",
      "\n",
      "18 is even\n",
      "\n"
     ]
    }
   ],
   "source": [
    "# lets read from the file\n",
    "file = open(\"even_numbers.txt\", \"r\")\n",
    "for line in file.readlines():\n",
    "    if line.strip() != \"\":\n",
    "        print(line)"
   ]
  },
  {
   "cell_type": "code",
   "execution_count": 15,
   "metadata": {},
   "outputs": [],
   "source": [
    "file = open(\"even_numbers.txt\", 'a')\n",
    "for number in even_numbers:\n",
    "    file.write(f\"{number} is even\\n\")\n",
    "file.close()"
   ]
  },
  {
   "cell_type": "code",
   "execution_count": 17,
   "metadata": {},
   "outputs": [],
   "source": [
    "# with style\n",
    "\n",
    "with open(\"even_numbers.txt\", \"w\") as file:\n",
    "    lines = [ f\"{number} is even\"  for number in even_numbers ]\n",
    "    file.writelines(lines)"
   ]
  }
 ],
 "metadata": {
  "kernelspec": {
   "display_name": "Python 3",
   "language": "python",
   "name": "python3"
  },
  "language_info": {
   "codemirror_mode": {
    "name": "ipython",
    "version": 3
   },
   "file_extension": ".py",
   "mimetype": "text/x-python",
   "name": "python",
   "nbconvert_exporter": "python",
   "pygments_lexer": "ipython3",
   "version": "3.11.9"
  }
 },
 "nbformat": 4,
 "nbformat_minor": 2
}
