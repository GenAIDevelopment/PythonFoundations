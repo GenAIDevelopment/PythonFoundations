{
 "cells": [
  {
   "cell_type": "markdown",
   "metadata": {},
   "source": [
    "# while loops in python\n",
    "* Ideal case: When the number of times i have to loop is not deterministic\n",
    "* syntax\n",
    "```\n",
    "while <expression>:\n",
    "   ...\n",
    "   ...\n",
    "```\n",
    "* As long as expression is true we will be looping the statements in while"
   ]
  },
  {
   "cell_type": "code",
   "execution_count": 1,
   "metadata": {},
   "outputs": [
    {
     "name": "stdout",
     "output_type": "stream",
     "text": [
      "Starting the while\n",
      "0\n",
      "1\n",
      "2\n",
      "3\n",
      "4\n",
      "while completed\n"
     ]
    }
   ],
   "source": [
    "\n",
    "index = 0\n",
    "print(\"Starting the while\")\n",
    "while index < 5:\n",
    "    print(index)\n",
    "    index += 1\n",
    "print(\"while completed\")\n"
   ]
  },
  {
   "cell_type": "code",
   "execution_count": 2,
   "metadata": {},
   "outputs": [
    {
     "name": "stdout",
     "output_type": "stream",
     "text": [
      "Started\n",
      "0\n",
      "1\n",
      "2\n",
      "Completed\n"
     ]
    }
   ],
   "source": [
    "# using break\n",
    "index = 0\n",
    "print(\"Started\")\n",
    "while True:\n",
    "    print(index)\n",
    "    index += 1\n",
    "    if index >= 3:\n",
    "        break # break out of the loop\n",
    "print(\"Completed\")"
   ]
  },
  {
   "cell_type": "code",
   "execution_count": null,
   "metadata": {},
   "outputs": [
    {
     "name": "stdout",
     "output_type": "stream",
     "text": [
      "Started\n",
      "1\n",
      "3\n",
      "5\n",
      "7\n",
      "9\n",
      "11\n",
      "Completed\n"
     ]
    }
   ],
   "source": [
    "# continue\n",
    "index = 0\n",
    "print(\"Started\")\n",
    "while index <= 10:\n",
    "    index += 1\n",
    "    if index%2 == 0:\n",
    "        continue  # skip one iteration                                                               \n",
    "    print(index)\n",
    "print(\"Completed\")\n",
    "\n"
   ]
  },
  {
   "cell_type": "code",
   "execution_count": 7,
   "metadata": {},
   "outputs": [
    {
     "name": "stdout",
     "output_type": "stream",
     "text": [
      "23\n"
     ]
    }
   ],
   "source": [
    "# Project euler 1\n",
    "result = 0\n",
    "max = 10\n",
    "index = 1\n",
    "while index < max:\n",
    "    if (index % 3 == 0) or (index % 5 == 0) :\n",
    "        result += index\n",
    "    index += 1\n",
    "print(result)"
   ]
  },
  {
   "cell_type": "code",
   "execution_count": 14,
   "metadata": {},
   "outputs": [
    {
     "name": "stdout",
     "output_type": "stream",
     "text": [
      "1,23,5,8,13,21,34,55,89,144,233,377,610,987,1597,2584,4181,6765,10946,17711,28657,46368,75025,121393,196418,317811,514229,832040,1346269,2178309,3524578,\n",
      "4613732\n"
     ]
    }
   ],
   "source": [
    "first = 1\n",
    "second = 2\n",
    "print(1,end=',')\n",
    "print(2,end='')\n",
    "max = 4000000\n",
    "sum = 2\n",
    "while first + second < max:\n",
    "    third = first + second\n",
    "    print(third,end=',')\n",
    "    # is third an even number\n",
    "    if third % 2 == 0:\n",
    "        sum += third\n",
    "    first = second\n",
    "    second = third\n",
    "print()\n",
    "print(sum)"
   ]
  },
  {
   "cell_type": "markdown",
   "metadata": {},
   "source": [
    "# for loop\n",
    "\n",
    "* For in python is used for deterministic loops as you don't need indexing\n",
    "* for loops are generally used on sequence datatypes\n",
    "* for in python is for each item in a sequence\n",
    "\n"
   ]
  },
  {
   "cell_type": "code",
   "execution_count": 16,
   "metadata": {},
   "outputs": [
    {
     "name": "stdout",
     "output_type": "stream",
     "text": [
      "[1, 2, 3, 4, 5, 6, 7, 8, 9]\n"
     ]
    }
   ],
   "source": [
    "# range \n",
    "print(list(range(1,10)))"
   ]
  },
  {
   "cell_type": "code",
   "execution_count": 17,
   "metadata": {},
   "outputs": [
    {
     "name": "stdout",
     "output_type": "stream",
     "text": [
      "1\n",
      "2\n",
      "3\n",
      "4\n",
      "5\n",
      "6\n",
      "7\n",
      "8\n",
      "9\n"
     ]
    }
   ],
   "source": [
    "for index in range(1,10):\n",
    "    print(index)"
   ]
  }
 ],
 "metadata": {
  "kernelspec": {
   "display_name": "Python 3",
   "language": "python",
   "name": "python3"
  },
  "language_info": {
   "codemirror_mode": {
    "name": "ipython",
    "version": 3
   },
   "file_extension": ".py",
   "mimetype": "text/x-python",
   "name": "python",
   "nbconvert_exporter": "python",
   "pygments_lexer": "ipython3",
   "version": "3.11.4"
  }
 },
 "nbformat": 4,
 "nbformat_minor": 2
}
