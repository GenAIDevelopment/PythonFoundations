{
 "cells": [
  {
   "cell_type": "markdown",
   "metadata": {},
   "source": [
    "# CSV"
   ]
  },
  {
   "cell_type": "code",
   "execution_count": 1,
   "metadata": {},
   "outputs": [],
   "source": [
    "import csv"
   ]
  },
  {
   "cell_type": "markdown",
   "metadata": {},
   "source": [
    "* csv file contents below\n",
    "\n",
    "```\n",
    "sno,name\n",
    "1,abc\n",
    "2,bcd\n",
    "3,cde\n",
    "```"
   ]
  },
  {
   "cell_type": "code",
   "execution_count": 2,
   "metadata": {},
   "outputs": [
    {
     "name": "stdout",
     "output_type": "stream",
     "text": [
      "<_csv.reader object at 0x000001F5BDF79900>\n",
      "<class '_csv.reader'>\n",
      "['sno', 'name']\n",
      "<class 'list'>\n",
      "['1', 'abc']\n",
      "<class 'list'>\n",
      "['2', 'bcd']\n",
      "<class 'list'>\n",
      "['3', 'cde']\n",
      "<class 'list'>\n"
     ]
    }
   ],
   "source": [
    "with open('test.csv', 'r') as csv_file:\n",
    "    name_reader = csv.reader(csv_file)\n",
    "    print(name_reader)\n",
    "    print(type(name_reader))\n",
    "    for row in name_reader:\n",
    "        print(row)\n",
    "        print(type(row))"
   ]
  },
  {
   "cell_type": "code",
   "execution_count": 3,
   "metadata": {},
   "outputs": [
    {
     "name": "stdout",
     "output_type": "stream",
     "text": [
      "<_csv.reader object at 0x000001F5BDF7A200>\n",
      "['sno', 'name']\n",
      "['1', 'abc']\n",
      "['2', 'bcd']\n",
      "['3', 'cde']\n"
     ]
    }
   ],
   "source": [
    "with open('test.csv', 'r') as csv_file:\n",
    "    name_reader = csv.reader(csv_file)\n",
    "    print(name_reader)\n",
    "    for row in name_reader:\n",
    "        print(row)"
   ]
  },
  {
   "cell_type": "code",
   "execution_count": 4,
   "metadata": {},
   "outputs": [],
   "source": [
    "rows = []\n",
    "while True:\n",
    "    row = []\n",
    "    row.append(input(\"Enter number\"))\n",
    "    row.append(input(\"Enter name\"))\n",
    "    rows.append(row)\n",
    "    if input(\"Enter your choice: \").lower() != \"y\":\n",
    "        break"
   ]
  },
  {
   "cell_type": "code",
   "execution_count": 5,
   "metadata": {},
   "outputs": [
    {
     "data": {
      "text/plain": [
       "[['1', '1']]"
      ]
     },
     "execution_count": 5,
     "metadata": {},
     "output_type": "execute_result"
    }
   ],
   "source": [
    "rows"
   ]
  },
  {
   "cell_type": "code",
   "execution_count": 6,
   "metadata": {},
   "outputs": [],
   "source": [
    "# lets write this to csv\n",
    "with open(\"csv_write.csv\", \"w\") as csv_file:\n",
    "    csv_writer = csv.writer(csv_file)\n",
    "    csv_writer.writerows(rows)\n",
    "        "
   ]
  },
  {
   "cell_type": "markdown",
   "metadata": {},
   "source": [
    "# json"
   ]
  },
  {
   "cell_type": "code",
   "execution_count": 7,
   "metadata": {},
   "outputs": [],
   "source": [
    "import json"
   ]
  },
  {
   "cell_type": "code",
   "execution_count": 8,
   "metadata": {},
   "outputs": [],
   "source": [
    "movie_dict = {\n",
    "    'bahubali': {\n",
    "        'director': 'ss rajamouli',\n",
    "        'actors': [ 'Prabhas', 'Rana']\n",
    "    },\n",
    "    'rrr': {\n",
    "        'director': 'ss rajamouli',\n",
    "        'actors': [ 'RamCharan', 'NTR']\n",
    "    }\n",
    "}"
   ]
  },
  {
   "cell_type": "code",
   "execution_count": 9,
   "metadata": {},
   "outputs": [],
   "source": [
    "with open(\"movies.json\", \"w\") as movies_file:\n",
    "    json.dump(movie_dict,movies_file,indent=4)"
   ]
  },
  {
   "cell_type": "code",
   "execution_count": 10,
   "metadata": {},
   "outputs": [
    {
     "name": "stdout",
     "output_type": "stream",
     "text": [
      "{'bahubali': {'director': 'ss rajamouli', 'actors': ['Prabhas', 'Rana']}, 'rrr': {'director': 'ss rajamouli', 'actors': ['RamCharan', 'NTR']}}\n"
     ]
    }
   ],
   "source": [
    "with open(\"movies.json\", \"r\") as movies_file:\n",
    "    movie_dict = json.load(movies_file)\n",
    "    print(movie_dict)"
   ]
  },
  {
   "cell_type": "markdown",
   "metadata": {},
   "source": [
    "# YAML"
   ]
  },
  {
   "cell_type": "code",
   "execution_count": 11,
   "metadata": {},
   "outputs": [],
   "source": [
    "movie_dict = {\n",
    "    'bahubali': {\n",
    "        'director': 'ss rajamouli',\n",
    "        'actors': [ 'Prabhas', 'Rana']\n",
    "    },\n",
    "    'rrr': {\n",
    "        'director': 'ss rajamouli',\n",
    "        'actors': [ 'RamCharan', 'NTR']\n",
    "    }\n",
    "}"
   ]
  },
  {
   "cell_type": "code",
   "execution_count": 12,
   "metadata": {},
   "outputs": [],
   "source": [
    "import yaml"
   ]
  },
  {
   "cell_type": "code",
   "execution_count": 13,
   "metadata": {},
   "outputs": [],
   "source": [
    "with open(\"movies.yaml\", \"w\") as movie_file:\n",
    "    yaml.dump(movie_dict,movie_file)"
   ]
  },
  {
   "cell_type": "code",
   "execution_count": 14,
   "metadata": {},
   "outputs": [
    {
     "name": "stdout",
     "output_type": "stream",
     "text": [
      "{'bahubali': {'actors': ['Prabhas', 'Rana'], 'director': 'ss rajamouli'}, 'rrr': {'actors': ['RamCharan', 'NTR'], 'director': 'ss rajamouli'}}\n"
     ]
    }
   ],
   "source": [
    "movie_dict = dict()\n",
    "with open(\"movies.yaml\", \"r\") as movie_file:\n",
    "    movie_dict = yaml.safe_load(movie_file)\n",
    "    print(movie_dict)"
   ]
  }
 ],
 "metadata": {
  "kernelspec": {
   "display_name": "venv",
   "language": "python",
   "name": "python3"
  },
  "language_info": {
   "codemirror_mode": {
    "name": "ipython",
    "version": 3
   },
   "file_extension": ".py",
   "mimetype": "text/x-python",
   "name": "python",
   "nbconvert_exporter": "python",
   "pygments_lexer": "ipython3",
   "version": "3.11.9"
  }
 },
 "nbformat": 4,
 "nbformat_minor": 2
}
