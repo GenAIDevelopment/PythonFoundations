{
 "cells": [
  {
   "cell_type": "markdown",
   "metadata": {},
   "source": [
    "# CSV"
   ]
  },
  {
   "cell_type": "code",
   "execution_count": 1,
   "metadata": {},
   "outputs": [],
   "source": [
    "import csv"
   ]
  },
  {
   "cell_type": "markdown",
   "metadata": {},
   "source": [
    "* csv file contents below\n",
    "\n",
    "```\n",
    "sno,name\n",
    "1,abc\n",
    "2,bcd\n",
    "3,cde\n",
    "```"
   ]
  },
  {
   "cell_type": "code",
   "execution_count": 3,
   "metadata": {},
   "outputs": [
    {
     "name": "stdout",
     "output_type": "stream",
     "text": [
      "<_csv.reader object at 0x000001F7E090F820>\n",
      "<class '_csv.reader'>\n",
      "['sno', 'name']\n",
      "<class 'list'>\n",
      "['1', 'abc']\n",
      "<class 'list'>\n",
      "['2', 'bcd']\n",
      "<class 'list'>\n",
      "['3', 'cde']\n",
      "<class 'list'>\n"
     ]
    }
   ],
   "source": [
    "with open('test.csv', 'r') as csv_file:\n",
    "    name_reader = csv.reader(csv_file)\n",
    "    print(name_reader)\n",
    "    print(type(name_reader))\n",
    "    for row in name_reader:\n",
    "        print(row)\n",
    "        print(type(row))"
   ]
  },
  {
   "cell_type": "code",
   "execution_count": 4,
   "metadata": {},
   "outputs": [
    {
     "name": "stdout",
     "output_type": "stream",
     "text": [
      "<_csv.reader object at 0x000001F7E09A0160>\n",
      "['sno', 'name']\n",
      "['1', 'abc']\n",
      "['2', 'bcd']\n",
      "['3', 'cde']\n"
     ]
    }
   ],
   "source": [
    "with open('test.csv', 'r') as csv_file:\n",
    "    name_reader = csv.reader(csv_file)\n",
    "    print(name_reader)\n",
    "    for row in name_reader:\n",
    "        print(row)"
   ]
  },
  {
   "cell_type": "code",
   "execution_count": 6,
   "metadata": {},
   "outputs": [],
   "source": [
    "rows = []\n",
    "while True:\n",
    "    row = []\n",
    "    row.append(input(\"Enter number\"))\n",
    "    row.append(input(\"Enter name\"))\n",
    "    rows.append(row)\n",
    "    if input(\"Enter your choice: \").lower() != \"y\":\n",
    "        break"
   ]
  },
  {
   "cell_type": "code",
   "execution_count": 7,
   "metadata": {},
   "outputs": [
    {
     "data": {
      "text/plain": [
       "[['1', 'abc'], ['2', 'bcd'], ['3', 'cde']]"
      ]
     },
     "execution_count": 7,
     "metadata": {},
     "output_type": "execute_result"
    }
   ],
   "source": [
    "rows"
   ]
  },
  {
   "cell_type": "code",
   "execution_count": 8,
   "metadata": {},
   "outputs": [],
   "source": [
    "# lets write this to csv\n",
    "with open(\"csv_write.csv\", \"w\") as csv_file:\n",
    "    csv_writer = csv.writer(csv_file)\n",
    "    csv_writer.writerows(rows)\n",
    "        "
   ]
  }
 ],
 "metadata": {
  "kernelspec": {
   "display_name": "Python 3",
   "language": "python",
   "name": "python3"
  },
  "language_info": {
   "codemirror_mode": {
    "name": "ipython",
    "version": 3
   },
   "file_extension": ".py",
   "mimetype": "text/x-python",
   "name": "python",
   "nbconvert_exporter": "python",
   "pygments_lexer": "ipython3",
   "version": "3.11.9"
  }
 },
 "nbformat": 4,
 "nbformat_minor": 2
}
