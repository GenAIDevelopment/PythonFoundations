{
 "cells": [
  {
   "cell_type": "markdown",
   "metadata": {},
   "source": [
    "# Lets explore conditionals\n",
    "\n",
    "* if\n",
    "* if else\n",
    "* if elif else\n",
    "* ternary operator"
   ]
  },
  {
   "cell_type": "markdown",
   "metadata": {
    "vscode": {
     "languageId": "plaintext"
    }
   },
   "source": [
    "# if syntax\n",
    "\n",
    "....\n",
    "if <expression>:\n",
    "   ....\n",
    "   ....\n",
    "   ....\n",
    "...."
   ]
  },
  {
   "cell_type": "code",
   "execution_count": 3,
   "metadata": {},
   "outputs": [
    {
     "name": "stdout",
     "output_type": "stream",
     "text": [
      "aadhar card\n",
      "birth certificate\n",
      "pan card\n"
     ]
    }
   ],
   "source": [
    "age = 12\n",
    "if age > 18:\n",
    "   print(\"voter id\")\n",
    "   print(\"driving license\")\n",
    "print(\"aadhar card\")\n",
    "print(\"birth certificate\")\n",
    "print(\"pan card\")\n"
   ]
  },
  {
   "cell_type": "code",
   "execution_count": 4,
   "metadata": {},
   "outputs": [
    {
     "name": "stdout",
     "output_type": "stream",
     "text": [
      "voter id\n",
      "driving license\n",
      "aadhar card\n",
      "birth certificate\n",
      "pan card\n"
     ]
    }
   ],
   "source": [
    "age = 22\n",
    "if age > 18:\n",
    "   print(\"voter id\")\n",
    "   print(\"driving license\")\n",
    "print(\"aadhar card\")\n",
    "print(\"birth certificate\")\n",
    "print(\"pan card\")"
   ]
  },
  {
   "cell_type": "markdown",
   "metadata": {},
   "source": [
    "# if else\n",
    "* Syntax\n",
    "```\n",
    "....\n",
    "if <expresion>:\n",
    "   ....\n",
    "   ....\n",
    "else:\n",
    "   ....\n",
    "   ....\n",
    "....\n",
    "```"
   ]
  },
  {
   "cell_type": "code",
   "execution_count": 7,
   "metadata": {},
   "outputs": [
    {
     "name": "stdout",
     "output_type": "stream",
     "text": [
      "voter id\n",
      "driving license\n",
      "Ayushman Bharat\n",
      "aadhar card\n",
      "birth certificate\n",
      "pan card\n"
     ]
    }
   ],
   "source": [
    "age = 62\n",
    "if age > 18:\n",
    "   print(\"voter id\")\n",
    "   print(\"driving license\")\n",
    "if age > 60:\n",
    "   print(\"Ayushman Bharat\")\n",
    "print(\"aadhar card\")\n",
    "print(\"birth certificate\")\n",
    "print(\"pan card\")"
   ]
  },
  {
   "cell_type": "code",
   "execution_count": 8,
   "metadata": {},
   "outputs": [
    {
     "name": "stdout",
     "output_type": "stream",
     "text": [
      "Pay Taxes\n",
      "Pay GST\n"
     ]
    }
   ],
   "source": [
    "occupation = 'salaried'\n",
    "if occupation == 'salaried':\n",
    "    print('Pay Taxes')\n",
    "else:\n",
    "    print('Can avoid Taxes')\n",
    "print('Pay GST')"
   ]
  },
  {
   "cell_type": "code",
   "execution_count": 9,
   "metadata": {},
   "outputs": [
    {
     "name": "stdout",
     "output_type": "stream",
     "text": [
      "Can avoid Taxes\n",
      "Pay GST\n"
     ]
    }
   ],
   "source": [
    "occupation = 'self-employed'\n",
    "if occupation == 'salaried':\n",
    "    print('Pay Taxes')\n",
    "else:\n",
    "    print('Can avoid Taxes')\n",
    "print('Pay GST')"
   ]
  },
  {
   "cell_type": "code",
   "execution_count": 11,
   "metadata": {},
   "outputs": [
    {
     "name": "stdout",
     "output_type": "stream",
     "text": [
      "price = 354.0\n"
     ]
    }
   ],
   "source": [
    "# gst on pop corn\n",
    "popcorn_type = 'caramel'\n",
    "price = 300\n",
    "gst = 0\n",
    "if popcorn_type == 'plain':\n",
    "    gst = 5/100\n",
    "elif popcorn_type == 'caramel':\n",
    "    gst = 18/100\n",
    "elif popcorn_type == 'salted':\n",
    "    gst = 12/100\n",
    "total_price = price + price * gst\n",
    "print(f\"price = {total_price}\")\n",
    "    "
   ]
  },
  {
   "cell_type": "code",
   "execution_count": 13,
   "metadata": {},
   "outputs": [
    {
     "name": "stdout",
     "output_type": "stream",
     "text": [
      "100000\n"
     ]
    }
   ],
   "source": [
    "education_type = 'school'\n",
    "fees = 100000\n",
    "gst = 0\n",
    "if education_type == 'school':\n",
    "    gst = 0\n",
    "else:\n",
    "    gst = 18/100\n",
    "total_fees = fees + fees * gst\n",
    "print(total_fees)"
   ]
  },
  {
   "cell_type": "code",
   "execution_count": 14,
   "metadata": {},
   "outputs": [
    {
     "name": "stdout",
     "output_type": "stream",
     "text": [
      "118000.0\n"
     ]
    }
   ],
   "source": [
    "education_type = 'professional'\n",
    "fees = 100000\n",
    "gst = 0\n",
    "if education_type == 'school':\n",
    "    gst = 0\n",
    "else:\n",
    "    gst = 18/100\n",
    "total_fees = fees + fees * gst\n",
    "print(total_fees)"
   ]
  },
  {
   "cell_type": "code",
   "execution_count": null,
   "metadata": {},
   "outputs": [],
   "source": [
    "education_type = 'professional'\n",
    "fees = 100000\n",
    "# ternary operator\n",
    "gst = 0 if education_type == 'school' else 18/100\n",
    "total_fees = fees + fees * gst\n",
    "print(total_fees)"
   ]
  },
  {
   "cell_type": "markdown",
   "metadata": {},
   "source": [
    "# Income Tax calculator\n",
    "\n",
    "* Note this might not be comprehensive calculator"
   ]
  },
  {
   "cell_type": "markdown",
   "metadata": {},
   "source": [
    "Here are the new income tax slab rates in India for the financial year 2025-26 under the new tax regime:\n",
    "\n",
    "| **Income Range** | **Tax Rate** |\n",
    "|------------------|-------------|\n",
    "| ₹0 to ₹4,00,000  | Nil         |\n",
    "| ₹4,00,001 to ₹8,00,000 | 5%       |\n",
    "| ₹8,00,001 to ₹12,00,000 | 10%      |\n",
    "| ₹12,00,001 to ₹16,00,000 | 15%      |\n",
    "| ₹16,00,001 to ₹20,00,000 | 20%      |\n",
    "| ₹20,00,001 to ₹24,00,000 | 25%      |\n",
    "| Above ₹24,00,000 | 30%        |\n",
    "\n",
    "### Example Calculation\n",
    "\n",
    "Let's calculate the income tax for an employee with a gross income of ₹18,00,000.\n",
    "\n",
    "1. **Gross Income**: ₹18,00,000\n",
    "2. **Standard Deduction**: ₹75,000 (for salaried individuals)\n",
    "3. **Net Taxable Income**: ₹18,00,000 - ₹75,000 = ₹17,25,000\n",
    "\n",
    "Now, let's apply the tax rates:\n",
    "\n",
    "- **Up to ₹4,00,000**: Nil\n",
    "- **₹4,00,001 to ₹8,00,000**: 5% on ₹4,00,000 = ₹2,00,000\n",
    "  - Tax = ₹2,00,000 * 5% = ₹10,000\n",
    "- **₹8,00,001 to ₹12,00,000**: 10% on ₹4,00,000 = ₹40,000\n",
    "  - Tax = ₹40,000 * 10% = ₹4,000\n",
    "- **₹12,00,001 to ₹16,00,000**: 15% on ₹4,00,000 = ₹60,000\n",
    "  - Tax = ₹60,000 * 15% = ₹9,000\n",
    "- **₹16,00,001 to ₹17,25,000**: 20% on ₹1,25,000\n",
    "  - Tax = ₹1,25,000 * 20% = ₹25,000\n",
    "\n",
    "**Total Tax Liability**: ₹10,000 + ₹4,000 + ₹9,000 + ₹25,000 = ₹48,000\n",
    "\n",
    "Note: This calculation does not include any additional deductions or surcharges that might apply. \n",
    "\n",
    "Also, remember that income up to ₹12,00,000 will have zero tax liability due to the increased rebate under the new regime, but this example exceeds that threshold[2][3][5].\n",
    "\n",
    "Citations:\n",
    "[1] https://groww.in/p/tax/income-tax-slab\n",
    "[2] https://www.bankbazaar.com/tax/how-calculate-income-tax-on-salary-with-example.html\n",
    "[3] https://www.bajajfinserv.in/investments/income-tax-slabs\n",
    "[4] https://tax2win.in/guide/income-tax-slabs\n",
    "[5] https://cleartax.in/s/income-tax-slabs\n",
    "[6] https://www.hdfclife.com/insurance-knowledge-centre/tax-saving-insurance/income-tax-slab-rates\n",
    "[7] https://economictimes.com/wealth/income-tax-slabs\n",
    "[8] https://timesofindia.indiatimes.com/business/india-business/income-tax-slabs-fy-2025-26-explained-20-faqs-individual-taxpayers-should-check-to-understand-tax-rates-income-tax-benefit-under-new-tax-regime/articleshow/117941315.cms\n",
    "[9] https://www.maxlifeinsurance.com/blog/tax-savings/income-tax-slab-2024-25\n",
    "\n"
   ]
  }
 ],
 "metadata": {
  "kernelspec": {
   "display_name": "Python 3",
   "language": "python",
   "name": "python3"
  },
  "language_info": {
   "codemirror_mode": {
    "name": "ipython",
    "version": 3
   },
   "file_extension": ".py",
   "mimetype": "text/x-python",
   "name": "python",
   "nbconvert_exporter": "python",
   "pygments_lexer": "ipython3",
   "version": "3.11.4"
  }
 },
 "nbformat": 4,
 "nbformat_minor": 2
}
